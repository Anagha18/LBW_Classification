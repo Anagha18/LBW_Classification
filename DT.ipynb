{
 "cells": [
  {
   "cell_type": "code",
   "execution_count": 3,
   "metadata": {},
   "outputs": [],
   "source": [
    "#Import Statements"
   ]
  },
  {
   "cell_type": "code",
   "execution_count": 4,
   "metadata": {},
   "outputs": [],
   "source": [
    "import numpy as np\n",
    "import pandas as pd\n",
    "import matplotlib.pyplot as plt\n",
    "import seaborn as sns\n",
    "import time"
   ]
  },
  {
   "cell_type": "code",
   "execution_count": 5,
   "metadata": {},
   "outputs": [],
   "source": [
    "#display matplotlib graphs in the notebook"
   ]
  },
  {
   "cell_type": "code",
   "execution_count": 6,
   "metadata": {},
   "outputs": [],
   "source": [
    "import random\n",
    "from pprint import pprint"
   ]
  },
  {
   "cell_type": "markdown",
   "metadata": {},
   "source": [
    "#Load and prepare data\n",
    "#The code doesn't take in 0.1 to represent the 10% of the data, it takes in numbers"
   ]
  },
  {
   "cell_type": "code",
   "execution_count": 7,
   "metadata": {},
   "outputs": [
    {
     "data": {
      "text/html": [
       "<div>\n",
       "<style scoped>\n",
       "    .dataframe tbody tr th:only-of-type {\n",
       "        vertical-align: middle;\n",
       "    }\n",
       "\n",
       "    .dataframe tbody tr th {\n",
       "        vertical-align: top;\n",
       "    }\n",
       "\n",
       "    .dataframe thead th {\n",
       "        text-align: right;\n",
       "    }\n",
       "</style>\n",
       "<table border=\"1\" class=\"dataframe\">\n",
       "  <thead>\n",
       "    <tr style=\"text-align: right;\">\n",
       "      <th></th>\n",
       "      <th>community</th>\n",
       "      <th>age</th>\n",
       "      <th>weight</th>\n",
       "      <th>history</th>\n",
       "      <th>Hb</th>\n",
       "      <th>IFA</th>\n",
       "      <th>BP</th>\n",
       "      <th>res</th>\n",
       "      <th>label</th>\n",
       "    </tr>\n",
       "  </thead>\n",
       "  <tbody>\n",
       "    <tr>\n",
       "      <td>0</td>\n",
       "      <td>1</td>\n",
       "      <td>26</td>\n",
       "      <td>37</td>\n",
       "      <td>1</td>\n",
       "      <td>5.9</td>\n",
       "      <td>1</td>\n",
       "      <td>1.444444</td>\n",
       "      <td>1</td>\n",
       "      <td>0</td>\n",
       "    </tr>\n",
       "    <tr>\n",
       "      <td>1</td>\n",
       "      <td>1</td>\n",
       "      <td>21</td>\n",
       "      <td>42</td>\n",
       "      <td>1</td>\n",
       "      <td>9.2</td>\n",
       "      <td>1</td>\n",
       "      <td>1.375000</td>\n",
       "      <td>1</td>\n",
       "      <td>0</td>\n",
       "    </tr>\n",
       "    <tr>\n",
       "      <td>2</td>\n",
       "      <td>1</td>\n",
       "      <td>21</td>\n",
       "      <td>36</td>\n",
       "      <td>1</td>\n",
       "      <td>8.8</td>\n",
       "      <td>1</td>\n",
       "      <td>1.500000</td>\n",
       "      <td>1</td>\n",
       "      <td>0</td>\n",
       "    </tr>\n",
       "    <tr>\n",
       "      <td>3</td>\n",
       "      <td>1</td>\n",
       "      <td>21</td>\n",
       "      <td>36</td>\n",
       "      <td>1</td>\n",
       "      <td>9.2</td>\n",
       "      <td>1</td>\n",
       "      <td>2.125000</td>\n",
       "      <td>1</td>\n",
       "      <td>0</td>\n",
       "    </tr>\n",
       "    <tr>\n",
       "      <td>4</td>\n",
       "      <td>1</td>\n",
       "      <td>21</td>\n",
       "      <td>36</td>\n",
       "      <td>1</td>\n",
       "      <td>8.0</td>\n",
       "      <td>1</td>\n",
       "      <td>1.375000</td>\n",
       "      <td>1</td>\n",
       "      <td>0</td>\n",
       "    </tr>\n",
       "    <tr>\n",
       "      <td>...</td>\n",
       "      <td>...</td>\n",
       "      <td>...</td>\n",
       "      <td>...</td>\n",
       "      <td>...</td>\n",
       "      <td>...</td>\n",
       "      <td>...</td>\n",
       "      <td>...</td>\n",
       "      <td>...</td>\n",
       "      <td>...</td>\n",
       "    </tr>\n",
       "    <tr>\n",
       "      <td>96</td>\n",
       "      <td>3</td>\n",
       "      <td>21</td>\n",
       "      <td>55</td>\n",
       "      <td>1</td>\n",
       "      <td>9.0</td>\n",
       "      <td>0</td>\n",
       "      <td>1.375000</td>\n",
       "      <td>1</td>\n",
       "      <td>1</td>\n",
       "    </tr>\n",
       "    <tr>\n",
       "      <td>97</td>\n",
       "      <td>3</td>\n",
       "      <td>24</td>\n",
       "      <td>39</td>\n",
       "      <td>6</td>\n",
       "      <td>8.4</td>\n",
       "      <td>0</td>\n",
       "      <td>1.500000</td>\n",
       "      <td>1</td>\n",
       "      <td>1</td>\n",
       "    </tr>\n",
       "    <tr>\n",
       "      <td>98</td>\n",
       "      <td>3</td>\n",
       "      <td>24</td>\n",
       "      <td>50</td>\n",
       "      <td>1</td>\n",
       "      <td>9.1</td>\n",
       "      <td>0</td>\n",
       "      <td>1.375000</td>\n",
       "      <td>1</td>\n",
       "      <td>1</td>\n",
       "    </tr>\n",
       "    <tr>\n",
       "      <td>99</td>\n",
       "      <td>1</td>\n",
       "      <td>24</td>\n",
       "      <td>38</td>\n",
       "      <td>1</td>\n",
       "      <td>9.1</td>\n",
       "      <td>0</td>\n",
       "      <td>1.696758</td>\n",
       "      <td>1</td>\n",
       "      <td>1</td>\n",
       "    </tr>\n",
       "    <tr>\n",
       "      <td>100</td>\n",
       "      <td>3</td>\n",
       "      <td>21</td>\n",
       "      <td>50</td>\n",
       "      <td>1</td>\n",
       "      <td>9.0</td>\n",
       "      <td>1</td>\n",
       "      <td>1.375000</td>\n",
       "      <td>1</td>\n",
       "      <td>1</td>\n",
       "    </tr>\n",
       "  </tbody>\n",
       "</table>\n",
       "<p>101 rows × 9 columns</p>\n",
       "</div>"
      ],
      "text/plain": [
       "     community  age  weight  history   Hb  IFA        BP  res  label\n",
       "0            1   26      37        1  5.9    1  1.444444    1      0\n",
       "1            1   21      42        1  9.2    1  1.375000    1      0\n",
       "2            1   21      36        1  8.8    1  1.500000    1      0\n",
       "3            1   21      36        1  9.2    1  2.125000    1      0\n",
       "4            1   21      36        1  8.0    1  1.375000    1      0\n",
       "..         ...  ...     ...      ...  ...  ...       ...  ...    ...\n",
       "96           3   21      55        1  9.0    0  1.375000    1      1\n",
       "97           3   24      39        6  8.4    0  1.500000    1      1\n",
       "98           3   24      50        1  9.1    0  1.375000    1      1\n",
       "99           1   24      38        1  9.1    0  1.696758    1      1\n",
       "100          3   21      50        1  9.0    1  1.375000    1      1\n",
       "\n",
       "[101 rows x 9 columns]"
      ]
     },
     "execution_count": 7,
     "metadata": {},
     "output_type": "execute_result"
    }
   ],
   "source": [
    "df=pd.read_csv(\"Final.csv\")\n",
    "df= df.rename(columns={\"reslt\":\"label\"})\n",
    "df"
   ]
  },
  {
   "cell_type": "code",
   "execution_count": null,
   "metadata": {},
   "outputs": [],
   "source": []
  },
  {
   "cell_type": "code",
   "execution_count": 8,
   "metadata": {},
   "outputs": [
    {
     "name": "stdout",
     "output_type": "stream",
     "text": [
      "<class 'pandas.core.frame.DataFrame'>\n",
      "RangeIndex: 101 entries, 0 to 100\n",
      "Data columns (total 9 columns):\n",
      "community    101 non-null int64\n",
      "age          101 non-null int64\n",
      "weight       101 non-null int64\n",
      "history      101 non-null int64\n",
      "Hb           101 non-null float64\n",
      "IFA          101 non-null int64\n",
      "BP           101 non-null float64\n",
      "res          101 non-null int64\n",
      "label        101 non-null int64\n",
      "dtypes: float64(2), int64(7)\n",
      "memory usage: 7.2 KB\n"
     ]
    }
   ],
   "source": [
    "df.info()"
   ]
  },
  {
   "cell_type": "code",
   "execution_count": 9,
   "metadata": {},
   "outputs": [],
   "source": [
    "#Train-Test-Split to split data into test and train data"
   ]
  },
  {
   "cell_type": "code",
   "execution_count": 10,
   "metadata": {},
   "outputs": [],
   "source": [
    "def train_test_data_split(df, test_size=24):\n",
    "    rows= df.index.tolist() #index each data row in data set\n",
    "    population=rows #population is number of indices\n",
    "    split_size=test_size #the number of samples you want as your test size, as the split number\n",
    "    indices_for_test=random.sample(population,split_size)#indices sampled for the test\n",
    "    test_data=df.loc[indices_for_test]#test dataset\n",
    "    train_data=df.drop(indices_for_test)#dataset for training\n",
    "    return train_data,test_data"
   ]
  },
  {
   "cell_type": "code",
   "execution_count": 11,
   "metadata": {},
   "outputs": [
    {
     "data": {
      "text/plain": [
       "101"
      ]
     },
     "execution_count": 11,
     "metadata": {},
     "output_type": "execute_result"
    }
   ],
   "source": [
    "len(df)"
   ]
  },
  {
   "cell_type": "code",
   "execution_count": 12,
   "metadata": {},
   "outputs": [],
   "source": [
    "train_df, test_df = train_test_data_split(df, test_size=24)"
   ]
  },
  {
   "cell_type": "code",
   "execution_count": 13,
   "metadata": {},
   "outputs": [
    {
     "data": {
      "text/plain": [
       "24"
      ]
     },
     "execution_count": 13,
     "metadata": {},
     "output_type": "execute_result"
    }
   ],
   "source": [
    "len(test_df)"
   ]
  },
  {
   "cell_type": "code",
   "execution_count": 14,
   "metadata": {},
   "outputs": [
    {
     "data": {
      "text/html": [
       "<div>\n",
       "<style scoped>\n",
       "    .dataframe tbody tr th:only-of-type {\n",
       "        vertical-align: middle;\n",
       "    }\n",
       "\n",
       "    .dataframe tbody tr th {\n",
       "        vertical-align: top;\n",
       "    }\n",
       "\n",
       "    .dataframe thead th {\n",
       "        text-align: right;\n",
       "    }\n",
       "</style>\n",
       "<table border=\"1\" class=\"dataframe\">\n",
       "  <thead>\n",
       "    <tr style=\"text-align: right;\">\n",
       "      <th></th>\n",
       "      <th>community</th>\n",
       "      <th>age</th>\n",
       "      <th>weight</th>\n",
       "      <th>history</th>\n",
       "      <th>Hb</th>\n",
       "      <th>IFA</th>\n",
       "      <th>BP</th>\n",
       "      <th>res</th>\n",
       "      <th>label</th>\n",
       "    </tr>\n",
       "  </thead>\n",
       "  <tbody>\n",
       "    <tr>\n",
       "      <td>48</td>\n",
       "      <td>1</td>\n",
       "      <td>21</td>\n",
       "      <td>40</td>\n",
       "      <td>1</td>\n",
       "      <td>9.2</td>\n",
       "      <td>1</td>\n",
       "      <td>1.571000</td>\n",
       "      <td>1</td>\n",
       "      <td>1</td>\n",
       "    </tr>\n",
       "    <tr>\n",
       "      <td>18</td>\n",
       "      <td>1</td>\n",
       "      <td>25</td>\n",
       "      <td>45</td>\n",
       "      <td>6</td>\n",
       "      <td>9.0</td>\n",
       "      <td>0</td>\n",
       "      <td>1.736946</td>\n",
       "      <td>1</td>\n",
       "      <td>0</td>\n",
       "    </tr>\n",
       "    <tr>\n",
       "      <td>72</td>\n",
       "      <td>1</td>\n",
       "      <td>21</td>\n",
       "      <td>43</td>\n",
       "      <td>1</td>\n",
       "      <td>10.2</td>\n",
       "      <td>1</td>\n",
       "      <td>1.571429</td>\n",
       "      <td>1</td>\n",
       "      <td>1</td>\n",
       "    </tr>\n",
       "    <tr>\n",
       "      <td>88</td>\n",
       "      <td>3</td>\n",
       "      <td>21</td>\n",
       "      <td>43</td>\n",
       "      <td>1</td>\n",
       "      <td>9.0</td>\n",
       "      <td>1</td>\n",
       "      <td>1.375000</td>\n",
       "      <td>1</td>\n",
       "      <td>1</td>\n",
       "    </tr>\n",
       "    <tr>\n",
       "      <td>84</td>\n",
       "      <td>3</td>\n",
       "      <td>24</td>\n",
       "      <td>60</td>\n",
       "      <td>1</td>\n",
       "      <td>9.2</td>\n",
       "      <td>1</td>\n",
       "      <td>1.714286</td>\n",
       "      <td>1</td>\n",
       "      <td>1</td>\n",
       "    </tr>\n",
       "  </tbody>\n",
       "</table>\n",
       "</div>"
      ],
      "text/plain": [
       "    community  age  weight  history    Hb  IFA        BP  res  label\n",
       "48          1   21      40        1   9.2    1  1.571000    1      1\n",
       "18          1   25      45        6   9.0    0  1.736946    1      0\n",
       "72          1   21      43        1  10.2    1  1.571429    1      1\n",
       "88          3   21      43        1   9.0    1  1.375000    1      1\n",
       "84          3   24      60        1   9.2    1  1.714286    1      1"
      ]
     },
     "execution_count": 14,
     "metadata": {},
     "output_type": "execute_result"
    }
   ],
   "source": [
    "test_df.head()"
   ]
  },
  {
   "cell_type": "code",
   "execution_count": 15,
   "metadata": {},
   "outputs": [
    {
     "data": {
      "text/html": [
       "<div>\n",
       "<style scoped>\n",
       "    .dataframe tbody tr th:only-of-type {\n",
       "        vertical-align: middle;\n",
       "    }\n",
       "\n",
       "    .dataframe tbody tr th {\n",
       "        vertical-align: top;\n",
       "    }\n",
       "\n",
       "    .dataframe thead th {\n",
       "        text-align: right;\n",
       "    }\n",
       "</style>\n",
       "<table border=\"1\" class=\"dataframe\">\n",
       "  <thead>\n",
       "    <tr style=\"text-align: right;\">\n",
       "      <th></th>\n",
       "      <th>community</th>\n",
       "      <th>age</th>\n",
       "      <th>weight</th>\n",
       "      <th>history</th>\n",
       "      <th>Hb</th>\n",
       "      <th>IFA</th>\n",
       "      <th>BP</th>\n",
       "      <th>res</th>\n",
       "      <th>label</th>\n",
       "    </tr>\n",
       "  </thead>\n",
       "  <tbody>\n",
       "    <tr>\n",
       "      <td>48</td>\n",
       "      <td>1</td>\n",
       "      <td>21</td>\n",
       "      <td>40</td>\n",
       "      <td>1</td>\n",
       "      <td>9.2</td>\n",
       "      <td>1</td>\n",
       "      <td>1.571000</td>\n",
       "      <td>1</td>\n",
       "      <td>1</td>\n",
       "    </tr>\n",
       "    <tr>\n",
       "      <td>18</td>\n",
       "      <td>1</td>\n",
       "      <td>25</td>\n",
       "      <td>45</td>\n",
       "      <td>6</td>\n",
       "      <td>9.0</td>\n",
       "      <td>0</td>\n",
       "      <td>1.736946</td>\n",
       "      <td>1</td>\n",
       "      <td>0</td>\n",
       "    </tr>\n",
       "    <tr>\n",
       "      <td>72</td>\n",
       "      <td>1</td>\n",
       "      <td>21</td>\n",
       "      <td>43</td>\n",
       "      <td>1</td>\n",
       "      <td>10.2</td>\n",
       "      <td>1</td>\n",
       "      <td>1.571429</td>\n",
       "      <td>1</td>\n",
       "      <td>1</td>\n",
       "    </tr>\n",
       "    <tr>\n",
       "      <td>88</td>\n",
       "      <td>3</td>\n",
       "      <td>21</td>\n",
       "      <td>43</td>\n",
       "      <td>1</td>\n",
       "      <td>9.0</td>\n",
       "      <td>1</td>\n",
       "      <td>1.375000</td>\n",
       "      <td>1</td>\n",
       "      <td>1</td>\n",
       "    </tr>\n",
       "    <tr>\n",
       "      <td>84</td>\n",
       "      <td>3</td>\n",
       "      <td>24</td>\n",
       "      <td>60</td>\n",
       "      <td>1</td>\n",
       "      <td>9.2</td>\n",
       "      <td>1</td>\n",
       "      <td>1.714286</td>\n",
       "      <td>1</td>\n",
       "      <td>1</td>\n",
       "    </tr>\n",
       "  </tbody>\n",
       "</table>\n",
       "</div>"
      ],
      "text/plain": [
       "    community  age  weight  history    Hb  IFA        BP  res  label\n",
       "48          1   21      40        1   9.2    1  1.571000    1      1\n",
       "18          1   25      45        6   9.0    0  1.736946    1      0\n",
       "72          1   21      43        1  10.2    1  1.571429    1      1\n",
       "88          3   21      43        1   9.0    1  1.375000    1      1\n",
       "84          3   24      60        1   9.2    1  1.714286    1      1"
      ]
     },
     "execution_count": 15,
     "metadata": {},
     "output_type": "execute_result"
    }
   ],
   "source": [
    "test_df.head()"
   ]
  },
  {
   "cell_type": "code",
   "execution_count": 16,
   "metadata": {},
   "outputs": [
    {
     "data": {
      "text/html": [
       "<div>\n",
       "<style scoped>\n",
       "    .dataframe tbody tr th:only-of-type {\n",
       "        vertical-align: middle;\n",
       "    }\n",
       "\n",
       "    .dataframe tbody tr th {\n",
       "        vertical-align: top;\n",
       "    }\n",
       "\n",
       "    .dataframe thead th {\n",
       "        text-align: right;\n",
       "    }\n",
       "</style>\n",
       "<table border=\"1\" class=\"dataframe\">\n",
       "  <thead>\n",
       "    <tr style=\"text-align: right;\">\n",
       "      <th></th>\n",
       "      <th>community</th>\n",
       "      <th>age</th>\n",
       "      <th>weight</th>\n",
       "      <th>history</th>\n",
       "      <th>Hb</th>\n",
       "      <th>IFA</th>\n",
       "      <th>BP</th>\n",
       "      <th>res</th>\n",
       "      <th>label</th>\n",
       "    </tr>\n",
       "  </thead>\n",
       "  <tbody>\n",
       "    <tr>\n",
       "      <td>48</td>\n",
       "      <td>1</td>\n",
       "      <td>21</td>\n",
       "      <td>40</td>\n",
       "      <td>1</td>\n",
       "      <td>9.2</td>\n",
       "      <td>1</td>\n",
       "      <td>1.571000</td>\n",
       "      <td>1</td>\n",
       "      <td>1</td>\n",
       "    </tr>\n",
       "    <tr>\n",
       "      <td>18</td>\n",
       "      <td>1</td>\n",
       "      <td>25</td>\n",
       "      <td>45</td>\n",
       "      <td>6</td>\n",
       "      <td>9.0</td>\n",
       "      <td>0</td>\n",
       "      <td>1.736946</td>\n",
       "      <td>1</td>\n",
       "      <td>0</td>\n",
       "    </tr>\n",
       "    <tr>\n",
       "      <td>72</td>\n",
       "      <td>1</td>\n",
       "      <td>21</td>\n",
       "      <td>43</td>\n",
       "      <td>1</td>\n",
       "      <td>10.2</td>\n",
       "      <td>1</td>\n",
       "      <td>1.571429</td>\n",
       "      <td>1</td>\n",
       "      <td>1</td>\n",
       "    </tr>\n",
       "    <tr>\n",
       "      <td>88</td>\n",
       "      <td>3</td>\n",
       "      <td>21</td>\n",
       "      <td>43</td>\n",
       "      <td>1</td>\n",
       "      <td>9.0</td>\n",
       "      <td>1</td>\n",
       "      <td>1.375000</td>\n",
       "      <td>1</td>\n",
       "      <td>1</td>\n",
       "    </tr>\n",
       "    <tr>\n",
       "      <td>84</td>\n",
       "      <td>3</td>\n",
       "      <td>24</td>\n",
       "      <td>60</td>\n",
       "      <td>1</td>\n",
       "      <td>9.2</td>\n",
       "      <td>1</td>\n",
       "      <td>1.714286</td>\n",
       "      <td>1</td>\n",
       "      <td>1</td>\n",
       "    </tr>\n",
       "  </tbody>\n",
       "</table>\n",
       "</div>"
      ],
      "text/plain": [
       "    community  age  weight  history    Hb  IFA        BP  res  label\n",
       "48          1   21      40        1   9.2    1  1.571000    1      1\n",
       "18          1   25      45        6   9.0    0  1.736946    1      0\n",
       "72          1   21      43        1  10.2    1  1.571429    1      1\n",
       "88          3   21      43        1   9.0    1  1.375000    1      1\n",
       "84          3   24      60        1   9.2    1  1.714286    1      1"
      ]
     },
     "execution_count": 16,
     "metadata": {},
     "output_type": "execute_result"
    }
   ],
   "source": [
    "test_df.head()"
   ]
  },
  {
   "cell_type": "code",
   "execution_count": 17,
   "metadata": {},
   "outputs": [
    {
     "data": {
      "text/plain": [
       "77"
      ]
     },
     "execution_count": 17,
     "metadata": {},
     "output_type": "execute_result"
    }
   ],
   "source": [
    "len(train_df.values)"
   ]
  },
  {
   "cell_type": "code",
   "execution_count": 18,
   "metadata": {},
   "outputs": [
    {
     "data": {
      "text/plain": [
       "array([0., 0., 0., 0., 0., 0., 0., 0., 0., 0., 0., 0., 0., 0., 0., 0., 0.,\n",
       "       0., 0., 0., 0., 1., 1., 1., 1., 1., 1., 1., 1., 1., 1., 1., 1., 1.,\n",
       "       1., 1., 1., 1., 1., 1., 1., 1., 1., 1., 1., 1., 1., 1., 1., 1., 1.,\n",
       "       1., 1., 1., 1., 1., 1., 1., 1., 1., 1., 1., 1., 1., 1., 1., 1., 1.,\n",
       "       1., 1., 1., 1., 1., 1., 1., 1., 1.])"
      ]
     },
     "execution_count": 18,
     "metadata": {},
     "output_type": "execute_result"
    }
   ],
   "source": [
    "train_df.values[:,-1]"
   ]
  },
  {
   "cell_type": "code",
   "execution_count": 19,
   "metadata": {},
   "outputs": [],
   "source": [
    "### Data Pure -check"
   ]
  },
  {
   "cell_type": "code",
   "execution_count": 20,
   "metadata": {},
   "outputs": [],
   "source": [
    "def check_data_purity(data):\n",
    "    if len(np.unique(data[:, -1]))!=1:#if label column has more than 1 value\n",
    "        return False\n",
    "    else:\n",
    "        return True    \n",
    "    "
   ]
  },
  {
   "cell_type": "code",
   "execution_count": 21,
   "metadata": {},
   "outputs": [
    {
     "data": {
      "text/plain": [
       "False"
      ]
     },
     "execution_count": 21,
     "metadata": {},
     "output_type": "execute_result"
    }
   ],
   "source": [
    "data=train_df.values\n",
    "check_data_purity(data)"
   ]
  },
  {
   "cell_type": "code",
   "execution_count": 22,
   "metadata": {},
   "outputs": [],
   "source": [
    "###Classify"
   ]
  },
  {
   "cell_type": "code",
   "execution_count": 23,
   "metadata": {},
   "outputs": [],
   "source": [
    "def classify_data(data):\n",
    "    labels=data[:, -1]#retreive label column data\n",
    "    unique,count=np.unique(labels, return_counts=True)#set of unique label values and the number of it\n",
    "    #maximum label value\n",
    "    classification=unique[count.argmax()]\n",
    "    return classification"
   ]
  },
  {
   "cell_type": "code",
   "execution_count": 24,
   "metadata": {},
   "outputs": [],
   "source": [
    "### Potential Splits"
   ]
  },
  {
   "cell_type": "code",
   "execution_count": 25,
   "metadata": {},
   "outputs": [],
   "source": [
    "def getting_potential_splits(data):\n",
    "    potential_splits={}#empty dict\n",
    "    data.shape\n",
    "    _, n_columns = data.shape\n",
    "    for i in range(n_columns-1):#i is the column index\n",
    "        potential_splits[i]=[]#empty list, list in dictionary, as listed below\n",
    "        values=data[:, i]\n",
    "        unique_values=np.unique(values)\n",
    "        n=len(unique_values)\n",
    "        for j in range(n-1):\n",
    "            if j!=n-1:#avoids the first, so can access previous\n",
    "                current_unique=unique_values[j]\n",
    "                next_unique=unique_values[j+1]\n",
    "                potential_split= (current_unique+next_unique)/2 #average between 2 unique values\n",
    "                potential_splits[i].append(potential_split)\n",
    "    return potential_splits"
   ]
  },
  {
   "cell_type": "code",
   "execution_count": 26,
   "metadata": {},
   "outputs": [],
   "source": [
    "#data=train_df.values\n",
    "potential_splits=getting_potential_splits(train_df.values)"
   ]
  },
  {
   "cell_type": "code",
   "execution_count": 27,
   "metadata": {},
   "outputs": [
    {
     "data": {
      "text/plain": [
       "<matplotlib.collections.LineCollection at 0x20b311414c8>"
      ]
     },
     "execution_count": 27,
     "metadata": {},
     "output_type": "execute_result"
    },
    {
     "data": {
      "image/png": "[encoded data removed]",
      "text/plain": [
       "<Figure size 690.375x432 with 1 Axes>"
      ]
     },
     "metadata": {
      "needs_background": "light"
     },
     "output_type": "display_data"
    }
   ],
   "source": [
    "sns.lmplot(data=train_df,x=\"age\",y=\"res\",hue=\"label\", fit_reg=False, height=6, aspect=1.5)\n",
    "#plt.vlines(x=potential_splits[1], ymin=30, ymax=65)\n",
    "#plt.hlines(y=potential_splits[7], xmin=17, xmax=38)\n",
    "plt.hlines(y=potential_splits[7], xmin=17, xmax=38)#draw lines between data points\n",
    "plt.vlines(x=potential_splits[1], ymin=1, ymax=2)\n",
    "\n"
   ]
  },
  {
   "cell_type": "code",
   "execution_count": 28,
   "metadata": {},
   "outputs": [],
   "source": [
    "### Split Data"
   ]
  },
  {
   "cell_type": "code",
   "execution_count": 29,
   "metadata": {},
   "outputs": [],
   "source": [
    "def split_data(data, split_column, split_value):\n",
    "    split_column_values=data[:,split_column]# values of teh column whose values you want to split by\n",
    "    data_below=data[split_column_values<=split_value]#split values of that column by the value you want to split by\n",
    "    data_above=data[split_column_values>split_value]\n",
    "    return data_below, data_above"
   ]
  },
  {
   "cell_type": "code",
   "execution_count": 30,
   "metadata": {},
   "outputs": [],
   "source": [
    "data=train_df.values"
   ]
  },
  {
   "cell_type": "code",
   "execution_count": 31,
   "metadata": {},
   "outputs": [
    {
     "data": {
      "text/plain": [
       "array([[ 1.        , 26.        , 37.        ,  1.        ,  5.9       ,\n",
       "         1.        ,  1.44444444,  1.        ,  0.        ],\n",
       "       [ 1.        , 21.        , 42.        ,  1.        ,  9.2       ,\n",
       "         1.        ,  1.375     ,  1.        ,  0.        ],\n",
       "       [ 1.        , 21.        , 36.        ,  1.        ,  8.8       ,\n",
       "         1.        ,  1.5       ,  1.        ,  0.        ],\n",
       "       [ 1.        , 21.        , 36.        ,  1.        ,  9.2       ,\n",
       "         1.        ,  2.125     ,  1.        ,  0.        ],\n",
       "       [ 1.        , 21.        , 36.        ,  1.        ,  8.        ,\n",
       "         1.        ,  1.375     ,  1.        ,  0.        ],\n",
       "       [ 1.        , 26.        , 35.        ,  1.        ,  9.2       ,\n",
       "         1.        ,  1.57142857,  1.        ,  0.        ],\n",
       "       [ 4.        , 26.        , 31.        ,  1.        ,  9.        ,\n",
       "         1.        ,  1.625     ,  1.        ,  0.        ],\n",
       "       [ 1.        , 22.        , 30.        ,  1.        ,  9.        ,\n",
       "         1.        ,  1.73694647,  1.        ,  0.        ],\n",
       "       [ 4.        , 17.        , 30.        ,  1.        ,  9.        ,\n",
       "         0.        ,  1.375     ,  1.        ,  0.        ],\n",
       "       [ 3.        , 35.        , 36.        ,  1.        ,  9.9       ,\n",
       "         1.        ,  1.57142857,  1.        ,  0.        ],\n",
       "       [ 3.        , 24.        , 38.        ,  1.        ,  9.        ,\n",
       "         0.        ,  1.73694647,  1.        ,  0.        ],\n",
       "       [ 4.        , 20.        , 36.        ,  1.        ,  9.        ,\n",
       "         0.        ,  1.73694647,  2.        ,  0.        ],\n",
       "       [ 3.        , 38.        , 33.        ,  1.        , 10.        ,\n",
       "         0.        ,  1.57142857,  1.        ,  0.        ],\n",
       "       [ 3.        , 20.        , 36.        ,  1.        ,  8.9       ,\n",
       "         0.        ,  1.71428571,  2.        ,  0.        ],\n",
       "       [ 3.        , 23.        , 39.        ,  1.        ,  9.        ,\n",
       "         1.        ,  1.375     ,  1.        ,  0.        ],\n",
       "       [ 1.        , 21.        , 40.        ,  1.        ,  9.        ,\n",
       "         0.        ,  1.73694647,  1.        ,  0.        ],\n",
       "       [ 1.        , 24.        , 36.        ,  1.        ,  9.6       ,\n",
       "         0.        ,  1.2       ,  1.        ,  0.        ],\n",
       "       [ 3.        , 26.        , 36.        ,  1.        ,  9.        ,\n",
       "         0.        ,  5.5       ,  1.        ,  0.        ],\n",
       "       [ 1.        , 27.        , 36.        ,  1.        ,  8.        ,\n",
       "         1.        ,  1.57142857,  1.        ,  0.        ],\n",
       "       [ 1.        , 21.        , 36.        ,  1.        ,  9.4       ,\n",
       "         1.        ,  1.5       ,  1.        ,  0.        ],\n",
       "       [ 4.        , 24.        , 36.        ,  1.        ,  9.        ,\n",
       "         0.        ,  1.66153846,  1.        ,  0.        ],\n",
       "       [ 1.        , 24.        , 49.        ,  1.        ,  8.9       ,\n",
       "         1.        ,  1.33333333,  1.        ,  1.        ],\n",
       "       [ 1.        , 26.        , 45.        ,  1.        ,  9.        ,\n",
       "         1.        ,  1.375     ,  1.        ,  1.        ],\n",
       "       [ 1.        , 21.        , 65.        ,  1.        ,  9.2       ,\n",
       "         1.        ,  1.375     ,  1.        ,  1.        ],\n",
       "       [ 1.        , 24.        , 48.        ,  1.        ,  9.        ,\n",
       "         1.        ,  1.375     ,  1.        ,  1.        ],\n",
       "       [ 1.        , 22.        , 35.        ,  1.        ,  8.9       ,\n",
       "         1.        ,  1.5       ,  1.        ,  1.        ],\n",
       "       [ 4.        , 26.        , 65.        ,  1.        ,  9.        ,\n",
       "         1.        ,  1.375     ,  2.        ,  1.        ],\n",
       "       [ 4.        , 24.        , 48.        ,  1.        ,  9.6       ,\n",
       "         1.        ,  1.333     ,  2.        ,  1.        ],\n",
       "       [ 1.        , 25.        , 42.        ,  1.        ,  9.        ,\n",
       "         1.        ,  1.375     ,  1.        ,  1.        ],\n",
       "       [ 3.        , 24.        , 55.        ,  1.        ,  9.        ,\n",
       "         1.        ,  1.714     ,  1.        ,  1.        ],\n",
       "       [ 1.        , 24.        , 39.        ,  1.        ,  8.9       ,\n",
       "         1.        ,  1.375     ,  1.        ,  1.        ],\n",
       "       [ 3.        , 21.        , 40.        ,  1.        ,  9.        ,\n",
       "         1.        ,  1.375     ,  1.        ,  1.        ],\n",
       "       [ 1.        , 24.        , 40.        ,  1.        ,  8.9       ,\n",
       "         1.        ,  1.714     ,  1.        ,  1.        ],\n",
       "       [ 1.        , 26.        , 43.        ,  1.        ,  9.        ,\n",
       "         1.        ,  1.375     ,  1.        ,  1.        ],\n",
       "       [ 1.        , 21.        , 39.        ,  1.        ,  8.9       ,\n",
       "         1.        ,  1.571     ,  1.        ,  1.        ],\n",
       "       [ 3.        , 21.        , 64.        ,  1.        ,  8.8       ,\n",
       "         1.        ,  1.666     ,  1.        ,  1.        ],\n",
       "       [ 3.        , 25.        , 45.        ,  1.        ,  9.3       ,\n",
       "         1.        ,  1.375     ,  1.        ,  1.        ],\n",
       "       [ 4.        , 26.        , 52.        ,  1.        ,  8.4       ,\n",
       "         1.        ,  1.375     ,  1.        ,  1.        ],\n",
       "       [ 1.        , 26.        , 35.        ,  1.        ,  9.2       ,\n",
       "         1.        ,  1.571     ,  1.        ,  1.        ],\n",
       "       [ 4.        , 26.        , 42.        ,  1.        ,  9.2       ,\n",
       "         1.        ,  1.375     ,  1.        ,  1.        ],\n",
       "       [ 3.        , 35.        , 54.        ,  1.        ,  8.9       ,\n",
       "         1.        ,  1.71428571,  1.        ,  1.        ],\n",
       "       [ 1.        , 24.        , 40.        ,  1.        ,  9.2       ,\n",
       "         1.        ,  1.83333333,  1.        ,  1.        ],\n",
       "       [ 2.        , 22.        , 40.        ,  1.        ,  8.9       ,\n",
       "         1.        ,  1.375     ,  1.        ,  1.        ],\n",
       "       [ 1.        , 21.        , 43.        ,  1.        ,  9.2       ,\n",
       "         1.        ,  1.375     ,  1.        ,  1.        ],\n",
       "       [ 4.        , 24.        , 50.        ,  1.        ,  8.4       ,\n",
       "         1.        ,  1.375     ,  1.        ,  1.        ],\n",
       "       [ 3.        , 24.        , 46.        ,  1.        ,  6.2       ,\n",
       "         1.        ,  1.71428571,  1.        ,  1.        ],\n",
       "       [ 4.        , 27.        , 49.        ,  1.        ,  9.4       ,\n",
       "         1.        ,  1.66666667,  1.        ,  1.        ],\n",
       "       [ 3.        , 26.        , 62.        ,  1.        ,  9.        ,\n",
       "         1.        ,  1.83333333,  2.        ,  1.        ],\n",
       "       [ 1.        , 25.        , 40.        ,  1.        ,  9.2       ,\n",
       "         1.        ,  1.375     ,  1.        ,  1.        ],\n",
       "       [ 4.        , 24.        , 41.        ,  1.        ,  9.        ,\n",
       "         0.        ,  1.375     ,  1.        ,  1.        ],\n",
       "       [ 1.        , 26.        , 60.        ,  1.        ,  9.2       ,\n",
       "         0.        ,  1.71428571,  1.        ,  1.        ],\n",
       "       [ 4.        , 21.        , 60.        ,  1.        , 10.9       ,\n",
       "         0.        ,  1.375     ,  1.        ,  1.        ],\n",
       "       [ 1.        , 21.        , 40.        ,  1.        ,  7.9       ,\n",
       "         0.        ,  1.66666667,  1.        ,  1.        ],\n",
       "       [ 4.        , 21.        , 55.        ,  1.        ,  8.        ,\n",
       "         1.        ,  1.57142857,  2.        ,  1.        ],\n",
       "       [ 1.        , 21.        , 51.        ,  1.        ,  8.        ,\n",
       "         1.        ,  2.5       ,  2.        ,  1.        ],\n",
       "       [ 1.        , 21.        , 52.        ,  1.        ,  8.8       ,\n",
       "         1.        , 13.875     ,  2.        ,  1.        ],\n",
       "       [ 4.        , 18.        , 51.        ,  1.        , 10.8       ,\n",
       "         1.        ,  1.57142857,  1.        ,  1.        ],\n",
       "       [ 1.        , 21.        , 50.        ,  1.        ,  9.2       ,\n",
       "         1.        ,  1.625     ,  1.        ,  1.        ],\n",
       "       [ 3.        , 24.        , 40.        ,  1.        ,  9.3       ,\n",
       "         1.        ,  1.375     ,  1.        ,  1.        ],\n",
       "       [ 1.        , 29.        , 56.        ,  1.        ,  8.4       ,\n",
       "         1.        ,  1.57142857,  1.        ,  1.        ],\n",
       "       [ 1.        , 23.        , 60.        ,  1.        , 10.        ,\n",
       "         1.        ,  1.375     ,  2.        ,  1.        ],\n",
       "       [ 3.        , 26.        , 40.        ,  1.        , 11.        ,\n",
       "         1.        ,  1.22222222,  2.        ,  1.        ],\n",
       "       [ 1.        , 24.        , 43.        ,  1.        ,  9.        ,\n",
       "         1.        ,  1.66666667,  2.        ,  1.        ],\n",
       "       [ 3.        , 26.        , 63.        ,  1.        ,  8.9       ,\n",
       "         1.        ,  1.375     ,  2.        ,  1.        ],\n",
       "       [ 1.        , 20.        , 46.        ,  1.        ,  9.        ,\n",
       "         1.        ,  1.71428571,  1.        ,  1.        ],\n",
       "       [ 3.        , 20.        , 43.        ,  1.        ,  9.2       ,\n",
       "         1.        ,  1.375     ,  1.        ,  1.        ],\n",
       "       [ 4.        , 21.        , 48.        ,  1.        ,  9.2       ,\n",
       "         1.        ,  1.375     ,  1.        ,  1.        ],\n",
       "       [ 3.        , 23.        , 39.        ,  1.        ,  9.1       ,\n",
       "         0.        ,  1.69675811,  1.        ,  1.        ],\n",
       "       [ 3.        , 24.        , 40.        ,  1.        ,  9.1       ,\n",
       "         0.        ,  1.69675811,  1.        ,  1.        ],\n",
       "       [ 1.        , 26.        , 44.        ,  1.        ,  9.1       ,\n",
       "         0.        ,  1.69675811,  1.        ,  1.        ],\n",
       "       [ 3.        , 27.        , 42.        ,  1.        ,  9.1       ,\n",
       "         0.        ,  1.69675811,  1.        ,  1.        ],\n",
       "       [ 1.        , 24.        , 40.        ,  1.        ,  9.1       ,\n",
       "         0.        ,  1.69675811,  1.        ,  1.        ],\n",
       "       [ 3.        , 21.        , 55.        ,  1.        ,  9.        ,\n",
       "         0.        ,  1.375     ,  1.        ,  1.        ],\n",
       "       [ 3.        , 24.        , 39.        ,  6.        ,  8.4       ,\n",
       "         0.        ,  1.5       ,  1.        ,  1.        ],\n",
       "       [ 3.        , 24.        , 50.        ,  1.        ,  9.1       ,\n",
       "         0.        ,  1.375     ,  1.        ,  1.        ],\n",
       "       [ 1.        , 24.        , 38.        ,  1.        ,  9.1       ,\n",
       "         0.        ,  1.69675811,  1.        ,  1.        ],\n",
       "       [ 3.        , 21.        , 50.        ,  1.        ,  9.        ,\n",
       "         1.        ,  1.375     ,  1.        ,  1.        ]])"
      ]
     },
     "execution_count": 31,
     "metadata": {},
     "output_type": "execute_result"
    }
   ],
   "source": [
    "data"
   ]
  },
  {
   "cell_type": "code",
   "execution_count": 32,
   "metadata": {},
   "outputs": [],
   "source": [
    "split_column=2\n",
    "split_value=37.5"
   ]
  },
  {
   "cell_type": "code",
   "execution_count": 33,
   "metadata": {},
   "outputs": [],
   "source": [
    "data_below, data_above=split_data(data, split_column, split_value)"
   ]
  },
  {
   "cell_type": "markdown",
   "metadata": {},
   "source": []
  },
  {
   "cell_type": "code",
   "execution_count": 34,
   "metadata": {},
   "outputs": [
    {
     "data": {
      "text/plain": [
       "<matplotlib.collections.LineCollection at 0x20b2d4b2d48>"
      ]
     },
     "execution_count": 34,
     "metadata": {},
     "output_type": "execute_result"
    },
    {
     "data": {
      "image/png": "[encoded data removed]",
      "text/plain": [
       "<Figure size 699.875x432 with 1 Axes>"
      ]
     },
     "metadata": {
      "needs_background": "light"
     },
     "output_type": "display_data"
    }
   ],
   "source": [
    "plotting_df=pd.DataFrame(data, columns=df.columns)#datra and columns\n",
    "sns.lmplot(data=plotting_df, x=\"BP\",y=\"weight\",hue=\"label\", fit_reg=False, height=6, aspect=1.5)\n",
    "plt.hlines(y=split_value, xmin=1, xmax=3)"
   ]
  },
  {
   "cell_type": "code",
   "execution_count": 35,
   "metadata": {},
   "outputs": [],
   "source": [
    "### Highest Information Gain"
   ]
  },
  {
   "cell_type": "code",
   "execution_count": 36,
   "metadata": {},
   "outputs": [],
   "source": [
    "\n",
    "def calculate_entropy(data):\n",
    "    labels=data[:,-1]\n",
    "    _, counts=np.unique(labels, return_counts=True)#counts is a list\n",
    "    probabilities=counts/counts.sum()# probability based on number of classes for the list\n",
    "    entropy=sum(probabilities*(-np.log2(probabilities)))# H =sum(pilogpi)\n",
    "    return entropy"
   ]
  },
  {
   "cell_type": "code",
   "execution_count": null,
   "metadata": {},
   "outputs": [],
   "source": []
  },
  {
   "cell_type": "code",
   "execution_count": 37,
   "metadata": {},
   "outputs": [
    {
     "data": {
      "text/plain": [
       "0.8453509366224364"
      ]
     },
     "execution_count": 37,
     "metadata": {},
     "output_type": "execute_result"
    }
   ],
   "source": [
    "calculate_entropy(data)"
   ]
  },
  {
   "cell_type": "code",
   "execution_count": null,
   "metadata": {},
   "outputs": [],
   "source": []
  },
  {
   "cell_type": "code",
   "execution_count": 38,
   "metadata": {},
   "outputs": [],
   "source": [
    "def calculate_overall_entropy(data_below, data_above):\n",
    "    n=len(data_below)+len(data_above)\n",
    "    probability_data_below=len(data_below)/n\n",
    "    probability_data_above=len(data_above)/n\n",
    "    overall_entropy=(probability_data_below*calculate_entropy(data_below)+probability_data_above*calculate_entropy(data_above))\n",
    "    #databelow(sum(plogp))+dataabove(sum(plogp))  \n",
    "    return overall_entropy"
   ]
  },
  {
   "cell_type": "code",
   "execution_count": 39,
   "metadata": {},
   "outputs": [
    {
     "data": {
      "text/plain": [
       "0.3925029487629122"
      ]
     },
     "execution_count": 39,
     "metadata": {},
     "output_type": "execute_result"
    }
   ],
   "source": [
    "calculate_overall_entropy(data_below,data_above)"
   ]
  },
  {
   "cell_type": "code",
   "execution_count": 40,
   "metadata": {},
   "outputs": [],
   "source": [
    "def get_best_split(data, potential_splits):\n",
    "    overall_entropy=9999 #arbitrary large number\n",
    "    for column_index in potential_splits: #the previously dict\n",
    "        for value in potential_splits[column_index]:#list in dict\n",
    "            split_column=column_index\n",
    "            split_value=value\n",
    "            data_below, data_above=split_data(data, split_column,split_value)\n",
    "            current_overall_entropy=calculate_overall_entropy(data_below, data_above)\n",
    "            if current_overall_entropy<= overall_entropy:\n",
    "                overall_entropy=current_overall_entropy #want least entropy for highest information gain\n",
    "                best_split_column=column_index #want to know which column to split at\n",
    "                best_split_value=value #which value you should split at for that column\n",
    "    return best_split_column, best_split_value"
   ]
  },
  {
   "cell_type": "markdown",
   "metadata": {},
   "source": []
  },
  {
   "cell_type": "code",
   "execution_count": 41,
   "metadata": {},
   "outputs": [],
   "source": [
    "potential_splits=getting_potential_splits(data)\n"
   ]
  },
  {
   "cell_type": "code",
   "execution_count": 42,
   "metadata": {},
   "outputs": [
    {
     "data": {
      "text/plain": [
       "(2, 38.5)"
      ]
     },
     "execution_count": 42,
     "metadata": {},
     "output_type": "execute_result"
    }
   ],
   "source": [
    "data=train_df.values\n",
    "get_best_split(data, potential_splits)\n",
    "\n",
    "            "
   ]
  },
  {
   "cell_type": "code",
   "execution_count": 43,
   "metadata": {},
   "outputs": [],
   "source": [
    "### Decision Tree Algorithm"
   ]
  },
  {
   "cell_type": "code",
   "execution_count": 44,
   "metadata": {},
   "outputs": [],
   "source": [
    "#sub_tree={question:[yes_answer,no_answer]}"
   ]
  },
  {
   "cell_type": "code",
   "execution_count": 45,
   "metadata": {},
   "outputs": [
    {
     "data": {
      "text/plain": [
       "{'weight<=37.5': [0, 1]}"
      ]
     },
     "execution_count": 45,
     "metadata": {},
     "output_type": "execute_result"
    }
   ],
   "source": [
    "{\"weight<=37.5\":[0,1]}"
   ]
  },
  {
   "cell_type": "code",
   "execution_count": 46,
   "metadata": {},
   "outputs": [],
   "source": [
    "### Algorithm"
   ]
  },
  {
   "cell_type": "code",
   "execution_count": 47,
   "metadata": {},
   "outputs": [],
   "source": [
    "def decision_tree_algorithm(df, counter=0, min_samples=1, max_depth=7):\n",
    "    \n",
    "    #data preparations\n",
    "    if counter==0:\n",
    "        global COLUMN_HEADERS #global to access\n",
    "        COLUMN_HEADERS=df.columns\n",
    "        data=df.values #numpy array if first iteration\n",
    "    else:\n",
    "        data=df #later iterations\n",
    "    \n",
    "    #base case\n",
    "    if (check_data_purity(data)) or (counter==max_depth) or (len(data)<min_samples) :\n",
    "        classification=classify_data(data) #direct classification\n",
    "        return classification\n",
    "    \n",
    "    #recursive part\n",
    "    else:\n",
    "        counter+=1\n",
    "        #impure data\n",
    "        #helper functions\n",
    "        potential_splits=getting_potential_splits(data)\n",
    "        split_column, split_value=get_best_split(data, potential_splits)\n",
    "        data_below, data_above = split_data(data, split_column, split_value)\n",
    "        \n",
    "        #instantiate subtree\n",
    "        feature_name=COLUMN_HEADERS[split_column]# get the name of the column, not just ind value\n",
    "        question=\"{} <= {}\".format(feature_name, split_value)\n",
    "        sub_tree={question:[]}#answer could be a list\n",
    "        \n",
    "        #find answers\n",
    "        yes_answer=decision_tree_algorithm(data_below, counter, min_samples, max_depth)\n",
    "        no_answer=decision_tree_algorithm(data_above, counter, min_samples, max_depth)\n",
    "        \n",
    "        if yes_answer==no_answer:#if greater than a max depth, the yes and no answers tend to be the same\n",
    "            sub_tree= yes_answer\n",
    "        else:\n",
    "            sub_tree[question].append(yes_answer)\n",
    "            sub_tree[question].append(no_answer)\n",
    "        \n",
    "    return sub_tree"
   ]
  },
  {
   "cell_type": "code",
   "execution_count": 71,
   "metadata": {},
   "outputs": [
    {
     "name": "stdout",
     "output_type": "stream",
     "text": [
      "{'weight <= 38.5': [{'BP <= 1.7055219140000002': [{'Hb <= 9.25': [{'Hb <= 8.850000000000001': [0.0,\n",
      "                                                                                               {'BP <= 1.5712142855': [1.0,\n",
      "                                                                                                                       {'BP <= 1.679148288': [0.0,\n",
      "                                                                                                                                              1.0]}]}]},\n",
      "                                                                  0.0]},\n",
      "                                                  0.0]},\n",
      "                    {'BP <= 1.7256160915': [{'age <= 23.5': [{'weight <= 42.5': [{'BP <= 1.4729999999999999': [0.0,\n",
      "                                                                                                               1.0]},\n",
      "                                                                                 1.0]},\n",
      "                                                             1.0]},\n",
      "                                            {'BP <= 1.785139901': [0.0,\n",
      "                                                                   1.0]}]}]}\n"
     ]
    }
   ],
   "source": [
    "#pruning\n",
    "tree=decision_tree_algorithm(train_df, max_depth=6)#can give shorter trees and more accuracy\n",
    "pprint(tree)"
   ]
  },
  {
   "cell_type": "code",
   "execution_count": 53,
   "metadata": {},
   "outputs": [
    {
     "data": {
      "text/plain": [
       "Index(['community', 'age', 'weight', 'history', 'Hb', 'IFA', 'BP', 'res',\n",
       "       'label'],\n",
       "      dtype='object')"
      ]
     },
     "execution_count": 53,
     "metadata": {},
     "output_type": "execute_result"
    }
   ],
   "source": [
    "df.columns"
   ]
  },
  {
   "cell_type": "code",
   "execution_count": 54,
   "metadata": {},
   "outputs": [],
   "source": [
    "### Classification\n"
   ]
  },
  {
   "cell_type": "code",
   "execution_count": 55,
   "metadata": {},
   "outputs": [
    {
     "data": {
      "text/plain": [
       "community     1.000000\n",
       "age          21.000000\n",
       "weight       43.000000\n",
       "history       1.000000\n",
       "Hb           10.200000\n",
       "IFA           1.000000\n",
       "BP            1.571429\n",
       "res           1.000000\n",
       "label         1.000000\n",
       "Name: 72, dtype: float64"
      ]
     },
     "execution_count": 55,
     "metadata": {},
     "output_type": "execute_result"
    }
   ],
   "source": [
    "example=test_df.iloc[2]#2nd index row\n",
    "example"
   ]
  },
  {
   "cell_type": "code",
   "execution_count": 56,
   "metadata": {},
   "outputs": [],
   "source": [
    "def classify_example(example, tree):\n",
    "    question=list(tree.keys())[0] #the first question\n",
    "    feature_name, comparison_operator, value=question.split()#all 3 stored separately\n",
    "\n",
    "    #ask question\n",
    "    if example[feature_name]<=float(value):#\"weight<=38.5 similar\"\n",
    "        answer=tree[question][0]#yes\n",
    "    else:\n",
    "        answer=tree[question][1]#no\n",
    "\n",
    "    #base case\n",
    "    if not isinstance(answer, dict): #if answer is single \n",
    "        return answer\n",
    "    #recursive call of function\n",
    "    else:\n",
    "        residual_tree=answer #if answer is a list, another condition\n",
    "        return classify_example(example, residual_tree)\n",
    "    "
   ]
  },
  {
   "cell_type": "code",
   "execution_count": 57,
   "metadata": {},
   "outputs": [
    {
     "data": {
      "text/plain": [
       "1.0"
      ]
     },
     "execution_count": 57,
     "metadata": {},
     "output_type": "execute_result"
    }
   ],
   "source": [
    "classify_example(example, tree)"
   ]
  },
  {
   "cell_type": "code",
   "execution_count": 58,
   "metadata": {},
   "outputs": [
    {
     "data": {
      "text/plain": [
       "False"
      ]
     },
     "execution_count": 58,
     "metadata": {},
     "output_type": "execute_result"
    }
   ],
   "source": [
    "example[\"weight\"]<=37.5"
   ]
  },
  {
   "cell_type": "code",
   "execution_count": 59,
   "metadata": {},
   "outputs": [],
   "source": [
    "### Accuracy"
   ]
  },
  {
   "cell_type": "code",
   "execution_count": 65,
   "metadata": {},
   "outputs": [],
   "source": [
    "def calculate_accuracy(df, tree):\n",
    "    df[\"classification\"]=df.apply(classify_example, axis=1, args=(tree,))#create new column in df to compare easily\n",
    "    df[\"classification_correct\"]=df.classification==df.label#true if classified correctly\n",
    "    \n",
    "    accuracy=df.classification_correct.mean()*100 #accuracy percentage \n",
    "    return accuracy"
   ]
  },
  {
   "cell_type": "code",
   "execution_count": null,
   "metadata": {},
   "outputs": [],
   "source": []
  },
  {
   "cell_type": "code",
   "execution_count": 66,
   "metadata": {},
   "outputs": [
    {
     "data": {
      "text/plain": [
       "79.16666666666666"
      ]
     },
     "execution_count": 66,
     "metadata": {},
     "output_type": "execute_result"
    }
   ],
   "source": [
    "calculate_accuracy(test_df, tree)"
   ]
  },
  {
   "cell_type": "code",
   "execution_count": 62,
   "metadata": {},
   "outputs": [],
   "source": [
    "#test_df.loc[6]"
   ]
  },
  {
   "cell_type": "code",
   "execution_count": 67,
   "metadata": {},
   "outputs": [
    {
     "name": "stdout",
     "output_type": "stream",
     "text": [
      "{'weight <= 38.5': [0.0,\n",
      "                    {'BP <= 1.7256160915': [1.0,\n",
      "                                            {'BP <= 1.785139901': [0.0,\n",
      "                                                                   1.0]}]}]}\n",
      "100.0\n"
     ]
    }
   ],
   "source": [
    "random.seed(2)\n",
    "train_df, test_df =train_test_data_split(df, test_size=24)\n",
    "tree=decision_tree_algorithm(train_df,max_depth=3)\n",
    "accuracy=calculate_accuracy(test_df,tree)\n",
    "\n",
    "pprint(tree)\n",
    "print(accuracy)"
   ]
  },
  {
   "cell_type": "code",
   "execution_count": 68,
   "metadata": {},
   "outputs": [],
   "source": [
    "#df\n",
    "#random.seed(0)"
   ]
  },
  {
   "cell_type": "code",
   "execution_count": 69,
   "metadata": {},
   "outputs": [
    {
     "data": {
      "text/html": [
       "<div>\n",
       "<style scoped>\n",
       "    .dataframe tbody tr th:only-of-type {\n",
       "        vertical-align: middle;\n",
       "    }\n",
       "\n",
       "    .dataframe tbody tr th {\n",
       "        vertical-align: top;\n",
       "    }\n",
       "\n",
       "    .dataframe thead th {\n",
       "        text-align: right;\n",
       "    }\n",
       "</style>\n",
       "<table border=\"1\" class=\"dataframe\">\n",
       "  <thead>\n",
       "    <tr style=\"text-align: right;\">\n",
       "      <th></th>\n",
       "      <th>community</th>\n",
       "      <th>age</th>\n",
       "      <th>weight</th>\n",
       "      <th>history</th>\n",
       "      <th>Hb</th>\n",
       "      <th>IFA</th>\n",
       "      <th>BP</th>\n",
       "      <th>res</th>\n",
       "      <th>label</th>\n",
       "      <th>classification</th>\n",
       "      <th>classification_correct</th>\n",
       "    </tr>\n",
       "  </thead>\n",
       "  <tbody>\n",
       "    <tr>\n",
       "      <td>7</td>\n",
       "      <td>4</td>\n",
       "      <td>26</td>\n",
       "      <td>31</td>\n",
       "      <td>1</td>\n",
       "      <td>9.0</td>\n",
       "      <td>1</td>\n",
       "      <td>1.625000</td>\n",
       "      <td>1</td>\n",
       "      <td>0</td>\n",
       "      <td>0.0</td>\n",
       "      <td>True</td>\n",
       "    </tr>\n",
       "    <tr>\n",
       "      <td>11</td>\n",
       "      <td>3</td>\n",
       "      <td>35</td>\n",
       "      <td>36</td>\n",
       "      <td>1</td>\n",
       "      <td>9.9</td>\n",
       "      <td>1</td>\n",
       "      <td>1.571429</td>\n",
       "      <td>1</td>\n",
       "      <td>0</td>\n",
       "      <td>0.0</td>\n",
       "      <td>True</td>\n",
       "    </tr>\n",
       "    <tr>\n",
       "      <td>10</td>\n",
       "      <td>4</td>\n",
       "      <td>17</td>\n",
       "      <td>30</td>\n",
       "      <td>1</td>\n",
       "      <td>9.0</td>\n",
       "      <td>0</td>\n",
       "      <td>1.375000</td>\n",
       "      <td>1</td>\n",
       "      <td>0</td>\n",
       "      <td>0.0</td>\n",
       "      <td>True</td>\n",
       "    </tr>\n",
       "    <tr>\n",
       "      <td>46</td>\n",
       "      <td>1</td>\n",
       "      <td>21</td>\n",
       "      <td>39</td>\n",
       "      <td>1</td>\n",
       "      <td>8.9</td>\n",
       "      <td>1</td>\n",
       "      <td>1.571000</td>\n",
       "      <td>1</td>\n",
       "      <td>1</td>\n",
       "      <td>1.0</td>\n",
       "      <td>True</td>\n",
       "    </tr>\n",
       "    <tr>\n",
       "      <td>21</td>\n",
       "      <td>1</td>\n",
       "      <td>24</td>\n",
       "      <td>36</td>\n",
       "      <td>1</td>\n",
       "      <td>9.6</td>\n",
       "      <td>0</td>\n",
       "      <td>1.200000</td>\n",
       "      <td>1</td>\n",
       "      <td>0</td>\n",
       "      <td>0.0</td>\n",
       "      <td>True</td>\n",
       "    </tr>\n",
       "    <tr>\n",
       "      <td>94</td>\n",
       "      <td>1</td>\n",
       "      <td>24</td>\n",
       "      <td>40</td>\n",
       "      <td>1</td>\n",
       "      <td>9.1</td>\n",
       "      <td>0</td>\n",
       "      <td>1.696758</td>\n",
       "      <td>1</td>\n",
       "      <td>1</td>\n",
       "      <td>1.0</td>\n",
       "      <td>True</td>\n",
       "    </tr>\n",
       "    <tr>\n",
       "      <td>85</td>\n",
       "      <td>4</td>\n",
       "      <td>21</td>\n",
       "      <td>48</td>\n",
       "      <td>1</td>\n",
       "      <td>9.2</td>\n",
       "      <td>1</td>\n",
       "      <td>1.375000</td>\n",
       "      <td>1</td>\n",
       "      <td>1</td>\n",
       "      <td>1.0</td>\n",
       "      <td>True</td>\n",
       "    </tr>\n",
       "    <tr>\n",
       "      <td>39</td>\n",
       "      <td>4</td>\n",
       "      <td>24</td>\n",
       "      <td>48</td>\n",
       "      <td>1</td>\n",
       "      <td>9.6</td>\n",
       "      <td>1</td>\n",
       "      <td>1.333000</td>\n",
       "      <td>2</td>\n",
       "      <td>1</td>\n",
       "      <td>1.0</td>\n",
       "      <td>True</td>\n",
       "    </tr>\n",
       "    <tr>\n",
       "      <td>32</td>\n",
       "      <td>1</td>\n",
       "      <td>28</td>\n",
       "      <td>60</td>\n",
       "      <td>1</td>\n",
       "      <td>9.0</td>\n",
       "      <td>1</td>\n",
       "      <td>1.375000</td>\n",
       "      <td>1</td>\n",
       "      <td>1</td>\n",
       "      <td>1.0</td>\n",
       "      <td>True</td>\n",
       "    </tr>\n",
       "    <tr>\n",
       "      <td>77</td>\n",
       "      <td>1</td>\n",
       "      <td>23</td>\n",
       "      <td>60</td>\n",
       "      <td>1</td>\n",
       "      <td>10.0</td>\n",
       "      <td>1</td>\n",
       "      <td>1.375000</td>\n",
       "      <td>2</td>\n",
       "      <td>1</td>\n",
       "      <td>1.0</td>\n",
       "      <td>True</td>\n",
       "    </tr>\n",
       "    <tr>\n",
       "      <td>27</td>\n",
       "      <td>1</td>\n",
       "      <td>24</td>\n",
       "      <td>40</td>\n",
       "      <td>1</td>\n",
       "      <td>8.7</td>\n",
       "      <td>1</td>\n",
       "      <td>1.714286</td>\n",
       "      <td>1</td>\n",
       "      <td>1</td>\n",
       "      <td>1.0</td>\n",
       "      <td>True</td>\n",
       "    </tr>\n",
       "    <tr>\n",
       "      <td>91</td>\n",
       "      <td>3</td>\n",
       "      <td>27</td>\n",
       "      <td>45</td>\n",
       "      <td>1</td>\n",
       "      <td>9.1</td>\n",
       "      <td>0</td>\n",
       "      <td>1.500000</td>\n",
       "      <td>1</td>\n",
       "      <td>1</td>\n",
       "      <td>1.0</td>\n",
       "      <td>True</td>\n",
       "    </tr>\n",
       "    <tr>\n",
       "      <td>4</td>\n",
       "      <td>1</td>\n",
       "      <td>21</td>\n",
       "      <td>36</td>\n",
       "      <td>1</td>\n",
       "      <td>8.0</td>\n",
       "      <td>1</td>\n",
       "      <td>1.375000</td>\n",
       "      <td>1</td>\n",
       "      <td>0</td>\n",
       "      <td>0.0</td>\n",
       "      <td>True</td>\n",
       "    </tr>\n",
       "    <tr>\n",
       "      <td>74</td>\n",
       "      <td>3</td>\n",
       "      <td>23</td>\n",
       "      <td>44</td>\n",
       "      <td>1</td>\n",
       "      <td>10.4</td>\n",
       "      <td>1</td>\n",
       "      <td>1.375000</td>\n",
       "      <td>1</td>\n",
       "      <td>1</td>\n",
       "      <td>1.0</td>\n",
       "      <td>True</td>\n",
       "    </tr>\n",
       "    <tr>\n",
       "      <td>20</td>\n",
       "      <td>3</td>\n",
       "      <td>24</td>\n",
       "      <td>40</td>\n",
       "      <td>1</td>\n",
       "      <td>9.0</td>\n",
       "      <td>1</td>\n",
       "      <td>1.736946</td>\n",
       "      <td>1</td>\n",
       "      <td>0</td>\n",
       "      <td>0.0</td>\n",
       "      <td>True</td>\n",
       "    </tr>\n",
       "    <tr>\n",
       "      <td>55</td>\n",
       "      <td>2</td>\n",
       "      <td>22</td>\n",
       "      <td>40</td>\n",
       "      <td>1</td>\n",
       "      <td>8.9</td>\n",
       "      <td>1</td>\n",
       "      <td>1.375000</td>\n",
       "      <td>1</td>\n",
       "      <td>1</td>\n",
       "      <td>1.0</td>\n",
       "      <td>True</td>\n",
       "    </tr>\n",
       "    <tr>\n",
       "      <td>81</td>\n",
       "      <td>3</td>\n",
       "      <td>26</td>\n",
       "      <td>63</td>\n",
       "      <td>1</td>\n",
       "      <td>8.9</td>\n",
       "      <td>1</td>\n",
       "      <td>1.375000</td>\n",
       "      <td>2</td>\n",
       "      <td>1</td>\n",
       "      <td>1.0</td>\n",
       "      <td>True</td>\n",
       "    </tr>\n",
       "    <tr>\n",
       "      <td>50</td>\n",
       "      <td>4</td>\n",
       "      <td>26</td>\n",
       "      <td>52</td>\n",
       "      <td>1</td>\n",
       "      <td>8.4</td>\n",
       "      <td>1</td>\n",
       "      <td>1.375000</td>\n",
       "      <td>1</td>\n",
       "      <td>1</td>\n",
       "      <td>1.0</td>\n",
       "      <td>True</td>\n",
       "    </tr>\n",
       "    <tr>\n",
       "      <td>65</td>\n",
       "      <td>1</td>\n",
       "      <td>21</td>\n",
       "      <td>40</td>\n",
       "      <td>1</td>\n",
       "      <td>7.9</td>\n",
       "      <td>0</td>\n",
       "      <td>1.666667</td>\n",
       "      <td>1</td>\n",
       "      <td>1</td>\n",
       "      <td>1.0</td>\n",
       "      <td>True</td>\n",
       "    </tr>\n",
       "    <tr>\n",
       "      <td>47</td>\n",
       "      <td>3</td>\n",
       "      <td>21</td>\n",
       "      <td>64</td>\n",
       "      <td>1</td>\n",
       "      <td>8.8</td>\n",
       "      <td>1</td>\n",
       "      <td>1.666000</td>\n",
       "      <td>1</td>\n",
       "      <td>1</td>\n",
       "      <td>1.0</td>\n",
       "      <td>True</td>\n",
       "    </tr>\n",
       "    <tr>\n",
       "      <td>69</td>\n",
       "      <td>1</td>\n",
       "      <td>21</td>\n",
       "      <td>52</td>\n",
       "      <td>1</td>\n",
       "      <td>8.8</td>\n",
       "      <td>1</td>\n",
       "      <td>13.875000</td>\n",
       "      <td>2</td>\n",
       "      <td>1</td>\n",
       "      <td>1.0</td>\n",
       "      <td>True</td>\n",
       "    </tr>\n",
       "    <tr>\n",
       "      <td>56</td>\n",
       "      <td>1</td>\n",
       "      <td>21</td>\n",
       "      <td>43</td>\n",
       "      <td>1</td>\n",
       "      <td>9.2</td>\n",
       "      <td>1</td>\n",
       "      <td>1.375000</td>\n",
       "      <td>1</td>\n",
       "      <td>1</td>\n",
       "      <td>1.0</td>\n",
       "      <td>True</td>\n",
       "    </tr>\n",
       "    <tr>\n",
       "      <td>64</td>\n",
       "      <td>4</td>\n",
       "      <td>21</td>\n",
       "      <td>60</td>\n",
       "      <td>1</td>\n",
       "      <td>10.9</td>\n",
       "      <td>0</td>\n",
       "      <td>1.375000</td>\n",
       "      <td>1</td>\n",
       "      <td>1</td>\n",
       "      <td>1.0</td>\n",
       "      <td>True</td>\n",
       "    </tr>\n",
       "    <tr>\n",
       "      <td>34</td>\n",
       "      <td>1</td>\n",
       "      <td>24</td>\n",
       "      <td>48</td>\n",
       "      <td>1</td>\n",
       "      <td>9.0</td>\n",
       "      <td>1</td>\n",
       "      <td>1.375000</td>\n",
       "      <td>1</td>\n",
       "      <td>1</td>\n",
       "      <td>1.0</td>\n",
       "      <td>True</td>\n",
       "    </tr>\n",
       "  </tbody>\n",
       "</table>\n",
       "</div>"
      ],
      "text/plain": [
       "    community  age  weight  history    Hb  IFA         BP  res  label  \\\n",
       "7           4   26      31        1   9.0    1   1.625000    1      0   \n",
       "11          3   35      36        1   9.9    1   1.571429    1      0   \n",
       "10          4   17      30        1   9.0    0   1.375000    1      0   \n",
       "46          1   21      39        1   8.9    1   1.571000    1      1   \n",
       "21          1   24      36        1   9.6    0   1.200000    1      0   \n",
       "94          1   24      40        1   9.1    0   1.696758    1      1   \n",
       "85          4   21      48        1   9.2    1   1.375000    1      1   \n",
       "39          4   24      48        1   9.6    1   1.333000    2      1   \n",
       "32          1   28      60        1   9.0    1   1.375000    1      1   \n",
       "77          1   23      60        1  10.0    1   1.375000    2      1   \n",
       "27          1   24      40        1   8.7    1   1.714286    1      1   \n",
       "91          3   27      45        1   9.1    0   1.500000    1      1   \n",
       "4           1   21      36        1   8.0    1   1.375000    1      0   \n",
       "74          3   23      44        1  10.4    1   1.375000    1      1   \n",
       "20          3   24      40        1   9.0    1   1.736946    1      0   \n",
       "55          2   22      40        1   8.9    1   1.375000    1      1   \n",
       "81          3   26      63        1   8.9    1   1.375000    2      1   \n",
       "50          4   26      52        1   8.4    1   1.375000    1      1   \n",
       "65          1   21      40        1   7.9    0   1.666667    1      1   \n",
       "47          3   21      64        1   8.8    1   1.666000    1      1   \n",
       "69          1   21      52        1   8.8    1  13.875000    2      1   \n",
       "56          1   21      43        1   9.2    1   1.375000    1      1   \n",
       "64          4   21      60        1  10.9    0   1.375000    1      1   \n",
       "34          1   24      48        1   9.0    1   1.375000    1      1   \n",
       "\n",
       "    classification  classification_correct  \n",
       "7              0.0                    True  \n",
       "11             0.0                    True  \n",
       "10             0.0                    True  \n",
       "46             1.0                    True  \n",
       "21             0.0                    True  \n",
       "94             1.0                    True  \n",
       "85             1.0                    True  \n",
       "39             1.0                    True  \n",
       "32             1.0                    True  \n",
       "77             1.0                    True  \n",
       "27             1.0                    True  \n",
       "91             1.0                    True  \n",
       "4              0.0                    True  \n",
       "74             1.0                    True  \n",
       "20             0.0                    True  \n",
       "55             1.0                    True  \n",
       "81             1.0                    True  \n",
       "50             1.0                    True  \n",
       "65             1.0                    True  \n",
       "47             1.0                    True  \n",
       "69             1.0                    True  \n",
       "56             1.0                    True  \n",
       "64             1.0                    True  \n",
       "34             1.0                    True  "
      ]
     },
     "execution_count": 69,
     "metadata": {},
     "output_type": "execute_result"
    }
   ],
   "source": [
    "test_df"
   ]
  },
  {
   "cell_type": "code",
   "execution_count": 62,
   "metadata": {},
   "outputs": [
    {
     "data": {
      "text/plain": [
       "88.30083333333336"
      ]
     },
     "execution_count": 62,
     "metadata": {},
     "output_type": "execute_result"
    }
   ],
   "source": [
    "summation=0\n",
    "for i in range(1,10000,1):\n",
    "    train_df, test_df =train_test_data_split(df, test_size=24)\n",
    "    tree=decision_tree_algorithm(train_df,max_depth=3)\n",
    "    accuracy=calculate_accuracy(test_df,tree)\n",
    "    summation=summation+accuracy\n",
    "total=summation/10000\n",
    "    #pprint(tree)\n",
    "    #print(accuracy)\n",
    "total"
   ]
  },
  {
   "cell_type": "code",
   "execution_count": 63,
   "metadata": {},
   "outputs": [
    {
     "data": {
      "text/plain": [
       "88.36208333333322"
      ]
     },
     "execution_count": 63,
     "metadata": {},
     "output_type": "execute_result"
    }
   ],
   "source": [
    "random.seed(3)\n",
    "summation=0\n",
    "for i in range(1,10000,1):\n",
    "    train_df, test_df =train_test_data_split(df, test_size=24)\n",
    "    tree=decision_tree_algorithm(train_df,max_depth=3)\n",
    "    accuracy=calculate_accuracy(test_df,tree)\n",
    "    summation=summation+accuracy\n",
    "total=summation/10000\n",
    "    #pprint(tree)\n",
    "    #print(accuracy)\n",
    "total"
   ]
  },
  {
   "cell_type": "code",
   "execution_count": 217,
   "metadata": {},
   "outputs": [
    {
     "data": {
      "text/plain": [
       "88.27458333333351"
      ]
     },
     "execution_count": 217,
     "metadata": {},
     "output_type": "execute_result"
    }
   ],
   "source": [
    "random.seed(4)\n",
    "summation=0\n",
    "for i in range(1,10000,1):\n",
    "    train_df, test_df =train_test_data_split(df, test_size=24)\n",
    "    tree=decision_tree_algorithm(train_df,max_depth=3)\n",
    "    accuracy=calculate_accuracy(test_df,tree)\n",
    "    summation=summation+accuracy\n",
    "total=summation/10000\n",
    "    #pprint(tree)\n",
    "    #print(accuracy)\n",
    "total"
   ]
  },
  {
   "cell_type": "code",
   "execution_count": 165,
   "metadata": {},
   "outputs": [
    {
     "data": {
      "text/plain": [
       "90.02090909091162"
      ]
     },
     "execution_count": 165,
     "metadata": {},
     "output_type": "execute_result"
    }
   ],
   "source": [
    "random.seed(5)\n",
    "summation=0\n",
    "for i in range(1,10000,1):\n",
    "    train_df, test_df =train_test_data_split(df, test_size=11)\n",
    "    tree=decision_tree_algorithm(train_df,max_depth=3)\n",
    "    accuracy=calculate_accuracy(test_df,tree)\n",
    "    summation=summation+accuracy\n",
    "total=summation/10000\n",
    "    #pprint(tree)\n",
    "    #print(accuracy)\n",
    "total"
   ]
  },
  {
   "cell_type": "code",
   "execution_count": 166,
   "metadata": {},
   "outputs": [
    {
     "data": {
      "text/plain": [
       "90.101"
      ]
     },
     "execution_count": 166,
     "metadata": {},
     "output_type": "execute_result"
    }
   ],
   "source": [
    "random.seed(6)\n",
    "summation=0\n",
    "for i in range(1,10000,1):\n",
    "    train_df, test_df =train_test_data_split(df, test_size=10)\n",
    "    tree=decision_tree_algorithm(train_df,max_depth=3)\n",
    "    accuracy=calculate_accuracy(test_df,tree)\n",
    "    summation=summation+accuracy\n",
    "total=summation/10000\n",
    "    #pprint(tree)\n",
    "    #print(accuracy)\n",
    "total"
   ]
  },
  {
   "cell_type": "code",
   "execution_count": 167,
   "metadata": {},
   "outputs": [
    {
     "data": {
      "text/plain": [
       "90.101"
      ]
     },
     "execution_count": 167,
     "metadata": {},
     "output_type": "execute_result"
    }
   ],
   "source": [
    "random.seed(6)\n",
    "summation=0\n",
    "for i in range(1,10000,1):\n",
    "    train_df, test_df =train_test_data_split(df, test_size=10)\n",
    "    tree=decision_tree_algorithm(train_df,max_depth=3)\n",
    "    accuracy=calculate_accuracy(test_df,tree)\n",
    "    summation=summation+accuracy\n",
    "total=summation/10000\n",
    "    #pprint(tree)\n",
    "    #print(accuracy)\n",
    "total"
   ]
  },
  {
   "cell_type": "code",
   "execution_count": 248,
   "metadata": {},
   "outputs": [
    {
     "data": {
      "text/plain": [
       "10.600000000000001"
      ]
     },
     "execution_count": 248,
     "metadata": {},
     "output_type": "execute_result"
    }
   ],
   "source": [
    "0.1*106\n"
   ]
  },
  {
   "cell_type": "code",
   "execution_count": 329,
   "metadata": {},
   "outputs": [
    {
     "data": {
      "text/plain": [
       "88.8"
      ]
     },
     "execution_count": 329,
     "metadata": {},
     "output_type": "execute_result"
    }
   ],
   "source": [
    "random.seed(7)\n",
    "summation=0\n",
    "s_time=0\n",
    "for i in range(1,101,1):\n",
    "    train_df, test_df =train_test_data_split(df, test_size=10)\n",
    "    start=time.time()\n",
    "    tree=decision_tree_algorithm(train_df,max_depth=3)\n",
    "    end=time.time()\n",
    "    s_time=s_time+(end-start)\n",
    "    accuracy=calculate_accuracy(test_df,tree)\n",
    "    summation=summation+accuracy\n",
    "total=summation/10\n",
    "    #pprint(tree)\n",
    "    #print(accuracy)\n",
    "total\n"
   ]
  },
  {
   "cell_type": "code",
   "execution_count": 330,
   "metadata": {},
   "outputs": [
    {
     "data": {
      "text/plain": [
       "5.218558073043823"
      ]
     },
     "execution_count": 330,
     "metadata": {},
     "output_type": "execute_result"
    }
   ],
   "source": [
    "s_time"
   ]
  },
  {
   "cell_type": "code",
   "execution_count": 92,
   "metadata": {},
   "outputs": [
    {
     "data": {
      "text/plain": [
       "515.645646572113"
      ]
     },
     "execution_count": 92,
     "metadata": {},
     "output_type": "execute_result"
    }
   ],
   "source": [
    "random.seed(8)\n",
    "summation=0\n",
    "s_time=0\n",
    "for i in range(1,10001,1):\n",
    "    train_df, test_df =train_test_data_split(df, test_size=10)\n",
    "    start=time.time()\n",
    "    tree=decision_tree_algorithm(train_df,max_depth=3)\n",
    "    end=time.time()\n",
    "    s_time=s_time+(end-start)\n",
    "    accuracy=calculate_accuracy(test_df,tree)\n",
    "    summation=summation+accuracy\n",
    "total=summation/10001\n",
    "    #pprint(tree)\n",
    "    #print(accuracy)\n",
    "total\n",
    "s_time"
   ]
  },
  {
   "cell_type": "code",
   "execution_count": 94,
   "metadata": {},
   "outputs": [
    {
     "data": {
      "text/plain": [
       "515.645646572113"
      ]
     },
     "execution_count": 94,
     "metadata": {},
     "output_type": "execute_result"
    }
   ],
   "source": [
    "s_time"
   ]
  },
  {
   "cell_type": "code",
   "execution_count": 93,
   "metadata": {},
   "outputs": [
    {
     "data": {
      "text/plain": [
       "89.7950204979502"
      ]
     },
     "execution_count": 93,
     "metadata": {},
     "output_type": "execute_result"
    }
   ],
   "source": [
    "total"
   ]
  },
  {
   "cell_type": "code",
   "execution_count": null,
   "metadata": {},
   "outputs": [],
   "source": []
  },
  {
   "cell_type": "code",
   "execution_count": null,
   "metadata": {},
   "outputs": [],
   "source": []
  },
  {
   "cell_type": "code",
   "execution_count": null,
   "metadata": {},
   "outputs": [],
   "source": []
  },
  {
   "cell_type": "code",
   "execution_count": null,
   "metadata": {},
   "outputs": [],
   "source": []
  },
  {
   "cell_type": "code",
   "execution_count": null,
   "metadata": {},
   "outputs": [],
   "source": []
  },
  {
   "cell_type": "code",
   "execution_count": null,
   "metadata": {},
   "outputs": [],
   "source": []
  },
  {
   "cell_type": "code",
   "execution_count": null,
   "metadata": {},
   "outputs": [],
   "source": []
  }
 ],
 "metadata": {
  "kernelspec": {
   "display_name": "Python 3",
   "language": "python",
   "name": "python3"
  },
  "language_info": {
   "codemirror_mode": {
    "name": "ipython",
    "version": 3
   },
   "file_extension": ".py",
   "mimetype": "text/x-python",
   "name": "python",
   "nbconvert_exporter": "python",
   "pygments_lexer": "ipython3",
   "version": "3.7.4"
  }
 },
 "nbformat": 4,
 "nbformat_minor": 4
}
