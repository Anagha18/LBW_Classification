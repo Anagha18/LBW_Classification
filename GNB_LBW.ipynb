{
  "nbformat": 4,
  "nbformat_minor": 0,
  "metadata": {
    "colab": {
      "name": "GNB_LBW.ipynb",
      "provenance": [],
      "include_colab_link": true
    },
    "kernelspec": {
      "name": "python3",
      "display_name": "Python 3"
    }
  },
  "cells": [
    {
      "cell_type": "markdown",
      "metadata": {
        "id": "view-in-github",
        "colab_type": "text"
      },
      "source": [
        "<a href=\"https://colab.research.google.com/github/parthvshah/lbw-classification/blob/master/GNB_LBW.ipynb\" target=\"_parent\"><img src=\"https://colab.research.google.com/assets/colab-badge.svg\" alt=\"Open In Colab\"/></a>"
      ]
    },
    {
      "cell_type": "code",
      "metadata": {
        "id": "lTMmX9SEczYV",
        "colab_type": "code",
        "colab": {}
      },
      "source": [
        "import matplotlib.pyplot as plt\n",
        "from matplotlib import style\n",
        "import numpy as np\n",
        "style.use('ggplot')\n",
        "import pandas as pd"
      ],
      "execution_count": 0,
      "outputs": []
    },
    {
      "cell_type": "code",
      "metadata": {
        "id": "7q_HEljVdkqm",
        "colab_type": "code",
        "colab": {}
      },
      "source": [
        "#lbw1=pd.read_csv('ML.csv') #,encoding = \"ISO-8859-1\")"
      ],
      "execution_count": 0,
      "outputs": []
    },
    {
      "cell_type": "code",
      "metadata": {
        "id": "5HJBU8qCL4r7",
        "colab_type": "code",
        "colab": {}
      },
      "source": [
        "#lbw2=pd.read_csv('ML_1.csv')"
      ],
      "execution_count": 0,
      "outputs": []
    },
    {
      "cell_type": "code",
      "metadata": {
        "id": "s2f5Tq_udW2w",
        "colab_type": "code",
        "colab": {}
      },
      "source": [
        "# lbw1\n"
      ],
      "execution_count": 0,
      "outputs": []
    },
    {
      "cell_type": "code",
      "metadata": {
        "id": "uoDbJf37HlDa",
        "colab_type": "code",
        "colab": {}
      },
      "source": [
        "#lbw2=lbw2.iloc[:, list(range(9))]\n",
        "#print(lbw2)"
      ],
      "execution_count": 0,
      "outputs": []
    },
    {
      "cell_type": "code",
      "metadata": {
        "id": "NNM9Z6nBNNNw",
        "colab_type": "code",
        "colab": {}
      },
      "source": [
        "#lbw=lbw1.append(lbw2)\n"
      ],
      "execution_count": 0,
      "outputs": []
    },
    {
      "cell_type": "code",
      "metadata": {
        "id": "uzplmYbJNWVo",
        "colab_type": "code",
        "colab": {}
      },
      "source": [
        "lbw=pd.read_csv('part_1_0.csv')"
      ],
      "execution_count": 0,
      "outputs": []
    },
    {
      "cell_type": "code",
      "metadata": {
        "id": "PtMXoBpNsYJZ",
        "colab_type": "code",
        "colab": {
          "base_uri": "https://localhost:8080/",
          "height": 404
        },
        "outputId": "5c80dece-c170-4b03-a8fe-88a3dc7fffb8"
      },
      "source": [
        "lbw"
      ],
      "execution_count": 509,
      "outputs": [
        {
          "output_type": "execute_result",
          "data": {
            "text/html": [
              "<div>\n",
              "<style scoped>\n",
              "    .dataframe tbody tr th:only-of-type {\n",
              "        vertical-align: middle;\n",
              "    }\n",
              "\n",
              "    .dataframe tbody tr th {\n",
              "        vertical-align: top;\n",
              "    }\n",
              "\n",
              "    .dataframe thead th {\n",
              "        text-align: right;\n",
              "    }\n",
              "</style>\n",
              "<table border=\"1\" class=\"dataframe\">\n",
              "  <thead>\n",
              "    <tr style=\"text-align: right;\">\n",
              "      <th></th>\n",
              "      <th>community</th>\n",
              "      <th>age</th>\n",
              "      <th>weight</th>\n",
              "      <th>history</th>\n",
              "      <th>Hb</th>\n",
              "      <th>IFA</th>\n",
              "      <th>BP</th>\n",
              "      <th>res</th>\n",
              "      <th>reslt</th>\n",
              "    </tr>\n",
              "  </thead>\n",
              "  <tbody>\n",
              "    <tr>\n",
              "      <th>0</th>\n",
              "      <td>1</td>\n",
              "      <td>26</td>\n",
              "      <td>37</td>\n",
              "      <td>1</td>\n",
              "      <td>5.9</td>\n",
              "      <td>1</td>\n",
              "      <td>1.444444</td>\n",
              "      <td>1</td>\n",
              "      <td>0</td>\n",
              "    </tr>\n",
              "    <tr>\n",
              "      <th>1</th>\n",
              "      <td>1</td>\n",
              "      <td>21</td>\n",
              "      <td>42</td>\n",
              "      <td>1</td>\n",
              "      <td>9.2</td>\n",
              "      <td>1</td>\n",
              "      <td>1.375000</td>\n",
              "      <td>1</td>\n",
              "      <td>0</td>\n",
              "    </tr>\n",
              "    <tr>\n",
              "      <th>2</th>\n",
              "      <td>1</td>\n",
              "      <td>21</td>\n",
              "      <td>36</td>\n",
              "      <td>1</td>\n",
              "      <td>8.8</td>\n",
              "      <td>1</td>\n",
              "      <td>1.500000</td>\n",
              "      <td>1</td>\n",
              "      <td>0</td>\n",
              "    </tr>\n",
              "    <tr>\n",
              "      <th>3</th>\n",
              "      <td>1</td>\n",
              "      <td>21</td>\n",
              "      <td>36</td>\n",
              "      <td>1</td>\n",
              "      <td>9.2</td>\n",
              "      <td>1</td>\n",
              "      <td>2.125000</td>\n",
              "      <td>1</td>\n",
              "      <td>0</td>\n",
              "    </tr>\n",
              "    <tr>\n",
              "      <th>4</th>\n",
              "      <td>1</td>\n",
              "      <td>21</td>\n",
              "      <td>36</td>\n",
              "      <td>1</td>\n",
              "      <td>8.0</td>\n",
              "      <td>1</td>\n",
              "      <td>1.375000</td>\n",
              "      <td>1</td>\n",
              "      <td>0</td>\n",
              "    </tr>\n",
              "    <tr>\n",
              "      <th>...</th>\n",
              "      <td>...</td>\n",
              "      <td>...</td>\n",
              "      <td>...</td>\n",
              "      <td>...</td>\n",
              "      <td>...</td>\n",
              "      <td>...</td>\n",
              "      <td>...</td>\n",
              "      <td>...</td>\n",
              "      <td>...</td>\n",
              "    </tr>\n",
              "    <tr>\n",
              "      <th>96</th>\n",
              "      <td>3</td>\n",
              "      <td>21</td>\n",
              "      <td>55</td>\n",
              "      <td>1</td>\n",
              "      <td>9.0</td>\n",
              "      <td>0</td>\n",
              "      <td>1.375000</td>\n",
              "      <td>1</td>\n",
              "      <td>1</td>\n",
              "    </tr>\n",
              "    <tr>\n",
              "      <th>97</th>\n",
              "      <td>3</td>\n",
              "      <td>24</td>\n",
              "      <td>39</td>\n",
              "      <td>6</td>\n",
              "      <td>8.4</td>\n",
              "      <td>0</td>\n",
              "      <td>1.500000</td>\n",
              "      <td>1</td>\n",
              "      <td>1</td>\n",
              "    </tr>\n",
              "    <tr>\n",
              "      <th>98</th>\n",
              "      <td>3</td>\n",
              "      <td>24</td>\n",
              "      <td>50</td>\n",
              "      <td>1</td>\n",
              "      <td>9.1</td>\n",
              "      <td>0</td>\n",
              "      <td>1.375000</td>\n",
              "      <td>1</td>\n",
              "      <td>1</td>\n",
              "    </tr>\n",
              "    <tr>\n",
              "      <th>99</th>\n",
              "      <td>1</td>\n",
              "      <td>24</td>\n",
              "      <td>38</td>\n",
              "      <td>1</td>\n",
              "      <td>9.1</td>\n",
              "      <td>0</td>\n",
              "      <td>1.696758</td>\n",
              "      <td>1</td>\n",
              "      <td>1</td>\n",
              "    </tr>\n",
              "    <tr>\n",
              "      <th>100</th>\n",
              "      <td>3</td>\n",
              "      <td>21</td>\n",
              "      <td>50</td>\n",
              "      <td>1</td>\n",
              "      <td>9.0</td>\n",
              "      <td>1</td>\n",
              "      <td>1.375000</td>\n",
              "      <td>1</td>\n",
              "      <td>1</td>\n",
              "    </tr>\n",
              "  </tbody>\n",
              "</table>\n",
              "<p>101 rows × 9 columns</p>\n",
              "</div>"
            ],
            "text/plain": [
              "     community  age  weight  history   Hb  IFA        BP  res  reslt\n",
              "0            1   26      37        1  5.9    1  1.444444    1      0\n",
              "1            1   21      42        1  9.2    1  1.375000    1      0\n",
              "2            1   21      36        1  8.8    1  1.500000    1      0\n",
              "3            1   21      36        1  9.2    1  2.125000    1      0\n",
              "4            1   21      36        1  8.0    1  1.375000    1      0\n",
              "..         ...  ...     ...      ...  ...  ...       ...  ...    ...\n",
              "96           3   21      55        1  9.0    0  1.375000    1      1\n",
              "97           3   24      39        6  8.4    0  1.500000    1      1\n",
              "98           3   24      50        1  9.1    0  1.375000    1      1\n",
              "99           1   24      38        1  9.1    0  1.696758    1      1\n",
              "100          3   21      50        1  9.0    1  1.375000    1      1\n",
              "\n",
              "[101 rows x 9 columns]"
            ]
          },
          "metadata": {
            "tags": []
          },
          "execution_count": 509
        }
      ]
    },
    {
      "cell_type": "code",
      "metadata": {
        "id": "N5zABT2PsYR_",
        "colab_type": "code",
        "colab": {}
      },
      "source": [
        ""
      ],
      "execution_count": 0,
      "outputs": []
    },
    {
      "cell_type": "code",
      "metadata": {
        "id": "mbmpgtgVHxLU",
        "colab_type": "code",
        "colab": {}
      },
      "source": [
        "X = lbw.drop(\"reslt\", axis=1)\n",
        "X=X.drop(\"history\",axis=1)\n",
        "\n",
        "y = lbw[\"reslt\"]"
      ],
      "execution_count": 0,
      "outputs": []
    },
    {
      "cell_type": "code",
      "metadata": {
        "id": "m4UqGNxKIM7D",
        "colab_type": "code",
        "outputId": "52271c53-8a5c-4d76-c6ec-92628cbb6067",
        "colab": {
          "base_uri": "https://localhost:8080/",
          "height": 217
        }
      },
      "source": [
        "y"
      ],
      "execution_count": 511,
      "outputs": [
        {
          "output_type": "execute_result",
          "data": {
            "text/plain": [
              "0      0\n",
              "1      0\n",
              "2      0\n",
              "3      0\n",
              "4      0\n",
              "      ..\n",
              "96     1\n",
              "97     1\n",
              "98     1\n",
              "99     1\n",
              "100    1\n",
              "Name: reslt, Length: 101, dtype: int64"
            ]
          },
          "metadata": {
            "tags": []
          },
          "execution_count": 511
        }
      ]
    },
    {
      "cell_type": "code",
      "metadata": {
        "id": "6S_YjtwwIQ7g",
        "colab_type": "code",
        "colab": {
          "base_uri": "https://localhost:8080/",
          "height": 404
        },
        "outputId": "764bb6aa-d522-4e28-dd01-3001f429b215"
      },
      "source": [
        "X"
      ],
      "execution_count": 512,
      "outputs": [
        {
          "output_type": "execute_result",
          "data": {
            "text/html": [
              "<div>\n",
              "<style scoped>\n",
              "    .dataframe tbody tr th:only-of-type {\n",
              "        vertical-align: middle;\n",
              "    }\n",
              "\n",
              "    .dataframe tbody tr th {\n",
              "        vertical-align: top;\n",
              "    }\n",
              "\n",
              "    .dataframe thead th {\n",
              "        text-align: right;\n",
              "    }\n",
              "</style>\n",
              "<table border=\"1\" class=\"dataframe\">\n",
              "  <thead>\n",
              "    <tr style=\"text-align: right;\">\n",
              "      <th></th>\n",
              "      <th>community</th>\n",
              "      <th>age</th>\n",
              "      <th>weight</th>\n",
              "      <th>Hb</th>\n",
              "      <th>IFA</th>\n",
              "      <th>BP</th>\n",
              "      <th>res</th>\n",
              "    </tr>\n",
              "  </thead>\n",
              "  <tbody>\n",
              "    <tr>\n",
              "      <th>0</th>\n",
              "      <td>1</td>\n",
              "      <td>26</td>\n",
              "      <td>37</td>\n",
              "      <td>5.9</td>\n",
              "      <td>1</td>\n",
              "      <td>1.444444</td>\n",
              "      <td>1</td>\n",
              "    </tr>\n",
              "    <tr>\n",
              "      <th>1</th>\n",
              "      <td>1</td>\n",
              "      <td>21</td>\n",
              "      <td>42</td>\n",
              "      <td>9.2</td>\n",
              "      <td>1</td>\n",
              "      <td>1.375000</td>\n",
              "      <td>1</td>\n",
              "    </tr>\n",
              "    <tr>\n",
              "      <th>2</th>\n",
              "      <td>1</td>\n",
              "      <td>21</td>\n",
              "      <td>36</td>\n",
              "      <td>8.8</td>\n",
              "      <td>1</td>\n",
              "      <td>1.500000</td>\n",
              "      <td>1</td>\n",
              "    </tr>\n",
              "    <tr>\n",
              "      <th>3</th>\n",
              "      <td>1</td>\n",
              "      <td>21</td>\n",
              "      <td>36</td>\n",
              "      <td>9.2</td>\n",
              "      <td>1</td>\n",
              "      <td>2.125000</td>\n",
              "      <td>1</td>\n",
              "    </tr>\n",
              "    <tr>\n",
              "      <th>4</th>\n",
              "      <td>1</td>\n",
              "      <td>21</td>\n",
              "      <td>36</td>\n",
              "      <td>8.0</td>\n",
              "      <td>1</td>\n",
              "      <td>1.375000</td>\n",
              "      <td>1</td>\n",
              "    </tr>\n",
              "    <tr>\n",
              "      <th>...</th>\n",
              "      <td>...</td>\n",
              "      <td>...</td>\n",
              "      <td>...</td>\n",
              "      <td>...</td>\n",
              "      <td>...</td>\n",
              "      <td>...</td>\n",
              "      <td>...</td>\n",
              "    </tr>\n",
              "    <tr>\n",
              "      <th>96</th>\n",
              "      <td>3</td>\n",
              "      <td>21</td>\n",
              "      <td>55</td>\n",
              "      <td>9.0</td>\n",
              "      <td>0</td>\n",
              "      <td>1.375000</td>\n",
              "      <td>1</td>\n",
              "    </tr>\n",
              "    <tr>\n",
              "      <th>97</th>\n",
              "      <td>3</td>\n",
              "      <td>24</td>\n",
              "      <td>39</td>\n",
              "      <td>8.4</td>\n",
              "      <td>0</td>\n",
              "      <td>1.500000</td>\n",
              "      <td>1</td>\n",
              "    </tr>\n",
              "    <tr>\n",
              "      <th>98</th>\n",
              "      <td>3</td>\n",
              "      <td>24</td>\n",
              "      <td>50</td>\n",
              "      <td>9.1</td>\n",
              "      <td>0</td>\n",
              "      <td>1.375000</td>\n",
              "      <td>1</td>\n",
              "    </tr>\n",
              "    <tr>\n",
              "      <th>99</th>\n",
              "      <td>1</td>\n",
              "      <td>24</td>\n",
              "      <td>38</td>\n",
              "      <td>9.1</td>\n",
              "      <td>0</td>\n",
              "      <td>1.696758</td>\n",
              "      <td>1</td>\n",
              "    </tr>\n",
              "    <tr>\n",
              "      <th>100</th>\n",
              "      <td>3</td>\n",
              "      <td>21</td>\n",
              "      <td>50</td>\n",
              "      <td>9.0</td>\n",
              "      <td>1</td>\n",
              "      <td>1.375000</td>\n",
              "      <td>1</td>\n",
              "    </tr>\n",
              "  </tbody>\n",
              "</table>\n",
              "<p>101 rows × 7 columns</p>\n",
              "</div>"
            ],
            "text/plain": [
              "     community  age  weight   Hb  IFA        BP  res\n",
              "0            1   26      37  5.9    1  1.444444    1\n",
              "1            1   21      42  9.2    1  1.375000    1\n",
              "2            1   21      36  8.8    1  1.500000    1\n",
              "3            1   21      36  9.2    1  2.125000    1\n",
              "4            1   21      36  8.0    1  1.375000    1\n",
              "..         ...  ...     ...  ...  ...       ...  ...\n",
              "96           3   21      55  9.0    0  1.375000    1\n",
              "97           3   24      39  8.4    0  1.500000    1\n",
              "98           3   24      50  9.1    0  1.375000    1\n",
              "99           1   24      38  9.1    0  1.696758    1\n",
              "100          3   21      50  9.0    1  1.375000    1\n",
              "\n",
              "[101 rows x 7 columns]"
            ]
          },
          "metadata": {
            "tags": []
          },
          "execution_count": 512
        }
      ]
    },
    {
      "cell_type": "code",
      "metadata": {
        "id": "kxyoz7rVxWBE",
        "colab_type": "code",
        "colab": {}
      },
      "source": [
        "import pandas as pd\n",
        "from sklearn import preprocessing\n",
        "#normalize\n",
        "x =X #returns a numpy array\n",
        "min_max_scaler = preprocessing.MinMaxScaler()\n",
        "x_scaled = min_max_scaler.fit_transform(x)\n",
        "X= pd.DataFrame(x_scaled)"
      ],
      "execution_count": 0,
      "outputs": []
    },
    {
      "cell_type": "code",
      "metadata": {
        "id": "HntFDmLwxwya",
        "colab_type": "code",
        "colab": {
          "base_uri": "https://localhost:8080/",
          "height": 404
        },
        "outputId": "4437ca7a-110f-411a-a62a-5427e4871ed7"
      },
      "source": [
        "X"
      ],
      "execution_count": 514,
      "outputs": [
        {
          "output_type": "execute_result",
          "data": {
            "text/html": [
              "<div>\n",
              "<style scoped>\n",
              "    .dataframe tbody tr th:only-of-type {\n",
              "        vertical-align: middle;\n",
              "    }\n",
              "\n",
              "    .dataframe tbody tr th {\n",
              "        vertical-align: top;\n",
              "    }\n",
              "\n",
              "    .dataframe thead th {\n",
              "        text-align: right;\n",
              "    }\n",
              "</style>\n",
              "<table border=\"1\" class=\"dataframe\">\n",
              "  <thead>\n",
              "    <tr style=\"text-align: right;\">\n",
              "      <th></th>\n",
              "      <th>0</th>\n",
              "      <th>1</th>\n",
              "      <th>2</th>\n",
              "      <th>3</th>\n",
              "      <th>4</th>\n",
              "      <th>5</th>\n",
              "      <th>6</th>\n",
              "    </tr>\n",
              "  </thead>\n",
              "  <tbody>\n",
              "    <tr>\n",
              "      <th>0</th>\n",
              "      <td>0.000000</td>\n",
              "      <td>0.428571</td>\n",
              "      <td>0.200000</td>\n",
              "      <td>0.000000</td>\n",
              "      <td>1.0</td>\n",
              "      <td>0.019286</td>\n",
              "      <td>0.0</td>\n",
              "    </tr>\n",
              "    <tr>\n",
              "      <th>1</th>\n",
              "      <td>0.000000</td>\n",
              "      <td>0.190476</td>\n",
              "      <td>0.342857</td>\n",
              "      <td>0.647059</td>\n",
              "      <td>1.0</td>\n",
              "      <td>0.013807</td>\n",
              "      <td>0.0</td>\n",
              "    </tr>\n",
              "    <tr>\n",
              "      <th>2</th>\n",
              "      <td>0.000000</td>\n",
              "      <td>0.190476</td>\n",
              "      <td>0.171429</td>\n",
              "      <td>0.568627</td>\n",
              "      <td>1.0</td>\n",
              "      <td>0.023669</td>\n",
              "      <td>0.0</td>\n",
              "    </tr>\n",
              "    <tr>\n",
              "      <th>3</th>\n",
              "      <td>0.000000</td>\n",
              "      <td>0.190476</td>\n",
              "      <td>0.171429</td>\n",
              "      <td>0.647059</td>\n",
              "      <td>1.0</td>\n",
              "      <td>0.072978</td>\n",
              "      <td>0.0</td>\n",
              "    </tr>\n",
              "    <tr>\n",
              "      <th>4</th>\n",
              "      <td>0.000000</td>\n",
              "      <td>0.190476</td>\n",
              "      <td>0.171429</td>\n",
              "      <td>0.411765</td>\n",
              "      <td>1.0</td>\n",
              "      <td>0.013807</td>\n",
              "      <td>0.0</td>\n",
              "    </tr>\n",
              "    <tr>\n",
              "      <th>...</th>\n",
              "      <td>...</td>\n",
              "      <td>...</td>\n",
              "      <td>...</td>\n",
              "      <td>...</td>\n",
              "      <td>...</td>\n",
              "      <td>...</td>\n",
              "      <td>...</td>\n",
              "    </tr>\n",
              "    <tr>\n",
              "      <th>96</th>\n",
              "      <td>0.666667</td>\n",
              "      <td>0.190476</td>\n",
              "      <td>0.714286</td>\n",
              "      <td>0.607843</td>\n",
              "      <td>0.0</td>\n",
              "      <td>0.013807</td>\n",
              "      <td>0.0</td>\n",
              "    </tr>\n",
              "    <tr>\n",
              "      <th>97</th>\n",
              "      <td>0.666667</td>\n",
              "      <td>0.333333</td>\n",
              "      <td>0.257143</td>\n",
              "      <td>0.490196</td>\n",
              "      <td>0.0</td>\n",
              "      <td>0.023669</td>\n",
              "      <td>0.0</td>\n",
              "    </tr>\n",
              "    <tr>\n",
              "      <th>98</th>\n",
              "      <td>0.666667</td>\n",
              "      <td>0.333333</td>\n",
              "      <td>0.571429</td>\n",
              "      <td>0.627451</td>\n",
              "      <td>0.0</td>\n",
              "      <td>0.013807</td>\n",
              "      <td>0.0</td>\n",
              "    </tr>\n",
              "    <tr>\n",
              "      <th>99</th>\n",
              "      <td>0.000000</td>\n",
              "      <td>0.333333</td>\n",
              "      <td>0.228571</td>\n",
              "      <td>0.627451</td>\n",
              "      <td>0.0</td>\n",
              "      <td>0.039192</td>\n",
              "      <td>0.0</td>\n",
              "    </tr>\n",
              "    <tr>\n",
              "      <th>100</th>\n",
              "      <td>0.666667</td>\n",
              "      <td>0.190476</td>\n",
              "      <td>0.571429</td>\n",
              "      <td>0.607843</td>\n",
              "      <td>1.0</td>\n",
              "      <td>0.013807</td>\n",
              "      <td>0.0</td>\n",
              "    </tr>\n",
              "  </tbody>\n",
              "</table>\n",
              "<p>101 rows × 7 columns</p>\n",
              "</div>"
            ],
            "text/plain": [
              "            0         1         2         3    4         5    6\n",
              "0    0.000000  0.428571  0.200000  0.000000  1.0  0.019286  0.0\n",
              "1    0.000000  0.190476  0.342857  0.647059  1.0  0.013807  0.0\n",
              "2    0.000000  0.190476  0.171429  0.568627  1.0  0.023669  0.0\n",
              "3    0.000000  0.190476  0.171429  0.647059  1.0  0.072978  0.0\n",
              "4    0.000000  0.190476  0.171429  0.411765  1.0  0.013807  0.0\n",
              "..        ...       ...       ...       ...  ...       ...  ...\n",
              "96   0.666667  0.190476  0.714286  0.607843  0.0  0.013807  0.0\n",
              "97   0.666667  0.333333  0.257143  0.490196  0.0  0.023669  0.0\n",
              "98   0.666667  0.333333  0.571429  0.627451  0.0  0.013807  0.0\n",
              "99   0.000000  0.333333  0.228571  0.627451  0.0  0.039192  0.0\n",
              "100  0.666667  0.190476  0.571429  0.607843  1.0  0.013807  0.0\n",
              "\n",
              "[101 rows x 7 columns]"
            ]
          },
          "metadata": {
            "tags": []
          },
          "execution_count": 514
        }
      ]
    },
    {
      "cell_type": "code",
      "metadata": {
        "id": "Os0V5cP1xV_E",
        "colab_type": "code",
        "colab": {}
      },
      "source": [
        "from sklearn.model_selection import train_test_split\n",
        "X_train, X_test, y_train, y_test = train_test_split(X, y, test_size = 0.15)\n"
      ],
      "execution_count": 0,
      "outputs": []
    },
    {
      "cell_type": "code",
      "metadata": {
        "id": "8XdeDAoccSWA",
        "colab_type": "code",
        "outputId": "3a7bb8b4-67f1-4067-98b4-6a79595ea73a",
        "colab": {
          "base_uri": "https://localhost:8080/",
          "height": 404
        }
      },
      "source": [
        "X_train"
      ],
      "execution_count": 516,
      "outputs": [
        {
          "output_type": "execute_result",
          "data": {
            "text/html": [
              "<div>\n",
              "<style scoped>\n",
              "    .dataframe tbody tr th:only-of-type {\n",
              "        vertical-align: middle;\n",
              "    }\n",
              "\n",
              "    .dataframe tbody tr th {\n",
              "        vertical-align: top;\n",
              "    }\n",
              "\n",
              "    .dataframe thead th {\n",
              "        text-align: right;\n",
              "    }\n",
              "</style>\n",
              "<table border=\"1\" class=\"dataframe\">\n",
              "  <thead>\n",
              "    <tr style=\"text-align: right;\">\n",
              "      <th></th>\n",
              "      <th>0</th>\n",
              "      <th>1</th>\n",
              "      <th>2</th>\n",
              "      <th>3</th>\n",
              "      <th>4</th>\n",
              "      <th>5</th>\n",
              "      <th>6</th>\n",
              "    </tr>\n",
              "  </thead>\n",
              "  <tbody>\n",
              "    <tr>\n",
              "      <th>79</th>\n",
              "      <td>0.000000</td>\n",
              "      <td>0.380952</td>\n",
              "      <td>0.571429</td>\n",
              "      <td>0.000000</td>\n",
              "      <td>1.0</td>\n",
              "      <td>0.018033</td>\n",
              "      <td>1.0</td>\n",
              "    </tr>\n",
              "    <tr>\n",
              "      <th>33</th>\n",
              "      <td>1.000000</td>\n",
              "      <td>0.190476</td>\n",
              "      <td>0.200000</td>\n",
              "      <td>0.627451</td>\n",
              "      <td>1.0</td>\n",
              "      <td>0.013807</td>\n",
              "      <td>0.0</td>\n",
              "    </tr>\n",
              "    <tr>\n",
              "      <th>74</th>\n",
              "      <td>0.666667</td>\n",
              "      <td>0.285714</td>\n",
              "      <td>0.400000</td>\n",
              "      <td>0.882353</td>\n",
              "      <td>1.0</td>\n",
              "      <td>0.013807</td>\n",
              "      <td>0.0</td>\n",
              "    </tr>\n",
              "    <tr>\n",
              "      <th>7</th>\n",
              "      <td>1.000000</td>\n",
              "      <td>0.428571</td>\n",
              "      <td>0.028571</td>\n",
              "      <td>0.607843</td>\n",
              "      <td>1.0</td>\n",
              "      <td>0.033531</td>\n",
              "      <td>0.0</td>\n",
              "    </tr>\n",
              "    <tr>\n",
              "      <th>25</th>\n",
              "      <td>1.000000</td>\n",
              "      <td>0.333333</td>\n",
              "      <td>0.171429</td>\n",
              "      <td>0.607843</td>\n",
              "      <td>0.0</td>\n",
              "      <td>0.036413</td>\n",
              "      <td>0.0</td>\n",
              "    </tr>\n",
              "    <tr>\n",
              "      <th>...</th>\n",
              "      <td>...</td>\n",
              "      <td>...</td>\n",
              "      <td>...</td>\n",
              "      <td>...</td>\n",
              "      <td>...</td>\n",
              "      <td>...</td>\n",
              "      <td>...</td>\n",
              "    </tr>\n",
              "    <tr>\n",
              "      <th>39</th>\n",
              "      <td>1.000000</td>\n",
              "      <td>0.333333</td>\n",
              "      <td>0.514286</td>\n",
              "      <td>0.725490</td>\n",
              "      <td>1.0</td>\n",
              "      <td>0.010493</td>\n",
              "      <td>1.0</td>\n",
              "    </tr>\n",
              "    <tr>\n",
              "      <th>49</th>\n",
              "      <td>0.666667</td>\n",
              "      <td>0.380952</td>\n",
              "      <td>0.428571</td>\n",
              "      <td>0.666667</td>\n",
              "      <td>1.0</td>\n",
              "      <td>0.013807</td>\n",
              "      <td>0.0</td>\n",
              "    </tr>\n",
              "    <tr>\n",
              "      <th>36</th>\n",
              "      <td>0.000000</td>\n",
              "      <td>0.238095</td>\n",
              "      <td>0.142857</td>\n",
              "      <td>0.588235</td>\n",
              "      <td>1.0</td>\n",
              "      <td>0.023669</td>\n",
              "      <td>0.0</td>\n",
              "    </tr>\n",
              "    <tr>\n",
              "      <th>53</th>\n",
              "      <td>0.666667</td>\n",
              "      <td>0.857143</td>\n",
              "      <td>0.685714</td>\n",
              "      <td>0.588235</td>\n",
              "      <td>1.0</td>\n",
              "      <td>0.040575</td>\n",
              "      <td>0.0</td>\n",
              "    </tr>\n",
              "    <tr>\n",
              "      <th>55</th>\n",
              "      <td>0.333333</td>\n",
              "      <td>0.238095</td>\n",
              "      <td>0.285714</td>\n",
              "      <td>0.588235</td>\n",
              "      <td>1.0</td>\n",
              "      <td>0.013807</td>\n",
              "      <td>0.0</td>\n",
              "    </tr>\n",
              "  </tbody>\n",
              "</table>\n",
              "<p>85 rows × 7 columns</p>\n",
              "</div>"
            ],
            "text/plain": [
              "           0         1         2         3    4         5    6\n",
              "79  0.000000  0.380952  0.571429  0.000000  1.0  0.018033  1.0\n",
              "33  1.000000  0.190476  0.200000  0.627451  1.0  0.013807  0.0\n",
              "74  0.666667  0.285714  0.400000  0.882353  1.0  0.013807  0.0\n",
              "7   1.000000  0.428571  0.028571  0.607843  1.0  0.033531  0.0\n",
              "25  1.000000  0.333333  0.171429  0.607843  0.0  0.036413  0.0\n",
              "..       ...       ...       ...       ...  ...       ...  ...\n",
              "39  1.000000  0.333333  0.514286  0.725490  1.0  0.010493  1.0\n",
              "49  0.666667  0.380952  0.428571  0.666667  1.0  0.013807  0.0\n",
              "36  0.000000  0.238095  0.142857  0.588235  1.0  0.023669  0.0\n",
              "53  0.666667  0.857143  0.685714  0.588235  1.0  0.040575  0.0\n",
              "55  0.333333  0.238095  0.285714  0.588235  1.0  0.013807  0.0\n",
              "\n",
              "[85 rows x 7 columns]"
            ]
          },
          "metadata": {
            "tags": []
          },
          "execution_count": 516
        }
      ]
    },
    {
      "cell_type": "code",
      "metadata": {
        "id": "tmCUcOY42lnb",
        "colab_type": "code",
        "outputId": "4ad6e5ef-c5b5-4078-8229-e82e77016660",
        "colab": {
          "base_uri": "https://localhost:8080/",
          "height": 217
        }
      },
      "source": [
        "y_train"
      ],
      "execution_count": 517,
      "outputs": [
        {
          "output_type": "execute_result",
          "data": {
            "text/plain": [
              "79    1\n",
              "33    1\n",
              "74    1\n",
              "7     0\n",
              "25    0\n",
              "     ..\n",
              "39    1\n",
              "49    1\n",
              "36    1\n",
              "53    1\n",
              "55    1\n",
              "Name: reslt, Length: 85, dtype: int64"
            ]
          },
          "metadata": {
            "tags": []
          },
          "execution_count": 517
        }
      ]
    },
    {
      "cell_type": "markdown",
      "metadata": {
        "id": "VeP_pcSxXEkd",
        "colab_type": "text"
      },
      "source": [
        "Calculated Prior Probabilities for the classes"
      ]
    },
    {
      "cell_type": "code",
      "metadata": {
        "id": "I_pQVkKtO42-",
        "colab_type": "code",
        "outputId": "84ac9ce1-b7e6-4dd4-be37-b8e16ebf631f",
        "colab": {
          "base_uri": "https://localhost:8080/",
          "height": 50
        }
      },
      "source": [
        "def get_count_unique_vals(labels):\n",
        "  return dict(labels.value_counts())\n",
        "\n",
        "\n",
        "def prior_prob(labels):\n",
        "    counts=get_count_unique_vals(labels)\n",
        "    number_of_instances=labels.count()\n",
        "    #counts = labels.value_counts().to_dict()\n",
        "    print(counts.items())\n",
        "    priors={(key,value/number_of_instances) for key, value in counts.items()}\n",
        "    #prior_prob={key,value/}\n",
        "    return priors\n",
        "    \n",
        "priors=prior_prob(y_train)\n",
        "print(priors)"
      ],
      "execution_count": 518,
      "outputs": [
        {
          "output_type": "stream",
          "text": [
            "dict_items([(1, 64), (0, 21)])\n",
            "{(1, 0.7529411764705882), (0, 0.24705882352941178)}\n"
          ],
          "name": "stdout"
        }
      ]
    },
    {
      "cell_type": "code",
      "metadata": {
        "id": "XTss8HGff1m-",
        "colab_type": "code",
        "colab": {}
      },
      "source": [
        "# yy=y_train==0\n",
        "# yy.iloc[21]"
      ],
      "execution_count": 0,
      "outputs": []
    },
    {
      "cell_type": "code",
      "metadata": {
        "id": "Dl_5rg85czZt",
        "colab_type": "code",
        "colab": {}
      },
      "source": [
        "# filtered_training_set=X_train[(y_train==0)]\n",
        "# print(filtered_training_set)\n",
        "# print(y_train[(y_train== 0)])\n"
      ],
      "execution_count": 0,
      "outputs": []
    },
    {
      "cell_type": "code",
      "metadata": {
        "id": "A1_X2-litPXg",
        "colab_type": "code",
        "colab": {}
      },
      "source": [
        ""
      ],
      "execution_count": 0,
      "outputs": []
    },
    {
      "cell_type": "code",
      "metadata": {
        "id": "TLLhWeh_tpHq",
        "colab_type": "code",
        "colab": {}
      },
      "source": [
        ""
      ],
      "execution_count": 0,
      "outputs": []
    },
    {
      "cell_type": "code",
      "metadata": {
        "id": "lF896Cc7wwwd",
        "colab_type": "code",
        "colab": {
          "base_uri": "https://localhost:8080/",
          "height": 217
        },
        "outputId": "910df31c-1600-4b10-def2-294f1a530861"
      },
      "source": [
        "y_train"
      ],
      "execution_count": 520,
      "outputs": [
        {
          "output_type": "execute_result",
          "data": {
            "text/plain": [
              "79    1\n",
              "33    1\n",
              "74    1\n",
              "7     0\n",
              "25    0\n",
              "     ..\n",
              "39    1\n",
              "49    1\n",
              "36    1\n",
              "53    1\n",
              "55    1\n",
              "Name: reslt, Length: 85, dtype: int64"
            ]
          },
          "metadata": {
            "tags": []
          },
          "execution_count": 520
        }
      ]
    },
    {
      "cell_type": "markdown",
      "metadata": {
        "id": "R91AJaoAXa0Q",
        "colab_type": "text"
      },
      "source": [
        "Calculate Mean and Variance For all Features"
      ]
    },
    {
      "cell_type": "code",
      "metadata": {
        "id": "-SyWMW3CpDE-",
        "colab_type": "code",
        "colab": {}
      },
      "source": [
        "import math"
      ],
      "execution_count": 0,
      "outputs": []
    },
    {
      "cell_type": "code",
      "metadata": {
        "id": "MNgAy6HhXabn",
        "colab_type": "code",
        "colab": {}
      },
      "source": [
        "def calculate_mean(df):\n",
        "  return df.mean()\n",
        "def calculate_std_dev(df):\n",
        "  return df.std()\n",
        "\n",
        "def Calculate_Mean_and_Variance(X_train,y_train):\n",
        "  mean_and_variance_for_class={}\n",
        "  classes=y_train.unique()\n",
        "  for everyclass in classes:\n",
        "      filtered_training_set=X_train[(y_train==everyclass)]\n",
        "      mean_and_variance=dict()\n",
        "      for every_attribute in list(X_train.columns.values):\n",
        "          particular_attribute=filtered_training_set[every_attribute]\n",
        "          mean_and_variance[every_attribute]=[]\n",
        "          mean_for_this_attribute=calculate_mean(particular_attribute)\n",
        "          mean_and_variance[every_attribute].append(mean_for_this_attribute)\n",
        "          std_dev_for_this_attribute=calculate_std_dev(particular_attribute)\n",
        "          var_for_this_attribute=math.pow(std_dev_for_this_attribute,2)\n",
        "          mean_and_variance[every_attribute].append(var_for_this_attribute)\n",
        "      mean_and_variance_for_class[everyclass]=mean_and_variance\n",
        "  return mean_and_variance_for_class\n"
      ],
      "execution_count": 0,
      "outputs": []
    },
    {
      "cell_type": "code",
      "metadata": {
        "id": "0pCphk6Fon5n",
        "colab_type": "code",
        "colab": {}
      },
      "source": [
        "dictionary=Calculate_Mean_and_Variance(X_train,y_train)"
      ],
      "execution_count": 0,
      "outputs": []
    },
    {
      "cell_type": "code",
      "metadata": {
        "id": "Ur3Fu6-UpIFb",
        "colab_type": "code",
        "outputId": "0ab98e6e-fc1e-433d-e27c-21b49549e9ed",
        "colab": {
          "base_uri": "https://localhost:8080/",
          "height": 53
        }
      },
      "source": [
        "print((dictionary))"
      ],
      "execution_count": 524,
      "outputs": [
        {
          "output_type": "stream",
          "text": [
            "{1: {0: [0.40625000000000006, 0.16391093474426813], 1: [0.3288690476190474, 0.015528830579850992], 2: [0.47544642857142855, 0.04937783446712017], 3: [0.6277573529411767, 0.01791120860108749], 4: [0.75, 0.19047619047619044], 5: [0.04040716803747534, 0.014993386310125064], 6: [0.140625, 0.12276785714285714]}, 0: {0: [0.3333333333333334, 0.16666666666666666], 1: [0.32653061224489793, 0.03543893747975379], 2: [0.18367346938775506, 0.00959766763848396], 3: [0.6125116713352008, 0.03148422767799932], 4: [0.6190476190476191, 0.24761904761904752], 5: [0.045704091962055035, 0.004755861763793262], 6: [0.09523809523809523, 0.09047619047619046]}}\n"
          ],
          "name": "stdout"
        }
      ]
    },
    {
      "cell_type": "markdown",
      "metadata": {
        "id": "iigeFif1s5L2",
        "colab_type": "text"
      },
      "source": [
        ""
      ]
    },
    {
      "cell_type": "code",
      "metadata": {
        "id": "j6C8V5RRpONE",
        "colab_type": "code",
        "colab": {}
      },
      "source": [
        ""
      ],
      "execution_count": 0,
      "outputs": []
    },
    {
      "cell_type": "markdown",
      "metadata": {
        "id": "xkKB0oIFsCuj",
        "colab_type": "text"
      },
      "source": [
        "NOW using PDF Equation  \n",
        "Given a feature"
      ]
    },
    {
      "cell_type": "code",
      "metadata": {
        "id": "Ajac95kCsUp3",
        "colab_type": "code",
        "colab": {}
      },
      "source": [
        "def calculate_probability(x, mean, variance):\n",
        "    exponent = math.exp(-(math.pow(x - mean, 2) / (2 * variance)))\n",
        "    return (1 / (math.sqrt(2 * math.pi * variance))) * exponent\n"
      ],
      "execution_count": 0,
      "outputs": []
    },
    {
      "cell_type": "code",
      "metadata": {
        "id": "OmBjCi4syqXU",
        "colab_type": "code",
        "colab": {}
      },
      "source": [
        "def predict(X_test,mean_variance):\n",
        "    predictions = {}\n",
        "    for _, row in X_test.iterrows():\n",
        "        #print(_,row)\n",
        "        results = {}\n",
        "        for k, v in priors:\n",
        "            p = 0\n",
        "            for attr_name in list(X_test.columns.values):\n",
        "                prob = calculate_probability(row[attr_name], mean_variance[\n",
        "                    k][attr_name][0], mean_variance[k][attr_name][1])\n",
        "                if prob > 0:\n",
        "                    p += math.log(prob)\n",
        "            results[k] = math.log(v) + p\n",
        "        predictions[_] = max([key for key in results.keys() if results[\n",
        "            key] == results[max(results, key=results.get)]])\n",
        "    return predictions"
      ],
      "execution_count": 0,
      "outputs": []
    },
    {
      "cell_type": "code",
      "metadata": {
        "id": "VLfTP26czo2t",
        "colab_type": "code",
        "colab": {}
      },
      "source": [
        "\n",
        "predictions=predict(X_test,dictionary)"
      ],
      "execution_count": 0,
      "outputs": []
    },
    {
      "cell_type": "code",
      "metadata": {
        "id": "Gx5hkrG2yQEy",
        "colab_type": "code",
        "colab": {
          "base_uri": "https://localhost:8080/",
          "height": 284
        },
        "outputId": "4fcd77a4-6acc-4bcc-d609-acc08098bbfe"
      },
      "source": [
        "predictions"
      ],
      "execution_count": 528,
      "outputs": [
        {
          "output_type": "execute_result",
          "data": {
            "text/plain": [
              "{4: 0,\n",
              " 10: 0,\n",
              " 11: 0,\n",
              " 12: 0,\n",
              " 13: 0,\n",
              " 26: 1,\n",
              " 47: 1,\n",
              " 57: 1,\n",
              " 58: 1,\n",
              " 61: 1,\n",
              " 66: 1,\n",
              " 68: 1,\n",
              " 70: 1,\n",
              " 77: 1,\n",
              " 93: 1,\n",
              " 94: 0}"
            ]
          },
          "metadata": {
            "tags": []
          },
          "execution_count": 528
        }
      ]
    },
    {
      "cell_type": "code",
      "metadata": {
        "id": "TrZ1sVrF5sJV",
        "colab_type": "code",
        "outputId": "e7babae4-bbe4-422c-fd13-306ec06486db",
        "colab": {
          "base_uri": "https://localhost:8080/",
          "height": 524
        }
      },
      "source": [
        "X_test"
      ],
      "execution_count": 529,
      "outputs": [
        {
          "output_type": "execute_result",
          "data": {
            "text/html": [
              "<div>\n",
              "<style scoped>\n",
              "    .dataframe tbody tr th:only-of-type {\n",
              "        vertical-align: middle;\n",
              "    }\n",
              "\n",
              "    .dataframe tbody tr th {\n",
              "        vertical-align: top;\n",
              "    }\n",
              "\n",
              "    .dataframe thead th {\n",
              "        text-align: right;\n",
              "    }\n",
              "</style>\n",
              "<table border=\"1\" class=\"dataframe\">\n",
              "  <thead>\n",
              "    <tr style=\"text-align: right;\">\n",
              "      <th></th>\n",
              "      <th>0</th>\n",
              "      <th>1</th>\n",
              "      <th>2</th>\n",
              "      <th>3</th>\n",
              "      <th>4</th>\n",
              "      <th>5</th>\n",
              "      <th>6</th>\n",
              "    </tr>\n",
              "  </thead>\n",
              "  <tbody>\n",
              "    <tr>\n",
              "      <th>10</th>\n",
              "      <td>1.000000</td>\n",
              "      <td>0.000000</td>\n",
              "      <td>0.000000</td>\n",
              "      <td>0.607843</td>\n",
              "      <td>0.0</td>\n",
              "      <td>0.013807</td>\n",
              "      <td>0.0</td>\n",
              "    </tr>\n",
              "    <tr>\n",
              "      <th>68</th>\n",
              "      <td>0.000000</td>\n",
              "      <td>0.190476</td>\n",
              "      <td>0.600000</td>\n",
              "      <td>0.411765</td>\n",
              "      <td>1.0</td>\n",
              "      <td>0.102564</td>\n",
              "      <td>1.0</td>\n",
              "    </tr>\n",
              "    <tr>\n",
              "      <th>77</th>\n",
              "      <td>0.000000</td>\n",
              "      <td>0.285714</td>\n",
              "      <td>0.857143</td>\n",
              "      <td>0.803922</td>\n",
              "      <td>1.0</td>\n",
              "      <td>0.013807</td>\n",
              "      <td>1.0</td>\n",
              "    </tr>\n",
              "    <tr>\n",
              "      <th>57</th>\n",
              "      <td>1.000000</td>\n",
              "      <td>0.333333</td>\n",
              "      <td>0.571429</td>\n",
              "      <td>0.490196</td>\n",
              "      <td>1.0</td>\n",
              "      <td>0.013807</td>\n",
              "      <td>0.0</td>\n",
              "    </tr>\n",
              "    <tr>\n",
              "      <th>11</th>\n",
              "      <td>0.666667</td>\n",
              "      <td>0.857143</td>\n",
              "      <td>0.171429</td>\n",
              "      <td>0.784314</td>\n",
              "      <td>1.0</td>\n",
              "      <td>0.029304</td>\n",
              "      <td>0.0</td>\n",
              "    </tr>\n",
              "    <tr>\n",
              "      <th>4</th>\n",
              "      <td>0.000000</td>\n",
              "      <td>0.190476</td>\n",
              "      <td>0.171429</td>\n",
              "      <td>0.411765</td>\n",
              "      <td>1.0</td>\n",
              "      <td>0.013807</td>\n",
              "      <td>0.0</td>\n",
              "    </tr>\n",
              "    <tr>\n",
              "      <th>58</th>\n",
              "      <td>0.666667</td>\n",
              "      <td>0.333333</td>\n",
              "      <td>0.457143</td>\n",
              "      <td>0.058824</td>\n",
              "      <td>1.0</td>\n",
              "      <td>0.040575</td>\n",
              "      <td>0.0</td>\n",
              "    </tr>\n",
              "    <tr>\n",
              "      <th>66</th>\n",
              "      <td>0.000000</td>\n",
              "      <td>0.380952</td>\n",
              "      <td>0.314286</td>\n",
              "      <td>0.627451</td>\n",
              "      <td>0.0</td>\n",
              "      <td>0.013807</td>\n",
              "      <td>0.0</td>\n",
              "    </tr>\n",
              "    <tr>\n",
              "      <th>26</th>\n",
              "      <td>0.000000</td>\n",
              "      <td>0.333333</td>\n",
              "      <td>0.542857</td>\n",
              "      <td>0.588235</td>\n",
              "      <td>1.0</td>\n",
              "      <td>0.010519</td>\n",
              "      <td>0.0</td>\n",
              "    </tr>\n",
              "    <tr>\n",
              "      <th>13</th>\n",
              "      <td>0.000000</td>\n",
              "      <td>0.190476</td>\n",
              "      <td>0.057143</td>\n",
              "      <td>0.607843</td>\n",
              "      <td>0.0</td>\n",
              "      <td>0.042363</td>\n",
              "      <td>0.0</td>\n",
              "    </tr>\n",
              "    <tr>\n",
              "      <th>12</th>\n",
              "      <td>0.666667</td>\n",
              "      <td>0.333333</td>\n",
              "      <td>0.228571</td>\n",
              "      <td>0.607843</td>\n",
              "      <td>0.0</td>\n",
              "      <td>0.042363</td>\n",
              "      <td>0.0</td>\n",
              "    </tr>\n",
              "    <tr>\n",
              "      <th>94</th>\n",
              "      <td>0.000000</td>\n",
              "      <td>0.333333</td>\n",
              "      <td>0.285714</td>\n",
              "      <td>0.627451</td>\n",
              "      <td>0.0</td>\n",
              "      <td>0.039192</td>\n",
              "      <td>0.0</td>\n",
              "    </tr>\n",
              "    <tr>\n",
              "      <th>61</th>\n",
              "      <td>0.000000</td>\n",
              "      <td>0.380952</td>\n",
              "      <td>0.285714</td>\n",
              "      <td>0.647059</td>\n",
              "      <td>1.0</td>\n",
              "      <td>0.013807</td>\n",
              "      <td>0.0</td>\n",
              "    </tr>\n",
              "    <tr>\n",
              "      <th>93</th>\n",
              "      <td>0.666667</td>\n",
              "      <td>0.190476</td>\n",
              "      <td>0.514286</td>\n",
              "      <td>0.627451</td>\n",
              "      <td>0.0</td>\n",
              "      <td>0.039192</td>\n",
              "      <td>0.0</td>\n",
              "    </tr>\n",
              "    <tr>\n",
              "      <th>70</th>\n",
              "      <td>1.000000</td>\n",
              "      <td>0.047619</td>\n",
              "      <td>0.600000</td>\n",
              "      <td>0.960784</td>\n",
              "      <td>1.0</td>\n",
              "      <td>0.029304</td>\n",
              "      <td>0.0</td>\n",
              "    </tr>\n",
              "    <tr>\n",
              "      <th>47</th>\n",
              "      <td>0.666667</td>\n",
              "      <td>0.190476</td>\n",
              "      <td>0.971429</td>\n",
              "      <td>0.568627</td>\n",
              "      <td>1.0</td>\n",
              "      <td>0.036765</td>\n",
              "      <td>0.0</td>\n",
              "    </tr>\n",
              "  </tbody>\n",
              "</table>\n",
              "</div>"
            ],
            "text/plain": [
              "           0         1         2         3    4         5    6\n",
              "10  1.000000  0.000000  0.000000  0.607843  0.0  0.013807  0.0\n",
              "68  0.000000  0.190476  0.600000  0.411765  1.0  0.102564  1.0\n",
              "77  0.000000  0.285714  0.857143  0.803922  1.0  0.013807  1.0\n",
              "57  1.000000  0.333333  0.571429  0.490196  1.0  0.013807  0.0\n",
              "11  0.666667  0.857143  0.171429  0.784314  1.0  0.029304  0.0\n",
              "4   0.000000  0.190476  0.171429  0.411765  1.0  0.013807  0.0\n",
              "58  0.666667  0.333333  0.457143  0.058824  1.0  0.040575  0.0\n",
              "66  0.000000  0.380952  0.314286  0.627451  0.0  0.013807  0.0\n",
              "26  0.000000  0.333333  0.542857  0.588235  1.0  0.010519  0.0\n",
              "13  0.000000  0.190476  0.057143  0.607843  0.0  0.042363  0.0\n",
              "12  0.666667  0.333333  0.228571  0.607843  0.0  0.042363  0.0\n",
              "94  0.000000  0.333333  0.285714  0.627451  0.0  0.039192  0.0\n",
              "61  0.000000  0.380952  0.285714  0.647059  1.0  0.013807  0.0\n",
              "93  0.666667  0.190476  0.514286  0.627451  0.0  0.039192  0.0\n",
              "70  1.000000  0.047619  0.600000  0.960784  1.0  0.029304  0.0\n",
              "47  0.666667  0.190476  0.971429  0.568627  1.0  0.036765  0.0"
            ]
          },
          "metadata": {
            "tags": []
          },
          "execution_count": 529
        }
      ]
    },
    {
      "cell_type": "code",
      "metadata": {
        "id": "H4G-MI1x6PO2",
        "colab_type": "code",
        "outputId": "a7f71962-61eb-47d7-80df-6c05f96c2785",
        "colab": {
          "base_uri": "https://localhost:8080/",
          "height": 301
        }
      },
      "source": [
        "y_test"
      ],
      "execution_count": 530,
      "outputs": [
        {
          "output_type": "execute_result",
          "data": {
            "text/plain": [
              "10    0\n",
              "68    1\n",
              "77    1\n",
              "57    1\n",
              "11    0\n",
              "4     0\n",
              "58    1\n",
              "66    1\n",
              "26    1\n",
              "13    0\n",
              "12    0\n",
              "94    1\n",
              "61    1\n",
              "93    1\n",
              "70    1\n",
              "47    1\n",
              "Name: reslt, dtype: int64"
            ]
          },
          "metadata": {
            "tags": []
          },
          "execution_count": 530
        }
      ]
    },
    {
      "cell_type": "code",
      "metadata": {
        "id": "fUACTi0H5YpI",
        "colab_type": "code",
        "outputId": "cee2ca79-e9e3-4cb8-ad31-b2e89062d6ec",
        "colab": {
          "base_uri": "https://localhost:8080/",
          "height": 33
        }
      },
      "source": [
        "def acc(y_test,prediction):\n",
        "  count=0\n",
        "  for ind,row in y_test.iteritems():\n",
        "    if row == prediction[ind]:\n",
        "      count+=1\n",
        "  return count/len(y_test)*100.0\n",
        "\n",
        "accuracy=acc(y_test,predictions)\n",
        "print(accuracy)\n",
        "\n",
        "def calculate_accuracy(test_set, predictions):\n",
        "    correct = 0\n",
        "    for _, t in test_set.iterrows():\n",
        "        if t[\"reslt\"] == predictions[_]:\n",
        "            correct += 1\n",
        "    return (correct / len(test_set)) * 100.0"
      ],
      "execution_count": 531,
      "outputs": [
        {
          "output_type": "stream",
          "text": [
            "93.75\n"
          ],
          "name": "stdout"
        }
      ]
    },
    {
      "cell_type": "code",
      "metadata": {
        "id": "iOJMpKWLl7vL",
        "colab_type": "code",
        "colab": {}
      },
      "source": [
        "#done"
      ],
      "execution_count": 0,
      "outputs": []
    },
    {
      "cell_type": "code",
      "metadata": {
        "id": "6AFdnDrRl8IB",
        "colab_type": "code",
        "colab": {}
      },
      "source": [
        ""
      ],
      "execution_count": 0,
      "outputs": []
    },
    {
      "cell_type": "code",
      "metadata": {
        "id": "WbmUzrJtl8We",
        "colab_type": "code",
        "colab": {}
      },
      "source": [
        ""
      ],
      "execution_count": 0,
      "outputs": []
    },
    {
      "cell_type": "code",
      "metadata": {
        "id": "k4zz3H_7l8c6",
        "colab_type": "code",
        "colab": {}
      },
      "source": [
        ""
      ],
      "execution_count": 0,
      "outputs": []
    },
    {
      "cell_type": "code",
      "metadata": {
        "id": "UrDRHbPol8hL",
        "colab_type": "code",
        "colab": {}
      },
      "source": [
        ""
      ],
      "execution_count": 0,
      "outputs": []
    },
    {
      "cell_type": "code",
      "metadata": {
        "id": "6M5xUP8dl8bM",
        "colab_type": "code",
        "colab": {}
      },
      "source": [
        ""
      ],
      "execution_count": 0,
      "outputs": []
    },
    {
      "cell_type": "code",
      "metadata": {
        "id": "rhw3KYyql8U4",
        "colab_type": "code",
        "colab": {}
      },
      "source": [
        ""
      ],
      "execution_count": 0,
      "outputs": []
    },
    {
      "cell_type": "code",
      "metadata": {
        "id": "0dRvkV21IW-5",
        "colab_type": "code",
        "colab": {}
      },
      "source": [
        "# from sklearn.svm import SVC\n",
        "# svclassifier = SVC(kernel='poly')\n",
        "# svclassifier.fit(X_train, y_train)"
      ],
      "execution_count": 0,
      "outputs": []
    },
    {
      "cell_type": "code",
      "metadata": {
        "id": "8hHfsQOjIenM",
        "colab_type": "code",
        "colab": {}
      },
      "source": [
        "# y_pred = svclassifier.predict(X_test)"
      ],
      "execution_count": 0,
      "outputs": []
    },
    {
      "cell_type": "code",
      "metadata": {
        "id": "2zTqKIEJIkNz",
        "colab_type": "code",
        "colab": {}
      },
      "source": [
        "# from sklearn.metrics import classification_report, confusion_matrix\n",
        "# print(confusion_matrix(y_test,y_pred))\n",
        "# print(classification_report(y_test,y_pred))"
      ],
      "execution_count": 0,
      "outputs": []
    },
    {
      "cell_type": "code",
      "metadata": {
        "id": "oLaURhfQIoek",
        "colab_type": "code",
        "colab": {}
      },
      "source": [
        "# X_train"
      ],
      "execution_count": 0,
      "outputs": []
    },
    {
      "cell_type": "markdown",
      "metadata": {
        "id": "mj4NZVJQJSeg",
        "colab_type": "text"
      },
      "source": [
        "LETS Normalize"
      ]
    },
    {
      "cell_type": "code",
      "metadata": {
        "id": "a6gBJ8lWJWwX",
        "colab_type": "code",
        "colab": {}
      },
      "source": [
        "# import pandas as pd\n",
        "# from sklearn import preprocessing\n",
        "\n",
        "# x =X_train.values #returns a numpy array\n"
      ],
      "execution_count": 0,
      "outputs": []
    },
    {
      "cell_type": "code",
      "metadata": {
        "id": "H0vMVBz5JZqG",
        "colab_type": "code",
        "colab": {}
      },
      "source": [
        "# min_max_scaler = preprocessing.MinMaxScaler()\n",
        "# x_scaled = min_max_scaler.fit_transform(x)\n",
        "# X_train= pd.DataFrame(x_scaled)"
      ],
      "execution_count": 0,
      "outputs": []
    },
    {
      "cell_type": "code",
      "metadata": {
        "id": "R7eJHLc2O9wr",
        "colab_type": "code",
        "colab": {}
      },
      "source": [
        ""
      ],
      "execution_count": 0,
      "outputs": []
    },
    {
      "cell_type": "code",
      "metadata": {
        "id": "hioViqUJPE6G",
        "colab_type": "code",
        "outputId": "06d138f4-781e-4ad0-e036-ce672f4de589",
        "colab": {
          "base_uri": "https://localhost:8080/",
          "height": 217
        }
      },
      "source": [
        "y_train"
      ],
      "execution_count": 538,
      "outputs": [
        {
          "output_type": "execute_result",
          "data": {
            "text/plain": [
              "79    1\n",
              "33    1\n",
              "74    1\n",
              "7     0\n",
              "25    0\n",
              "     ..\n",
              "39    1\n",
              "49    1\n",
              "36    1\n",
              "53    1\n",
              "55    1\n",
              "Name: reslt, Length: 85, dtype: int64"
            ]
          },
          "metadata": {
            "tags": []
          },
          "execution_count": 538
        }
      ]
    },
    {
      "cell_type": "code",
      "metadata": {
        "id": "dBiK7owhJipj",
        "colab_type": "code",
        "colab": {}
      },
      "source": [
        "# from sklearn.svm import SVC\n",
        "# svclassifier = SVC(kernel='rbf',degree=8,tol=1e-7,verbose=True,gamma='scale',shrinking=True)\n",
        "# svclassifier.fit(X_train, y_train)\n",
        "# y_pred = svclassifier.predict(X_test)\n"
      ],
      "execution_count": 0,
      "outputs": []
    },
    {
      "cell_type": "markdown",
      "metadata": {
        "id": "N6B6p6lKtP4g",
        "colab_type": "text"
      },
      "source": [
        "On Train"
      ]
    },
    {
      "cell_type": "code",
      "metadata": {
        "id": "lSGgyZUDtTXT",
        "colab_type": "code",
        "colab": {}
      },
      "source": [
        "# y_pred_on_train=svclassifier.predict(X_train)"
      ],
      "execution_count": 0,
      "outputs": []
    },
    {
      "cell_type": "code",
      "metadata": {
        "id": "12xRkiuCt7ju",
        "colab_type": "code",
        "colab": {}
      },
      "source": [
        "# from sklearn.metrics import classification_report, confusion_matrix\n",
        "# print(confusion_matrix(y_test,y_pred))\n",
        "# print(classification_report(y_train,y_pred_on_train))"
      ],
      "execution_count": 0,
      "outputs": []
    },
    {
      "cell_type": "markdown",
      "metadata": {
        "id": "gH0-nU99tKt0",
        "colab_type": "text"
      },
      "source": [
        "ON Test Set"
      ]
    },
    {
      "cell_type": "code",
      "metadata": {
        "id": "lDpgYqtYJ5Xl",
        "colab_type": "code",
        "colab": {}
      },
      "source": [
        "# from sklearn.metrics import classification_report, confusion_matrix\n",
        "# print(confusion_matrix(y_test,y_pred))\n",
        "# print(classification_report(y_test,y_pred))"
      ],
      "execution_count": 0,
      "outputs": []
    },
    {
      "cell_type": "code",
      "metadata": {
        "id": "ccVDdgxDMOa6",
        "colab_type": "code",
        "colab": {}
      },
      "source": [
        ""
      ],
      "execution_count": 0,
      "outputs": []
    }
  ]
}