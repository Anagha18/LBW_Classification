{
 "cells": [
  {
   "cell_type": "code",
   "execution_count": 2,
   "metadata": {},
   "outputs": [],
   "source": [
    "#Import Statements"
   ]
  },
  {
   "cell_type": "code",
   "execution_count": 3,
   "metadata": {},
   "outputs": [],
   "source": [
    "import numpy as np\n",
    "import pandas as pd\n",
    "import matplotlib.pyplot as plt\n",
    "import seaborn as sns"
   ]
  },
  {
   "cell_type": "code",
   "execution_count": 4,
   "metadata": {},
   "outputs": [],
   "source": [
    "#display matplotlib graphs in the notebook"
   ]
  },
  {
   "cell_type": "code",
   "execution_count": 13,
   "metadata": {},
   "outputs": [],
   "source": [
    "import random\n",
    "from pprint import pprint"
   ]
  },
  {
   "cell_type": "code",
   "execution_count": 5,
   "metadata": {},
   "outputs": [],
   "source": [
    "#Load and prepare data"
   ]
  },
  {
   "cell_type": "code",
   "execution_count": 6,
   "metadata": {},
   "outputs": [],
   "source": [
    "df=pd.read_csv(\"part_1_0.csv\")\n",
    "df= df.rename(columns={\"reslt\":\"label\"})"
   ]
  },
  {
   "cell_type": "code",
   "execution_count": 7,
   "metadata": {},
   "outputs": [
    {
     "data": {
      "text/html": [
       "<div>\n",
       "<style scoped>\n",
       "    .dataframe tbody tr th:only-of-type {\n",
       "        vertical-align: middle;\n",
       "    }\n",
       "\n",
       "    .dataframe tbody tr th {\n",
       "        vertical-align: top;\n",
       "    }\n",
       "\n",
       "    .dataframe thead th {\n",
       "        text-align: right;\n",
       "    }\n",
       "</style>\n",
       "<table border=\"1\" class=\"dataframe\">\n",
       "  <thead>\n",
       "    <tr style=\"text-align: right;\">\n",
       "      <th></th>\n",
       "      <th>community</th>\n",
       "      <th>age</th>\n",
       "      <th>weight</th>\n",
       "      <th>history</th>\n",
       "      <th>Hb</th>\n",
       "      <th>IFA</th>\n",
       "      <th>BP</th>\n",
       "      <th>res</th>\n",
       "      <th>label</th>\n",
       "    </tr>\n",
       "  </thead>\n",
       "  <tbody>\n",
       "    <tr>\n",
       "      <td>0</td>\n",
       "      <td>1</td>\n",
       "      <td>26</td>\n",
       "      <td>37</td>\n",
       "      <td>1</td>\n",
       "      <td>5.9</td>\n",
       "      <td>1</td>\n",
       "      <td>1.444444</td>\n",
       "      <td>1</td>\n",
       "      <td>0</td>\n",
       "    </tr>\n",
       "    <tr>\n",
       "      <td>1</td>\n",
       "      <td>1</td>\n",
       "      <td>21</td>\n",
       "      <td>42</td>\n",
       "      <td>1</td>\n",
       "      <td>9.2</td>\n",
       "      <td>1</td>\n",
       "      <td>1.375000</td>\n",
       "      <td>1</td>\n",
       "      <td>0</td>\n",
       "    </tr>\n",
       "    <tr>\n",
       "      <td>2</td>\n",
       "      <td>1</td>\n",
       "      <td>21</td>\n",
       "      <td>36</td>\n",
       "      <td>1</td>\n",
       "      <td>8.8</td>\n",
       "      <td>1</td>\n",
       "      <td>1.500000</td>\n",
       "      <td>1</td>\n",
       "      <td>0</td>\n",
       "    </tr>\n",
       "    <tr>\n",
       "      <td>3</td>\n",
       "      <td>1</td>\n",
       "      <td>21</td>\n",
       "      <td>36</td>\n",
       "      <td>1</td>\n",
       "      <td>9.2</td>\n",
       "      <td>1</td>\n",
       "      <td>2.125000</td>\n",
       "      <td>1</td>\n",
       "      <td>0</td>\n",
       "    </tr>\n",
       "    <tr>\n",
       "      <td>4</td>\n",
       "      <td>1</td>\n",
       "      <td>21</td>\n",
       "      <td>36</td>\n",
       "      <td>1</td>\n",
       "      <td>8.0</td>\n",
       "      <td>1</td>\n",
       "      <td>1.375000</td>\n",
       "      <td>1</td>\n",
       "      <td>0</td>\n",
       "    </tr>\n",
       "  </tbody>\n",
       "</table>\n",
       "</div>"
      ],
      "text/plain": [
       "   community  age  weight  history   Hb  IFA        BP  res  label\n",
       "0          1   26      37        1  5.9    1  1.444444    1      0\n",
       "1          1   21      42        1  9.2    1  1.375000    1      0\n",
       "2          1   21      36        1  8.8    1  1.500000    1      0\n",
       "3          1   21      36        1  9.2    1  2.125000    1      0\n",
       "4          1   21      36        1  8.0    1  1.375000    1      0"
      ]
     },
     "execution_count": 7,
     "metadata": {},
     "output_type": "execute_result"
    }
   ],
   "source": [
    "df.head()"
   ]
  },
  {
   "cell_type": "code",
   "execution_count": 8,
   "metadata": {},
   "outputs": [
    {
     "name": "stdout",
     "output_type": "stream",
     "text": [
      "<class 'pandas.core.frame.DataFrame'>\n",
      "RangeIndex: 101 entries, 0 to 100\n",
      "Data columns (total 9 columns):\n",
      "community    101 non-null int64\n",
      "age          101 non-null int64\n",
      "weight       101 non-null int64\n",
      "history      101 non-null int64\n",
      "Hb           101 non-null float64\n",
      "IFA          101 non-null int64\n",
      "BP           101 non-null float64\n",
      "res          101 non-null int64\n",
      "label        101 non-null int64\n",
      "dtypes: float64(2), int64(7)\n",
      "memory usage: 7.2 KB\n"
     ]
    }
   ],
   "source": [
    "df.info()"
   ]
  },
  {
   "cell_type": "code",
   "execution_count": 9,
   "metadata": {},
   "outputs": [],
   "source": [
    "#Train-Test-Split"
   ]
  },
  {
   "cell_type": "code",
   "execution_count": 10,
   "metadata": {},
   "outputs": [],
   "source": [
    "def train_test_split(df, test_size):\n",
    "    indices= df.index.tolist()\n",
    "    test_indices=random.sample(population=indices,k=test_size)\n",
    "    test_df=df.loc[test_indices]\n",
    "    train_df=df.drop(test_indices)\n",
    "    return train_df,test_df"
   ]
  },
  {
   "cell_type": "code",
   "execution_count": 11,
   "metadata": {},
   "outputs": [
    {
     "data": {
      "text/plain": [
       "101"
      ]
     },
     "execution_count": 11,
     "metadata": {},
     "output_type": "execute_result"
    }
   ],
   "source": [
    "len(df)"
   ]
  },
  {
   "cell_type": "code",
   "execution_count": 14,
   "metadata": {},
   "outputs": [],
   "source": [
    "train_df, test_df = train_test_split(df, test_size=20)"
   ]
  },
  {
   "cell_type": "code",
   "execution_count": 15,
   "metadata": {},
   "outputs": [
    {
     "data": {
      "text/plain": [
       "20"
      ]
     },
     "execution_count": 15,
     "metadata": {},
     "output_type": "execute_result"
    }
   ],
   "source": [
    "len(test_df)"
   ]
  },
  {
   "cell_type": "code",
   "execution_count": 16,
   "metadata": {},
   "outputs": [
    {
     "data": {
      "text/html": [
       "<div>\n",
       "<style scoped>\n",
       "    .dataframe tbody tr th:only-of-type {\n",
       "        vertical-align: middle;\n",
       "    }\n",
       "\n",
       "    .dataframe tbody tr th {\n",
       "        vertical-align: top;\n",
       "    }\n",
       "\n",
       "    .dataframe thead th {\n",
       "        text-align: right;\n",
       "    }\n",
       "</style>\n",
       "<table border=\"1\" class=\"dataframe\">\n",
       "  <thead>\n",
       "    <tr style=\"text-align: right;\">\n",
       "      <th></th>\n",
       "      <th>community</th>\n",
       "      <th>age</th>\n",
       "      <th>weight</th>\n",
       "      <th>history</th>\n",
       "      <th>Hb</th>\n",
       "      <th>IFA</th>\n",
       "      <th>BP</th>\n",
       "      <th>res</th>\n",
       "      <th>label</th>\n",
       "    </tr>\n",
       "  </thead>\n",
       "  <tbody>\n",
       "    <tr>\n",
       "      <td>20</td>\n",
       "      <td>3</td>\n",
       "      <td>24</td>\n",
       "      <td>40</td>\n",
       "      <td>1</td>\n",
       "      <td>9.0</td>\n",
       "      <td>1</td>\n",
       "      <td>1.736946</td>\n",
       "      <td>1</td>\n",
       "      <td>0</td>\n",
       "    </tr>\n",
       "    <tr>\n",
       "      <td>39</td>\n",
       "      <td>4</td>\n",
       "      <td>24</td>\n",
       "      <td>48</td>\n",
       "      <td>1</td>\n",
       "      <td>9.6</td>\n",
       "      <td>1</td>\n",
       "      <td>1.333000</td>\n",
       "      <td>2</td>\n",
       "      <td>1</td>\n",
       "    </tr>\n",
       "    <tr>\n",
       "      <td>6</td>\n",
       "      <td>1</td>\n",
       "      <td>26</td>\n",
       "      <td>35</td>\n",
       "      <td>1</td>\n",
       "      <td>9.2</td>\n",
       "      <td>1</td>\n",
       "      <td>1.571429</td>\n",
       "      <td>1</td>\n",
       "      <td>0</td>\n",
       "    </tr>\n",
       "    <tr>\n",
       "      <td>23</td>\n",
       "      <td>1</td>\n",
       "      <td>27</td>\n",
       "      <td>36</td>\n",
       "      <td>1</td>\n",
       "      <td>8.0</td>\n",
       "      <td>1</td>\n",
       "      <td>1.571429</td>\n",
       "      <td>1</td>\n",
       "      <td>0</td>\n",
       "    </tr>\n",
       "    <tr>\n",
       "      <td>66</td>\n",
       "      <td>1</td>\n",
       "      <td>25</td>\n",
       "      <td>41</td>\n",
       "      <td>1</td>\n",
       "      <td>9.1</td>\n",
       "      <td>0</td>\n",
       "      <td>1.375000</td>\n",
       "      <td>1</td>\n",
       "      <td>1</td>\n",
       "    </tr>\n",
       "  </tbody>\n",
       "</table>\n",
       "</div>"
      ],
      "text/plain": [
       "    community  age  weight  history   Hb  IFA        BP  res  label\n",
       "20          3   24      40        1  9.0    1  1.736946    1      0\n",
       "39          4   24      48        1  9.6    1  1.333000    2      1\n",
       "6           1   26      35        1  9.2    1  1.571429    1      0\n",
       "23          1   27      36        1  8.0    1  1.571429    1      0\n",
       "66          1   25      41        1  9.1    0  1.375000    1      1"
      ]
     },
     "execution_count": 16,
     "metadata": {},
     "output_type": "execute_result"
    }
   ],
   "source": [
    "test_df.head()"
   ]
  },
  {
   "cell_type": "code",
   "execution_count": 17,
   "metadata": {},
   "outputs": [
    {
     "data": {
      "text/html": [
       "<div>\n",
       "<style scoped>\n",
       "    .dataframe tbody tr th:only-of-type {\n",
       "        vertical-align: middle;\n",
       "    }\n",
       "\n",
       "    .dataframe tbody tr th {\n",
       "        vertical-align: top;\n",
       "    }\n",
       "\n",
       "    .dataframe thead th {\n",
       "        text-align: right;\n",
       "    }\n",
       "</style>\n",
       "<table border=\"1\" class=\"dataframe\">\n",
       "  <thead>\n",
       "    <tr style=\"text-align: right;\">\n",
       "      <th></th>\n",
       "      <th>community</th>\n",
       "      <th>age</th>\n",
       "      <th>weight</th>\n",
       "      <th>history</th>\n",
       "      <th>Hb</th>\n",
       "      <th>IFA</th>\n",
       "      <th>BP</th>\n",
       "      <th>res</th>\n",
       "      <th>label</th>\n",
       "    </tr>\n",
       "  </thead>\n",
       "  <tbody>\n",
       "    <tr>\n",
       "      <td>20</td>\n",
       "      <td>3</td>\n",
       "      <td>24</td>\n",
       "      <td>40</td>\n",
       "      <td>1</td>\n",
       "      <td>9.0</td>\n",
       "      <td>1</td>\n",
       "      <td>1.736946</td>\n",
       "      <td>1</td>\n",
       "      <td>0</td>\n",
       "    </tr>\n",
       "    <tr>\n",
       "      <td>39</td>\n",
       "      <td>4</td>\n",
       "      <td>24</td>\n",
       "      <td>48</td>\n",
       "      <td>1</td>\n",
       "      <td>9.6</td>\n",
       "      <td>1</td>\n",
       "      <td>1.333000</td>\n",
       "      <td>2</td>\n",
       "      <td>1</td>\n",
       "    </tr>\n",
       "    <tr>\n",
       "      <td>6</td>\n",
       "      <td>1</td>\n",
       "      <td>26</td>\n",
       "      <td>35</td>\n",
       "      <td>1</td>\n",
       "      <td>9.2</td>\n",
       "      <td>1</td>\n",
       "      <td>1.571429</td>\n",
       "      <td>1</td>\n",
       "      <td>0</td>\n",
       "    </tr>\n",
       "    <tr>\n",
       "      <td>23</td>\n",
       "      <td>1</td>\n",
       "      <td>27</td>\n",
       "      <td>36</td>\n",
       "      <td>1</td>\n",
       "      <td>8.0</td>\n",
       "      <td>1</td>\n",
       "      <td>1.571429</td>\n",
       "      <td>1</td>\n",
       "      <td>0</td>\n",
       "    </tr>\n",
       "    <tr>\n",
       "      <td>66</td>\n",
       "      <td>1</td>\n",
       "      <td>25</td>\n",
       "      <td>41</td>\n",
       "      <td>1</td>\n",
       "      <td>9.1</td>\n",
       "      <td>0</td>\n",
       "      <td>1.375000</td>\n",
       "      <td>1</td>\n",
       "      <td>1</td>\n",
       "    </tr>\n",
       "  </tbody>\n",
       "</table>\n",
       "</div>"
      ],
      "text/plain": [
       "    community  age  weight  history   Hb  IFA        BP  res  label\n",
       "20          3   24      40        1  9.0    1  1.736946    1      0\n",
       "39          4   24      48        1  9.6    1  1.333000    2      1\n",
       "6           1   26      35        1  9.2    1  1.571429    1      0\n",
       "23          1   27      36        1  8.0    1  1.571429    1      0\n",
       "66          1   25      41        1  9.1    0  1.375000    1      1"
      ]
     },
     "execution_count": 17,
     "metadata": {},
     "output_type": "execute_result"
    }
   ],
   "source": [
    "test_df.head()"
   ]
  },
  {
   "cell_type": "code",
   "execution_count": 18,
   "metadata": {},
   "outputs": [
    {
     "data": {
      "text/html": [
       "<div>\n",
       "<style scoped>\n",
       "    .dataframe tbody tr th:only-of-type {\n",
       "        vertical-align: middle;\n",
       "    }\n",
       "\n",
       "    .dataframe tbody tr th {\n",
       "        vertical-align: top;\n",
       "    }\n",
       "\n",
       "    .dataframe thead th {\n",
       "        text-align: right;\n",
       "    }\n",
       "</style>\n",
       "<table border=\"1\" class=\"dataframe\">\n",
       "  <thead>\n",
       "    <tr style=\"text-align: right;\">\n",
       "      <th></th>\n",
       "      <th>community</th>\n",
       "      <th>age</th>\n",
       "      <th>weight</th>\n",
       "      <th>history</th>\n",
       "      <th>Hb</th>\n",
       "      <th>IFA</th>\n",
       "      <th>BP</th>\n",
       "      <th>res</th>\n",
       "      <th>label</th>\n",
       "    </tr>\n",
       "  </thead>\n",
       "  <tbody>\n",
       "    <tr>\n",
       "      <td>20</td>\n",
       "      <td>3</td>\n",
       "      <td>24</td>\n",
       "      <td>40</td>\n",
       "      <td>1</td>\n",
       "      <td>9.0</td>\n",
       "      <td>1</td>\n",
       "      <td>1.736946</td>\n",
       "      <td>1</td>\n",
       "      <td>0</td>\n",
       "    </tr>\n",
       "    <tr>\n",
       "      <td>39</td>\n",
       "      <td>4</td>\n",
       "      <td>24</td>\n",
       "      <td>48</td>\n",
       "      <td>1</td>\n",
       "      <td>9.6</td>\n",
       "      <td>1</td>\n",
       "      <td>1.333000</td>\n",
       "      <td>2</td>\n",
       "      <td>1</td>\n",
       "    </tr>\n",
       "    <tr>\n",
       "      <td>6</td>\n",
       "      <td>1</td>\n",
       "      <td>26</td>\n",
       "      <td>35</td>\n",
       "      <td>1</td>\n",
       "      <td>9.2</td>\n",
       "      <td>1</td>\n",
       "      <td>1.571429</td>\n",
       "      <td>1</td>\n",
       "      <td>0</td>\n",
       "    </tr>\n",
       "    <tr>\n",
       "      <td>23</td>\n",
       "      <td>1</td>\n",
       "      <td>27</td>\n",
       "      <td>36</td>\n",
       "      <td>1</td>\n",
       "      <td>8.0</td>\n",
       "      <td>1</td>\n",
       "      <td>1.571429</td>\n",
       "      <td>1</td>\n",
       "      <td>0</td>\n",
       "    </tr>\n",
       "    <tr>\n",
       "      <td>66</td>\n",
       "      <td>1</td>\n",
       "      <td>25</td>\n",
       "      <td>41</td>\n",
       "      <td>1</td>\n",
       "      <td>9.1</td>\n",
       "      <td>0</td>\n",
       "      <td>1.375000</td>\n",
       "      <td>1</td>\n",
       "      <td>1</td>\n",
       "    </tr>\n",
       "  </tbody>\n",
       "</table>\n",
       "</div>"
      ],
      "text/plain": [
       "    community  age  weight  history   Hb  IFA        BP  res  label\n",
       "20          3   24      40        1  9.0    1  1.736946    1      0\n",
       "39          4   24      48        1  9.6    1  1.333000    2      1\n",
       "6           1   26      35        1  9.2    1  1.571429    1      0\n",
       "23          1   27      36        1  8.0    1  1.571429    1      0\n",
       "66          1   25      41        1  9.1    0  1.375000    1      1"
      ]
     },
     "execution_count": 18,
     "metadata": {},
     "output_type": "execute_result"
    }
   ],
   "source": [
    "test_df.head()"
   ]
  },
  {
   "cell_type": "code",
   "execution_count": 19,
   "metadata": {},
   "outputs": [
    {
     "data": {
      "text/plain": [
       "81"
      ]
     },
     "execution_count": 19,
     "metadata": {},
     "output_type": "execute_result"
    }
   ],
   "source": [
    "len(train_df.values)"
   ]
  },
  {
   "cell_type": "code",
   "execution_count": null,
   "metadata": {},
   "outputs": [],
   "source": []
  },
  {
   "cell_type": "code",
   "execution_count": 20,
   "metadata": {},
   "outputs": [],
   "source": [
    "### Data Pure -check"
   ]
  },
  {
   "cell_type": "code",
   "execution_count": 22,
   "metadata": {},
   "outputs": [],
   "source": [
    "def check_purity(data):\n",
    "    label_column=data[:, -1]\n",
    "    unique_classes=np.unique(label_column)\n",
    "    if len(unique_classes)==1:\n",
    "        return True\n",
    "    else:\n",
    "        return False    \n",
    "    "
   ]
  },
  {
   "cell_type": "code",
   "execution_count": 23,
   "metadata": {},
   "outputs": [],
   "source": [
    "###Classify"
   ]
  },
  {
   "cell_type": "code",
   "execution_count": 24,
   "metadata": {},
   "outputs": [],
   "source": [
    "def classify_data(data):\n",
    "    label_column=data[:, -1]\n",
    "    unique_classes,counts_unique_classes=np.unique(label_column, return_counts=True)\n",
    "    index=counts_unique_classes.argmax()\n",
    "    classification=unique_classes[index]\n",
    "    return classification"
   ]
  },
  {
   "cell_type": "code",
   "execution_count": 25,
   "metadata": {},
   "outputs": [],
   "source": [
    "### Potential Splits"
   ]
  },
  {
   "cell_type": "code",
   "execution_count": 26,
   "metadata": {},
   "outputs": [],
   "source": [
    "def get_potential_splits(data):\n",
    "    potential_splits={}\n",
    "    data.shape\n",
    "    _, n_columns = train_df.shape\n",
    "    for column_index in range(n_columns-1):\n",
    "        potential_splits[column_index]=[]\n",
    "        values=data[:, column_index]\n",
    "        unique_values=np.unique(values)\n",
    "        for index in range(len(unique_values)):\n",
    "            if index!=0:\n",
    "                current_value=unique_values[index]\n",
    "                previous_value=unique_values[index-1]\n",
    "                potential_split= (current_value+previous_value)/2\n",
    "                potential_splits[column_index].append(potential_split)\n",
    "    return potential_splits"
   ]
  },
  {
   "cell_type": "code",
   "execution_count": 98,
   "metadata": {},
   "outputs": [],
   "source": [
    "#data=train_df.values\n",
    "potential_splits=get_potential_splits(train_df.values)"
   ]
  },
  {
   "cell_type": "code",
   "execution_count": 99,
   "metadata": {},
   "outputs": [
    {
     "data": {
      "text/plain": [
       "<matplotlib.collections.LineCollection at 0x1f95eb49588>"
      ]
     },
     "execution_count": 99,
     "metadata": {},
     "output_type": "execute_result"
    },
    {
     "data": {
      "image/png": "[encoded data removed]",
      "text/plain": [
       "<Figure size 690.375x432 with 1 Axes>"
      ]
     },
     "metadata": {
      "needs_background": "light"
     },
     "output_type": "display_data"
    }
   ],
   "source": [
    "sns.lmplot(data=train_df,x=\"age\",y=\"res\",hue=\"label\", fit_reg=False, height=6, aspect=1.5)\n",
    "#plt.vlines(x=potential_splits[1], ymin=30, ymax=65)\n",
    "#plt.hlines(y=potential_splits[7], xmin=17, xmax=38)\n",
    "plt.vlines(x=potential_splits[1], ymin=1, ymax=2)\n",
    "plt.hlines(y=potential_splits[7], xmin=17, xmax=38)\n"
   ]
  },
  {
   "cell_type": "code",
   "execution_count": 100,
   "metadata": {},
   "outputs": [],
   "source": [
    "### Split Data"
   ]
  },
  {
   "cell_type": "code",
   "execution_count": 101,
   "metadata": {},
   "outputs": [],
   "source": [
    "def split_data(data, split_column, split_value):\n",
    "    split_column_values=data[:,split_column]\n",
    "    data_below=data[split_column_values<=split_value]\n",
    "    data_above=data[split_column_values>split_value]\n",
    "    return data_below, data_above"
   ]
  },
  {
   "cell_type": "code",
   "execution_count": 102,
   "metadata": {},
   "outputs": [],
   "source": [
    "data=train_df.values"
   ]
  },
  {
   "cell_type": "code",
   "execution_count": 103,
   "metadata": {},
   "outputs": [
    {
     "data": {
      "text/plain": [
       "array([[ 1.        , 26.        , 37.        ,  1.        ,  5.9       ,\n",
       "         1.        ,  1.44444444,  1.        ,  0.        ],\n",
       "       [ 1.        , 21.        , 42.        ,  1.        ,  9.2       ,\n",
       "         1.        ,  1.375     ,  1.        ,  0.        ],\n",
       "       [ 1.        , 21.        , 36.        ,  1.        ,  8.8       ,\n",
       "         1.        ,  1.5       ,  1.        ,  0.        ],\n",
       "       [ 1.        , 21.        , 36.        ,  1.        ,  9.2       ,\n",
       "         1.        ,  2.125     ,  1.        ,  0.        ],\n",
       "       [ 1.        , 21.        , 36.        ,  1.        ,  8.        ,\n",
       "         1.        ,  1.375     ,  1.        ,  0.        ],\n",
       "       [ 1.        , 24.        , 33.        ,  1.        ,  9.3       ,\n",
       "         1.        ,  1.571     ,  1.        ,  0.        ],\n",
       "       [ 4.        , 26.        , 31.        ,  1.        ,  9.        ,\n",
       "         1.        ,  1.625     ,  1.        ,  0.        ],\n",
       "       [ 1.        , 22.        , 30.        ,  1.        ,  9.        ,\n",
       "         1.        ,  1.73694647,  1.        ,  0.        ],\n",
       "       [ 4.        , 17.        , 30.        ,  1.        ,  9.        ,\n",
       "         0.        ,  1.375     ,  1.        ,  0.        ],\n",
       "       [ 1.        , 21.        , 32.        ,  1.        ,  9.        ,\n",
       "         0.        ,  1.73694647,  1.        ,  0.        ],\n",
       "       [ 4.        , 20.        , 36.        ,  1.        ,  9.        ,\n",
       "         0.        ,  1.73694647,  2.        ,  0.        ],\n",
       "       [ 3.        , 38.        , 33.        ,  1.        , 10.        ,\n",
       "         0.        ,  1.57142857,  1.        ,  0.        ],\n",
       "       [ 3.        , 20.        , 36.        ,  1.        ,  8.9       ,\n",
       "         0.        ,  1.71428571,  2.        ,  0.        ],\n",
       "       [ 3.        , 23.        , 39.        ,  1.        ,  9.        ,\n",
       "         1.        ,  1.375     ,  1.        ,  0.        ],\n",
       "       [ 1.        , 25.        , 45.        ,  6.        ,  9.        ,\n",
       "         0.        ,  1.73694647,  1.        ,  0.        ],\n",
       "       [ 1.        , 21.        , 40.        ,  1.        ,  9.        ,\n",
       "         0.        ,  1.73694647,  1.        ,  0.        ],\n",
       "       [ 1.        , 24.        , 36.        ,  1.        ,  9.6       ,\n",
       "         0.        ,  1.2       ,  1.        ,  0.        ],\n",
       "       [ 3.        , 26.        , 36.        ,  1.        ,  9.        ,\n",
       "         0.        ,  5.5       ,  1.        ,  0.        ],\n",
       "       [ 1.        , 21.        , 36.        ,  1.        ,  9.4       ,\n",
       "         1.        ,  1.5       ,  1.        ,  0.        ],\n",
       "       [ 4.        , 24.        , 36.        ,  1.        ,  9.        ,\n",
       "         0.        ,  1.66153846,  1.        ,  0.        ],\n",
       "       [ 1.        , 24.        , 49.        ,  1.        ,  8.9       ,\n",
       "         1.        ,  1.33333333,  1.        ,  1.        ],\n",
       "       [ 1.        , 24.        , 40.        ,  1.        ,  8.7       ,\n",
       "         1.        ,  1.71428571,  1.        ,  1.        ],\n",
       "       [ 1.        , 24.        , 40.        ,  1.        ,  9.5       ,\n",
       "         1.        ,  1.71428571,  1.        ,  1.        ],\n",
       "       [ 1.        , 26.        , 45.        ,  1.        ,  9.        ,\n",
       "         1.        ,  1.375     ,  1.        ,  1.        ],\n",
       "       [ 1.        , 28.        , 60.        ,  1.        ,  9.        ,\n",
       "         1.        ,  1.375     ,  1.        ,  1.        ],\n",
       "       [ 1.        , 24.        , 48.        ,  1.        ,  9.        ,\n",
       "         1.        ,  1.375     ,  1.        ,  1.        ],\n",
       "       [ 4.        , 22.        , 50.        ,  1.        ,  9.2       ,\n",
       "         1.        ,  1.571     ,  1.        ,  1.        ],\n",
       "       [ 1.        , 22.        , 35.        ,  1.        ,  8.9       ,\n",
       "         1.        ,  1.5       ,  1.        ,  1.        ],\n",
       "       [ 1.        , 24.        , 40.        ,  1.        ,  9.1       ,\n",
       "         0.        ,  1.571     ,  1.        ,  1.        ],\n",
       "       [ 4.        , 26.        , 65.        ,  1.        ,  9.        ,\n",
       "         1.        ,  1.375     ,  2.        ,  1.        ],\n",
       "       [ 1.        , 25.        , 42.        ,  1.        ,  9.        ,\n",
       "         1.        ,  1.375     ,  1.        ,  1.        ],\n",
       "       [ 3.        , 24.        , 55.        ,  1.        ,  9.        ,\n",
       "         1.        ,  1.714     ,  1.        ,  1.        ],\n",
       "       [ 1.        , 24.        , 39.        ,  1.        ,  8.9       ,\n",
       "         1.        ,  1.375     ,  1.        ,  1.        ],\n",
       "       [ 1.        , 24.        , 40.        ,  1.        ,  8.9       ,\n",
       "         1.        ,  1.714     ,  1.        ,  1.        ],\n",
       "       [ 1.        , 26.        , 43.        ,  1.        ,  9.        ,\n",
       "         1.        ,  1.375     ,  1.        ,  1.        ],\n",
       "       [ 1.        , 21.        , 39.        ,  1.        ,  8.9       ,\n",
       "         1.        ,  1.571     ,  1.        ,  1.        ],\n",
       "       [ 1.        , 21.        , 40.        ,  1.        ,  9.2       ,\n",
       "         1.        ,  1.571     ,  1.        ,  1.        ],\n",
       "       [ 4.        , 26.        , 52.        ,  1.        ,  8.4       ,\n",
       "         1.        ,  1.375     ,  1.        ,  1.        ],\n",
       "       [ 1.        , 26.        , 35.        ,  1.        ,  9.2       ,\n",
       "         1.        ,  1.571     ,  1.        ,  1.        ],\n",
       "       [ 4.        , 26.        , 42.        ,  1.        ,  9.2       ,\n",
       "         1.        ,  1.375     ,  1.        ,  1.        ],\n",
       "       [ 1.        , 24.        , 40.        ,  1.        ,  9.2       ,\n",
       "         1.        ,  1.83333333,  1.        ,  1.        ],\n",
       "       [ 2.        , 22.        , 40.        ,  1.        ,  8.9       ,\n",
       "         1.        ,  1.375     ,  1.        ,  1.        ],\n",
       "       [ 1.        , 21.        , 43.        ,  1.        ,  9.2       ,\n",
       "         1.        ,  1.375     ,  1.        ,  1.        ],\n",
       "       [ 4.        , 24.        , 50.        ,  1.        ,  8.4       ,\n",
       "         1.        ,  1.375     ,  1.        ,  1.        ],\n",
       "       [ 3.        , 24.        , 46.        ,  1.        ,  6.2       ,\n",
       "         1.        ,  1.71428571,  1.        ,  1.        ],\n",
       "       [ 4.        , 27.        , 49.        ,  1.        ,  9.4       ,\n",
       "         1.        ,  1.66666667,  1.        ,  1.        ],\n",
       "       [ 3.        , 26.        , 62.        ,  1.        ,  9.        ,\n",
       "         1.        ,  1.83333333,  2.        ,  1.        ],\n",
       "       [ 1.        , 25.        , 40.        ,  1.        ,  9.2       ,\n",
       "         1.        ,  1.375     ,  1.        ,  1.        ],\n",
       "       [ 1.        , 26.        , 60.        ,  1.        ,  9.2       ,\n",
       "         0.        ,  1.71428571,  1.        ,  1.        ],\n",
       "       [ 4.        , 21.        , 60.        ,  1.        , 10.9       ,\n",
       "         0.        ,  1.375     ,  1.        ,  1.        ],\n",
       "       [ 1.        , 21.        , 40.        ,  1.        ,  7.9       ,\n",
       "         0.        ,  1.66666667,  1.        ,  1.        ],\n",
       "       [ 4.        , 21.        , 55.        ,  1.        ,  8.        ,\n",
       "         1.        ,  1.57142857,  2.        ,  1.        ],\n",
       "       [ 1.        , 21.        , 51.        ,  1.        ,  8.        ,\n",
       "         1.        ,  2.5       ,  2.        ,  1.        ],\n",
       "       [ 1.        , 21.        , 52.        ,  1.        ,  8.8       ,\n",
       "         1.        , 13.875     ,  2.        ,  1.        ],\n",
       "       [ 1.        , 21.        , 50.        ,  1.        ,  9.2       ,\n",
       "         1.        ,  1.625     ,  1.        ,  1.        ],\n",
       "       [ 1.        , 21.        , 43.        ,  1.        , 10.2       ,\n",
       "         1.        ,  1.57142857,  1.        ,  1.        ],\n",
       "       [ 3.        , 24.        , 40.        ,  1.        ,  9.3       ,\n",
       "         1.        ,  1.375     ,  1.        ,  1.        ],\n",
       "       [ 1.        , 29.        , 56.        ,  1.        ,  8.4       ,\n",
       "         1.        ,  1.57142857,  1.        ,  1.        ],\n",
       "       [ 3.        , 26.        , 40.        ,  1.        , 11.        ,\n",
       "         1.        ,  1.22222222,  2.        ,  1.        ],\n",
       "       [ 1.        , 25.        , 50.        ,  1.        ,  5.9       ,\n",
       "         1.        ,  1.42857143,  2.        ,  1.        ],\n",
       "       [ 1.        , 24.        , 43.        ,  1.        ,  9.        ,\n",
       "         1.        ,  1.66666667,  2.        ,  1.        ],\n",
       "       [ 3.        , 26.        , 63.        ,  1.        ,  8.9       ,\n",
       "         1.        ,  1.375     ,  2.        ,  1.        ],\n",
       "       [ 1.        , 20.        , 46.        ,  1.        ,  9.        ,\n",
       "         1.        ,  1.71428571,  1.        ,  1.        ],\n",
       "       [ 3.        , 20.        , 43.        ,  1.        ,  9.2       ,\n",
       "         1.        ,  1.375     ,  1.        ,  1.        ],\n",
       "       [ 3.        , 24.        , 60.        ,  1.        ,  9.2       ,\n",
       "         1.        ,  1.71428571,  1.        ,  1.        ],\n",
       "       [ 4.        , 21.        , 48.        ,  1.        ,  9.2       ,\n",
       "         1.        ,  1.375     ,  1.        ,  1.        ],\n",
       "       [ 3.        , 23.        , 39.        ,  1.        ,  9.1       ,\n",
       "         0.        ,  1.69675811,  1.        ,  1.        ],\n",
       "       [ 3.        , 24.        , 40.        ,  1.        ,  9.1       ,\n",
       "         0.        ,  1.69675811,  1.        ,  1.        ],\n",
       "       [ 3.        , 21.        , 43.        ,  1.        ,  9.        ,\n",
       "         1.        ,  1.375     ,  1.        ,  1.        ],\n",
       "       [ 1.        , 26.        , 44.        ,  1.        ,  9.1       ,\n",
       "         0.        ,  1.69675811,  1.        ,  1.        ],\n",
       "       [ 1.        , 25.        , 52.        ,  1.        ,  9.1       ,\n",
       "         0.        ,  1.69675811,  1.        ,  1.        ],\n",
       "       [ 3.        , 27.        , 45.        ,  1.        ,  9.1       ,\n",
       "         0.        ,  1.5       ,  1.        ,  1.        ],\n",
       "       [ 3.        , 27.        , 42.        ,  1.        ,  9.1       ,\n",
       "         0.        ,  1.69675811,  1.        ,  1.        ],\n",
       "       [ 3.        , 21.        , 48.        ,  1.        ,  9.1       ,\n",
       "         0.        ,  1.69675811,  1.        ,  1.        ],\n",
       "       [ 1.        , 24.        , 40.        ,  1.        ,  9.1       ,\n",
       "         0.        ,  1.69675811,  1.        ,  1.        ],\n",
       "       [ 3.        , 25.        , 49.        ,  1.        ,  9.1       ,\n",
       "         0.        ,  1.57142857,  1.        ,  1.        ],\n",
       "       [ 3.        , 21.        , 55.        ,  1.        ,  9.        ,\n",
       "         0.        ,  1.375     ,  1.        ,  1.        ],\n",
       "       [ 3.        , 24.        , 39.        ,  6.        ,  8.4       ,\n",
       "         0.        ,  1.5       ,  1.        ,  1.        ],\n",
       "       [ 3.        , 24.        , 50.        ,  1.        ,  9.1       ,\n",
       "         0.        ,  1.375     ,  1.        ,  1.        ],\n",
       "       [ 1.        , 24.        , 38.        ,  1.        ,  9.1       ,\n",
       "         0.        ,  1.69675811,  1.        ,  1.        ],\n",
       "       [ 3.        , 21.        , 50.        ,  1.        ,  9.        ,\n",
       "         1.        ,  1.375     ,  1.        ,  1.        ]])"
      ]
     },
     "execution_count": 103,
     "metadata": {},
     "output_type": "execute_result"
    }
   ],
   "source": [
    "data"
   ]
  },
  {
   "cell_type": "code",
   "execution_count": 104,
   "metadata": {},
   "outputs": [],
   "source": [
    "split_column=2\n",
    "split_value=37.5"
   ]
  },
  {
   "cell_type": "code",
   "execution_count": 105,
   "metadata": {},
   "outputs": [],
   "source": [
    "data_below, data_above=split_data(data, split_column, split_value)"
   ]
  },
  {
   "cell_type": "markdown",
   "metadata": {},
   "source": []
  },
  {
   "cell_type": "code",
   "execution_count": 106,
   "metadata": {},
   "outputs": [
    {
     "data": {
      "text/plain": [
       "<matplotlib.collections.LineCollection at 0x1f95f0b3848>"
      ]
     },
     "execution_count": 106,
     "metadata": {},
     "output_type": "execute_result"
    },
    {
     "data": {
      "image/png": "[encoded data removed]",
      "text/plain": [
       "<Figure size 699.875x432 with 1 Axes>"
      ]
     },
     "metadata": {
      "needs_background": "light"
     },
     "output_type": "display_data"
    }
   ],
   "source": [
    "plotting_df=pd.DataFrame(data, columns=df.columns)\n",
    "sns.lmplot(data=plotting_df, x=\"age\",y=\"weight\",hue=\"label\", fit_reg=False, height=6, aspect=1.5)\n",
    "plt.hlines(y=split_value, xmin=17, xmax=38)"
   ]
  },
  {
   "cell_type": "code",
   "execution_count": 107,
   "metadata": {},
   "outputs": [],
   "source": [
    "### Lowest Overall Entropy"
   ]
  },
  {
   "cell_type": "code",
   "execution_count": 108,
   "metadata": {},
   "outputs": [],
   "source": [
    "def calculate_entropy(data):\n",
    "    label_column=data[:,-1]\n",
    "    _, counts=np.unique(label_column, return_counts=True)\n",
    "    probabilities=counts/counts.sum()\n",
    "    entropy=sum(probabilities*(-np.log2(probabilities)))\n",
    "    return entropy"
   ]
  },
  {
   "cell_type": "code",
   "execution_count": 109,
   "metadata": {},
   "outputs": [
    {
     "data": {
      "text/plain": [
       "0.8063495153650777"
      ]
     },
     "execution_count": 109,
     "metadata": {},
     "output_type": "execute_result"
    }
   ],
   "source": [
    "calculate_entropy(data)"
   ]
  },
  {
   "cell_type": "code",
   "execution_count": 110,
   "metadata": {},
   "outputs": [],
   "source": [
    "def calculate_overall_entropy(data_below, data_above):\n",
    "    n_data_points=len(data_below)+len(data_above)\n",
    "    p_data_below=len(data_below)/n_data_points\n",
    "    p_data_above=len(data_above)/n_data_points\n",
    "    overall_entropy=(p_data_below*calculate_entropy(data_below)+p_data_above*calculate_entropy(data_above))\n",
    "\n",
    "    return overall_entropy"
   ]
  },
  {
   "cell_type": "code",
   "execution_count": 111,
   "metadata": {},
   "outputs": [
    {
     "data": {
      "text/plain": [
       "0.37717710239639163"
      ]
     },
     "execution_count": 111,
     "metadata": {},
     "output_type": "execute_result"
    }
   ],
   "source": [
    "calculate_overall_entropy(data_below,data_above)"
   ]
  },
  {
   "cell_type": "code",
   "execution_count": 112,
   "metadata": {},
   "outputs": [],
   "source": [
    "def determine_best_split(data, potential_splits):\n",
    "    overall_entropy=999\n",
    "    for column_index in potential_splits:\n",
    "        for value in potential_splits[column_index]:\n",
    "            data_below, data_above=split_data(data, split_column=column_index,split_value=value)\n",
    "            current_overall_entropy=calculate_overall_entropy(data_below, data_above)\n",
    "            if current_overall_entropy<= overall_entropy:\n",
    "                overall_entropy=current_overall_entropy\n",
    "                best_split_column=column_index\n",
    "                best_split_value=value\n",
    "    return best_split_column, best_split_value"
   ]
  },
  {
   "cell_type": "markdown",
   "metadata": {},
   "source": []
  },
  {
   "cell_type": "code",
   "execution_count": 113,
   "metadata": {},
   "outputs": [],
   "source": [
    "potential_splits=get_potential_splits(data)\n"
   ]
  },
  {
   "cell_type": "code",
   "execution_count": 114,
   "metadata": {},
   "outputs": [
    {
     "data": {
      "text/plain": [
       "(2, 37.5)"
      ]
     },
     "execution_count": 114,
     "metadata": {},
     "output_type": "execute_result"
    }
   ],
   "source": [
    "determine_best_split(data, potential_splits)\n",
    "\n",
    "            "
   ]
  },
  {
   "cell_type": "code",
   "execution_count": 115,
   "metadata": {},
   "outputs": [],
   "source": [
    "### Decision Tree Algorithm"
   ]
  },
  {
   "cell_type": "code",
   "execution_count": 116,
   "metadata": {},
   "outputs": [],
   "source": [
    "#sub_tree={question:[yes_answer,no_answer]}"
   ]
  },
  {
   "cell_type": "code",
   "execution_count": 117,
   "metadata": {},
   "outputs": [
    {
     "data": {
      "text/plain": [
       "{'weight<=37.5': [0, 1]}"
      ]
     },
     "execution_count": 117,
     "metadata": {},
     "output_type": "execute_result"
    }
   ],
   "source": [
    "{\"weight<=37.5\":[0,1]}"
   ]
  },
  {
   "cell_type": "code",
   "execution_count": 118,
   "metadata": {},
   "outputs": [],
   "source": [
    "### Algorithm"
   ]
  },
  {
   "cell_type": "code",
   "execution_count": 200,
   "metadata": {},
   "outputs": [],
   "source": [
    "def decision_tree_algorithm(df, counter=0, min_samples=2, max_depth=5):\n",
    "    \n",
    "    #data preparations\n",
    "    if counter==0:\n",
    "        global COLUMN_HEADERS\n",
    "        COLUMN_HEADERS=df.columns\n",
    "        data=df.values\n",
    "    else:\n",
    "        data=df\n",
    "    \n",
    "    #base case\n",
    "    if (check_purity(data)) or (len(data)<min_samples) or (counter==max_depth):\n",
    "        classification=classify_data(data)\n",
    "        return classification\n",
    "    \n",
    "    #recursive part\n",
    "    else:\n",
    "        counter+=1\n",
    "        \n",
    "        #helper functions\n",
    "        potential_splits=get_potential_splits(data)\n",
    "        split_column, split_value=determine_best_split(data, potential_splits)\n",
    "        data_below, data_above = split_data(data, split_column, split_value)\n",
    "        \n",
    "        #instantiate subtree\n",
    "        feature_name=COLUMN_HEADERS[split_column]\n",
    "        question=\"{} <= {}\".format(feature_name, split_value)\n",
    "        sub_tree={question:[]}\n",
    "        \n",
    "        #find answers\n",
    "        yes_answer=decision_tree_algorithm(data_below, counter, min_samples, max_depth)\n",
    "        no_answer=decision_tree_algorithm(data_above, counter, min_samples, max_depth)\n",
    "        \n",
    "        if yes_answer==no_answer:\n",
    "            sub_tree= yes_answer\n",
    "        else:\n",
    "            sub_tree[question].append(yes_answer)\n",
    "            sub_tree[question].append(no_answer)\n",
    "        \n",
    "    return sub_tree"
   ]
  },
  {
   "cell_type": "code",
   "execution_count": 201,
   "metadata": {},
   "outputs": [
    {
     "name": "stdout",
     "output_type": "stream",
     "text": [
      "{'weight <= 37.5': [{'weight <= 35.5': [{'weight <= 34.0': [0.0, 1.0]}, 0.0]},\n",
      "                    {'weight <= 45.5': [{'BP <= 1.7256160915': [1.0,\n",
      "                                                                {'BP <= 1.785139901': [0.0,\n",
      "                                                                                       1.0]}]},\n",
      "                                        1.0]}]}\n"
     ]
    }
   ],
   "source": [
    "#pruning\n",
    "tree=decision_tree_algorithm(train_df, max_depth=5)\n",
    "pprint(tree)"
   ]
  },
  {
   "cell_type": "code",
   "execution_count": 202,
   "metadata": {},
   "outputs": [
    {
     "data": {
      "text/plain": [
       "Index(['community', 'age', 'weight', 'history', 'Hb', 'IFA', 'BP', 'res',\n",
       "       'label'],\n",
       "      dtype='object')"
      ]
     },
     "execution_count": 202,
     "metadata": {},
     "output_type": "execute_result"
    }
   ],
   "source": [
    "df.columns"
   ]
  },
  {
   "cell_type": "code",
   "execution_count": 203,
   "metadata": {},
   "outputs": [],
   "source": [
    "### Classification\n"
   ]
  },
  {
   "cell_type": "code",
   "execution_count": 204,
   "metadata": {},
   "outputs": [
    {
     "data": {
      "text/plain": [
       "community                       1\n",
       "age                            26\n",
       "weight                         35\n",
       "history                         1\n",
       "Hb                            9.2\n",
       "IFA                             1\n",
       "BP                        1.57143\n",
       "res                             1\n",
       "label                           0\n",
       "classification                  1\n",
       "classification_correct      False\n",
       "Name: 6, dtype: object"
      ]
     },
     "execution_count": 204,
     "metadata": {},
     "output_type": "execute_result"
    }
   ],
   "source": [
    "example=test_df.iloc[2]\n",
    "example"
   ]
  },
  {
   "cell_type": "code",
   "execution_count": 205,
   "metadata": {},
   "outputs": [],
   "source": [
    "def classify_example(example, tree):\n",
    "    question=list(tree.keys())[0]\n",
    "    feature_name, comparison_operator, value=question.split()\n",
    "\n",
    "    #ask question\n",
    "    if example[feature_name]<=float(value):\n",
    "        answer=tree[question][0]\n",
    "    else:\n",
    "        answer=tree[question][1]\n",
    "\n",
    "    #base case\n",
    "    if not isinstance(answer, dict):\n",
    "        return answer\n",
    "    #recursive call of function\n",
    "    else:\n",
    "        residual_tree=answer\n",
    "        return classify_example(example, residual_tree)\n",
    "    "
   ]
  },
  {
   "cell_type": "code",
   "execution_count": 206,
   "metadata": {},
   "outputs": [
    {
     "data": {
      "text/plain": [
       "1.0"
      ]
     },
     "execution_count": 206,
     "metadata": {},
     "output_type": "execute_result"
    }
   ],
   "source": [
    "classify_example(example, tree)"
   ]
  },
  {
   "cell_type": "code",
   "execution_count": 207,
   "metadata": {},
   "outputs": [
    {
     "data": {
      "text/plain": [
       "True"
      ]
     },
     "execution_count": 207,
     "metadata": {},
     "output_type": "execute_result"
    }
   ],
   "source": [
    "example[\"weight\"]<=37.5"
   ]
  },
  {
   "cell_type": "code",
   "execution_count": 208,
   "metadata": {},
   "outputs": [],
   "source": [
    "### Accuracy"
   ]
  },
  {
   "cell_type": "code",
   "execution_count": 211,
   "metadata": {},
   "outputs": [],
   "source": [
    "def calculate_accuracy(df, tree):\n",
    "    df[\"classification\"]=df.apply(classify_example, axis=1, args=(tree,))\n",
    "    df[\"classification_correct\"]=df.classification==df.label\n",
    "    \n",
    "    accuracy=df.classification_correct.mean()*100\n",
    "    return accuracy"
   ]
  },
  {
   "cell_type": "code",
   "execution_count": null,
   "metadata": {},
   "outputs": [],
   "source": []
  },
  {
   "cell_type": "code",
   "execution_count": 212,
   "metadata": {},
   "outputs": [
    {
     "data": {
      "text/plain": [
       "90.0"
      ]
     },
     "execution_count": 212,
     "metadata": {},
     "output_type": "execute_result"
    }
   ],
   "source": [
    "calculate_accuracy(test_df, tree)"
   ]
  },
  {
   "cell_type": "code",
   "execution_count": 214,
   "metadata": {},
   "outputs": [
    {
     "data": {
      "text/plain": [
       "community                       1\n",
       "age                            26\n",
       "weight                         35\n",
       "history                         1\n",
       "Hb                            9.2\n",
       "IFA                             1\n",
       "BP                        1.57143\n",
       "res                             1\n",
       "label                           0\n",
       "classification                  1\n",
       "classification_correct      False\n",
       "Name: 6, dtype: object"
      ]
     },
     "execution_count": 214,
     "metadata": {},
     "output_type": "execute_result"
    }
   ],
   "source": [
    "test_df.loc[6]"
   ]
  },
  {
   "cell_type": "code",
   "execution_count": 224,
   "metadata": {},
   "outputs": [
    {
     "name": "stdout",
     "output_type": "stream",
     "text": [
      "{'weight <= 38.5': [0.0,\n",
      "                    {'BP <= 1.7256160915': [1.0,\n",
      "                                            {'BP <= 1.785139901': [0.0,\n",
      "                                                                   1.0]}]}]}\n",
      "100.0\n"
     ]
    }
   ],
   "source": [
    "train_df, test_df =train_test_split(df, test_size=24)\n",
    "tree=decision_tree_algorithm(train_df,max_depth=3)\n",
    "accuracy=calculate_accuracy(test_df,tree)\n",
    "\n",
    "pprint(tree)\n",
    "print(accuracy)"
   ]
  },
  {
   "cell_type": "code",
   "execution_count": 225,
   "metadata": {},
   "outputs": [
    {
     "data": {
      "text/html": [
       "<div>\n",
       "<style scoped>\n",
       "    .dataframe tbody tr th:only-of-type {\n",
       "        vertical-align: middle;\n",
       "    }\n",
       "\n",
       "    .dataframe tbody tr th {\n",
       "        vertical-align: top;\n",
       "    }\n",
       "\n",
       "    .dataframe thead th {\n",
       "        text-align: right;\n",
       "    }\n",
       "</style>\n",
       "<table border=\"1\" class=\"dataframe\">\n",
       "  <thead>\n",
       "    <tr style=\"text-align: right;\">\n",
       "      <th></th>\n",
       "      <th>community</th>\n",
       "      <th>age</th>\n",
       "      <th>weight</th>\n",
       "      <th>history</th>\n",
       "      <th>Hb</th>\n",
       "      <th>IFA</th>\n",
       "      <th>BP</th>\n",
       "      <th>res</th>\n",
       "      <th>label</th>\n",
       "    </tr>\n",
       "  </thead>\n",
       "  <tbody>\n",
       "    <tr>\n",
       "      <td>0</td>\n",
       "      <td>1</td>\n",
       "      <td>26</td>\n",
       "      <td>37</td>\n",
       "      <td>1</td>\n",
       "      <td>5.9</td>\n",
       "      <td>1</td>\n",
       "      <td>1.444444</td>\n",
       "      <td>1</td>\n",
       "      <td>0</td>\n",
       "    </tr>\n",
       "    <tr>\n",
       "      <td>1</td>\n",
       "      <td>1</td>\n",
       "      <td>21</td>\n",
       "      <td>42</td>\n",
       "      <td>1</td>\n",
       "      <td>9.2</td>\n",
       "      <td>1</td>\n",
       "      <td>1.375000</td>\n",
       "      <td>1</td>\n",
       "      <td>0</td>\n",
       "    </tr>\n",
       "    <tr>\n",
       "      <td>2</td>\n",
       "      <td>1</td>\n",
       "      <td>21</td>\n",
       "      <td>36</td>\n",
       "      <td>1</td>\n",
       "      <td>8.8</td>\n",
       "      <td>1</td>\n",
       "      <td>1.500000</td>\n",
       "      <td>1</td>\n",
       "      <td>0</td>\n",
       "    </tr>\n",
       "    <tr>\n",
       "      <td>3</td>\n",
       "      <td>1</td>\n",
       "      <td>21</td>\n",
       "      <td>36</td>\n",
       "      <td>1</td>\n",
       "      <td>9.2</td>\n",
       "      <td>1</td>\n",
       "      <td>2.125000</td>\n",
       "      <td>1</td>\n",
       "      <td>0</td>\n",
       "    </tr>\n",
       "    <tr>\n",
       "      <td>4</td>\n",
       "      <td>1</td>\n",
       "      <td>21</td>\n",
       "      <td>36</td>\n",
       "      <td>1</td>\n",
       "      <td>8.0</td>\n",
       "      <td>1</td>\n",
       "      <td>1.375000</td>\n",
       "      <td>1</td>\n",
       "      <td>0</td>\n",
       "    </tr>\n",
       "    <tr>\n",
       "      <td>...</td>\n",
       "      <td>...</td>\n",
       "      <td>...</td>\n",
       "      <td>...</td>\n",
       "      <td>...</td>\n",
       "      <td>...</td>\n",
       "      <td>...</td>\n",
       "      <td>...</td>\n",
       "      <td>...</td>\n",
       "      <td>...</td>\n",
       "    </tr>\n",
       "    <tr>\n",
       "      <td>96</td>\n",
       "      <td>3</td>\n",
       "      <td>21</td>\n",
       "      <td>55</td>\n",
       "      <td>1</td>\n",
       "      <td>9.0</td>\n",
       "      <td>0</td>\n",
       "      <td>1.375000</td>\n",
       "      <td>1</td>\n",
       "      <td>1</td>\n",
       "    </tr>\n",
       "    <tr>\n",
       "      <td>97</td>\n",
       "      <td>3</td>\n",
       "      <td>24</td>\n",
       "      <td>39</td>\n",
       "      <td>6</td>\n",
       "      <td>8.4</td>\n",
       "      <td>0</td>\n",
       "      <td>1.500000</td>\n",
       "      <td>1</td>\n",
       "      <td>1</td>\n",
       "    </tr>\n",
       "    <tr>\n",
       "      <td>98</td>\n",
       "      <td>3</td>\n",
       "      <td>24</td>\n",
       "      <td>50</td>\n",
       "      <td>1</td>\n",
       "      <td>9.1</td>\n",
       "      <td>0</td>\n",
       "      <td>1.375000</td>\n",
       "      <td>1</td>\n",
       "      <td>1</td>\n",
       "    </tr>\n",
       "    <tr>\n",
       "      <td>99</td>\n",
       "      <td>1</td>\n",
       "      <td>24</td>\n",
       "      <td>38</td>\n",
       "      <td>1</td>\n",
       "      <td>9.1</td>\n",
       "      <td>0</td>\n",
       "      <td>1.696758</td>\n",
       "      <td>1</td>\n",
       "      <td>1</td>\n",
       "    </tr>\n",
       "    <tr>\n",
       "      <td>100</td>\n",
       "      <td>3</td>\n",
       "      <td>21</td>\n",
       "      <td>50</td>\n",
       "      <td>1</td>\n",
       "      <td>9.0</td>\n",
       "      <td>1</td>\n",
       "      <td>1.375000</td>\n",
       "      <td>1</td>\n",
       "      <td>1</td>\n",
       "    </tr>\n",
       "  </tbody>\n",
       "</table>\n",
       "<p>101 rows × 9 columns</p>\n",
       "</div>"
      ],
      "text/plain": [
       "     community  age  weight  history   Hb  IFA        BP  res  label\n",
       "0            1   26      37        1  5.9    1  1.444444    1      0\n",
       "1            1   21      42        1  9.2    1  1.375000    1      0\n",
       "2            1   21      36        1  8.8    1  1.500000    1      0\n",
       "3            1   21      36        1  9.2    1  2.125000    1      0\n",
       "4            1   21      36        1  8.0    1  1.375000    1      0\n",
       "..         ...  ...     ...      ...  ...  ...       ...  ...    ...\n",
       "96           3   21      55        1  9.0    0  1.375000    1      1\n",
       "97           3   24      39        6  8.4    0  1.500000    1      1\n",
       "98           3   24      50        1  9.1    0  1.375000    1      1\n",
       "99           1   24      38        1  9.1    0  1.696758    1      1\n",
       "100          3   21      50        1  9.0    1  1.375000    1      1\n",
       "\n",
       "[101 rows x 9 columns]"
      ]
     },
     "execution_count": 225,
     "metadata": {},
     "output_type": "execute_result"
    }
   ],
   "source": [
    "df\n"
   ]
  },
  {
   "cell_type": "code",
   "execution_count": 227,
   "metadata": {},
   "outputs": [
    {
     "data": {
      "text/html": [
       "<div>\n",
       "<style scoped>\n",
       "    .dataframe tbody tr th:only-of-type {\n",
       "        vertical-align: middle;\n",
       "    }\n",
       "\n",
       "    .dataframe tbody tr th {\n",
       "        vertical-align: top;\n",
       "    }\n",
       "\n",
       "    .dataframe thead th {\n",
       "        text-align: right;\n",
       "    }\n",
       "</style>\n",
       "<table border=\"1\" class=\"dataframe\">\n",
       "  <thead>\n",
       "    <tr style=\"text-align: right;\">\n",
       "      <th></th>\n",
       "      <th>community</th>\n",
       "      <th>age</th>\n",
       "      <th>weight</th>\n",
       "      <th>history</th>\n",
       "      <th>Hb</th>\n",
       "      <th>IFA</th>\n",
       "      <th>BP</th>\n",
       "      <th>res</th>\n",
       "      <th>label</th>\n",
       "      <th>classification</th>\n",
       "      <th>classification_correct</th>\n",
       "    </tr>\n",
       "  </thead>\n",
       "  <tbody>\n",
       "    <tr>\n",
       "      <td>82</td>\n",
       "      <td>1</td>\n",
       "      <td>20</td>\n",
       "      <td>46</td>\n",
       "      <td>1</td>\n",
       "      <td>9.0</td>\n",
       "      <td>1</td>\n",
       "      <td>1.714286</td>\n",
       "      <td>1</td>\n",
       "      <td>1</td>\n",
       "      <td>1.0</td>\n",
       "      <td>True</td>\n",
       "    </tr>\n",
       "    <tr>\n",
       "      <td>67</td>\n",
       "      <td>4</td>\n",
       "      <td>21</td>\n",
       "      <td>55</td>\n",
       "      <td>1</td>\n",
       "      <td>8.0</td>\n",
       "      <td>1</td>\n",
       "      <td>1.571429</td>\n",
       "      <td>2</td>\n",
       "      <td>1</td>\n",
       "      <td>1.0</td>\n",
       "      <td>True</td>\n",
       "    </tr>\n",
       "    <tr>\n",
       "      <td>88</td>\n",
       "      <td>3</td>\n",
       "      <td>21</td>\n",
       "      <td>43</td>\n",
       "      <td>1</td>\n",
       "      <td>9.0</td>\n",
       "      <td>1</td>\n",
       "      <td>1.375000</td>\n",
       "      <td>1</td>\n",
       "      <td>1</td>\n",
       "      <td>1.0</td>\n",
       "      <td>True</td>\n",
       "    </tr>\n",
       "    <tr>\n",
       "      <td>75</td>\n",
       "      <td>3</td>\n",
       "      <td>26</td>\n",
       "      <td>44</td>\n",
       "      <td>1</td>\n",
       "      <td>11.0</td>\n",
       "      <td>1</td>\n",
       "      <td>1.571429</td>\n",
       "      <td>1</td>\n",
       "      <td>1</td>\n",
       "      <td>1.0</td>\n",
       "      <td>True</td>\n",
       "    </tr>\n",
       "    <tr>\n",
       "      <td>5</td>\n",
       "      <td>1</td>\n",
       "      <td>24</td>\n",
       "      <td>33</td>\n",
       "      <td>1</td>\n",
       "      <td>9.3</td>\n",
       "      <td>1</td>\n",
       "      <td>1.571000</td>\n",
       "      <td>1</td>\n",
       "      <td>0</td>\n",
       "      <td>0.0</td>\n",
       "      <td>True</td>\n",
       "    </tr>\n",
       "    <tr>\n",
       "      <td>73</td>\n",
       "      <td>3</td>\n",
       "      <td>24</td>\n",
       "      <td>40</td>\n",
       "      <td>1</td>\n",
       "      <td>9.3</td>\n",
       "      <td>1</td>\n",
       "      <td>1.375000</td>\n",
       "      <td>1</td>\n",
       "      <td>1</td>\n",
       "      <td>1.0</td>\n",
       "      <td>True</td>\n",
       "    </tr>\n",
       "    <tr>\n",
       "      <td>13</td>\n",
       "      <td>1</td>\n",
       "      <td>21</td>\n",
       "      <td>32</td>\n",
       "      <td>1</td>\n",
       "      <td>9.0</td>\n",
       "      <td>0</td>\n",
       "      <td>1.736946</td>\n",
       "      <td>1</td>\n",
       "      <td>0</td>\n",
       "      <td>0.0</td>\n",
       "      <td>True</td>\n",
       "    </tr>\n",
       "    <tr>\n",
       "      <td>25</td>\n",
       "      <td>4</td>\n",
       "      <td>24</td>\n",
       "      <td>36</td>\n",
       "      <td>1</td>\n",
       "      <td>9.0</td>\n",
       "      <td>0</td>\n",
       "      <td>1.661538</td>\n",
       "      <td>1</td>\n",
       "      <td>0</td>\n",
       "      <td>0.0</td>\n",
       "      <td>True</td>\n",
       "    </tr>\n",
       "    <tr>\n",
       "      <td>10</td>\n",
       "      <td>4</td>\n",
       "      <td>17</td>\n",
       "      <td>30</td>\n",
       "      <td>1</td>\n",
       "      <td>9.0</td>\n",
       "      <td>0</td>\n",
       "      <td>1.375000</td>\n",
       "      <td>1</td>\n",
       "      <td>0</td>\n",
       "      <td>0.0</td>\n",
       "      <td>True</td>\n",
       "    </tr>\n",
       "    <tr>\n",
       "      <td>38</td>\n",
       "      <td>4</td>\n",
       "      <td>26</td>\n",
       "      <td>65</td>\n",
       "      <td>1</td>\n",
       "      <td>9.0</td>\n",
       "      <td>1</td>\n",
       "      <td>1.375000</td>\n",
       "      <td>2</td>\n",
       "      <td>1</td>\n",
       "      <td>1.0</td>\n",
       "      <td>True</td>\n",
       "    </tr>\n",
       "    <tr>\n",
       "      <td>52</td>\n",
       "      <td>4</td>\n",
       "      <td>26</td>\n",
       "      <td>42</td>\n",
       "      <td>1</td>\n",
       "      <td>9.2</td>\n",
       "      <td>1</td>\n",
       "      <td>1.375000</td>\n",
       "      <td>1</td>\n",
       "      <td>1</td>\n",
       "      <td>1.0</td>\n",
       "      <td>True</td>\n",
       "    </tr>\n",
       "    <tr>\n",
       "      <td>7</td>\n",
       "      <td>4</td>\n",
       "      <td>26</td>\n",
       "      <td>31</td>\n",
       "      <td>1</td>\n",
       "      <td>9.0</td>\n",
       "      <td>1</td>\n",
       "      <td>1.625000</td>\n",
       "      <td>1</td>\n",
       "      <td>0</td>\n",
       "      <td>0.0</td>\n",
       "      <td>True</td>\n",
       "    </tr>\n",
       "    <tr>\n",
       "      <td>32</td>\n",
       "      <td>1</td>\n",
       "      <td>28</td>\n",
       "      <td>60</td>\n",
       "      <td>1</td>\n",
       "      <td>9.0</td>\n",
       "      <td>1</td>\n",
       "      <td>1.375000</td>\n",
       "      <td>1</td>\n",
       "      <td>1</td>\n",
       "      <td>1.0</td>\n",
       "      <td>True</td>\n",
       "    </tr>\n",
       "    <tr>\n",
       "      <td>22</td>\n",
       "      <td>3</td>\n",
       "      <td>26</td>\n",
       "      <td>36</td>\n",
       "      <td>1</td>\n",
       "      <td>9.0</td>\n",
       "      <td>0</td>\n",
       "      <td>5.500000</td>\n",
       "      <td>1</td>\n",
       "      <td>0</td>\n",
       "      <td>0.0</td>\n",
       "      <td>True</td>\n",
       "    </tr>\n",
       "    <tr>\n",
       "      <td>4</td>\n",
       "      <td>1</td>\n",
       "      <td>21</td>\n",
       "      <td>36</td>\n",
       "      <td>1</td>\n",
       "      <td>8.0</td>\n",
       "      <td>1</td>\n",
       "      <td>1.375000</td>\n",
       "      <td>1</td>\n",
       "      <td>0</td>\n",
       "      <td>0.0</td>\n",
       "      <td>True</td>\n",
       "    </tr>\n",
       "    <tr>\n",
       "      <td>39</td>\n",
       "      <td>4</td>\n",
       "      <td>24</td>\n",
       "      <td>48</td>\n",
       "      <td>1</td>\n",
       "      <td>9.6</td>\n",
       "      <td>1</td>\n",
       "      <td>1.333000</td>\n",
       "      <td>2</td>\n",
       "      <td>1</td>\n",
       "      <td>1.0</td>\n",
       "      <td>True</td>\n",
       "    </tr>\n",
       "    <tr>\n",
       "      <td>34</td>\n",
       "      <td>1</td>\n",
       "      <td>24</td>\n",
       "      <td>48</td>\n",
       "      <td>1</td>\n",
       "      <td>9.0</td>\n",
       "      <td>1</td>\n",
       "      <td>1.375000</td>\n",
       "      <td>1</td>\n",
       "      <td>1</td>\n",
       "      <td>1.0</td>\n",
       "      <td>True</td>\n",
       "    </tr>\n",
       "    <tr>\n",
       "      <td>48</td>\n",
       "      <td>1</td>\n",
       "      <td>21</td>\n",
       "      <td>40</td>\n",
       "      <td>1</td>\n",
       "      <td>9.2</td>\n",
       "      <td>1</td>\n",
       "      <td>1.571000</td>\n",
       "      <td>1</td>\n",
       "      <td>1</td>\n",
       "      <td>1.0</td>\n",
       "      <td>True</td>\n",
       "    </tr>\n",
       "    <tr>\n",
       "      <td>59</td>\n",
       "      <td>4</td>\n",
       "      <td>27</td>\n",
       "      <td>49</td>\n",
       "      <td>1</td>\n",
       "      <td>9.4</td>\n",
       "      <td>1</td>\n",
       "      <td>1.666667</td>\n",
       "      <td>1</td>\n",
       "      <td>1</td>\n",
       "      <td>1.0</td>\n",
       "      <td>True</td>\n",
       "    </tr>\n",
       "    <tr>\n",
       "      <td>65</td>\n",
       "      <td>1</td>\n",
       "      <td>21</td>\n",
       "      <td>40</td>\n",
       "      <td>1</td>\n",
       "      <td>7.9</td>\n",
       "      <td>0</td>\n",
       "      <td>1.666667</td>\n",
       "      <td>1</td>\n",
       "      <td>1</td>\n",
       "      <td>1.0</td>\n",
       "      <td>True</td>\n",
       "    </tr>\n",
       "    <tr>\n",
       "      <td>84</td>\n",
       "      <td>3</td>\n",
       "      <td>24</td>\n",
       "      <td>60</td>\n",
       "      <td>1</td>\n",
       "      <td>9.2</td>\n",
       "      <td>1</td>\n",
       "      <td>1.714286</td>\n",
       "      <td>1</td>\n",
       "      <td>1</td>\n",
       "      <td>1.0</td>\n",
       "      <td>True</td>\n",
       "    </tr>\n",
       "    <tr>\n",
       "      <td>80</td>\n",
       "      <td>1</td>\n",
       "      <td>24</td>\n",
       "      <td>43</td>\n",
       "      <td>1</td>\n",
       "      <td>9.0</td>\n",
       "      <td>1</td>\n",
       "      <td>1.666667</td>\n",
       "      <td>2</td>\n",
       "      <td>1</td>\n",
       "      <td>1.0</td>\n",
       "      <td>True</td>\n",
       "    </tr>\n",
       "    <tr>\n",
       "      <td>100</td>\n",
       "      <td>3</td>\n",
       "      <td>21</td>\n",
       "      <td>50</td>\n",
       "      <td>1</td>\n",
       "      <td>9.0</td>\n",
       "      <td>1</td>\n",
       "      <td>1.375000</td>\n",
       "      <td>1</td>\n",
       "      <td>1</td>\n",
       "      <td>1.0</td>\n",
       "      <td>True</td>\n",
       "    </tr>\n",
       "    <tr>\n",
       "      <td>49</td>\n",
       "      <td>3</td>\n",
       "      <td>25</td>\n",
       "      <td>45</td>\n",
       "      <td>1</td>\n",
       "      <td>9.3</td>\n",
       "      <td>1</td>\n",
       "      <td>1.375000</td>\n",
       "      <td>1</td>\n",
       "      <td>1</td>\n",
       "      <td>1.0</td>\n",
       "      <td>True</td>\n",
       "    </tr>\n",
       "  </tbody>\n",
       "</table>\n",
       "</div>"
      ],
      "text/plain": [
       "     community  age  weight  history    Hb  IFA        BP  res  label  \\\n",
       "82           1   20      46        1   9.0    1  1.714286    1      1   \n",
       "67           4   21      55        1   8.0    1  1.571429    2      1   \n",
       "88           3   21      43        1   9.0    1  1.375000    1      1   \n",
       "75           3   26      44        1  11.0    1  1.571429    1      1   \n",
       "5            1   24      33        1   9.3    1  1.571000    1      0   \n",
       "73           3   24      40        1   9.3    1  1.375000    1      1   \n",
       "13           1   21      32        1   9.0    0  1.736946    1      0   \n",
       "25           4   24      36        1   9.0    0  1.661538    1      0   \n",
       "10           4   17      30        1   9.0    0  1.375000    1      0   \n",
       "38           4   26      65        1   9.0    1  1.375000    2      1   \n",
       "52           4   26      42        1   9.2    1  1.375000    1      1   \n",
       "7            4   26      31        1   9.0    1  1.625000    1      0   \n",
       "32           1   28      60        1   9.0    1  1.375000    1      1   \n",
       "22           3   26      36        1   9.0    0  5.500000    1      0   \n",
       "4            1   21      36        1   8.0    1  1.375000    1      0   \n",
       "39           4   24      48        1   9.6    1  1.333000    2      1   \n",
       "34           1   24      48        1   9.0    1  1.375000    1      1   \n",
       "48           1   21      40        1   9.2    1  1.571000    1      1   \n",
       "59           4   27      49        1   9.4    1  1.666667    1      1   \n",
       "65           1   21      40        1   7.9    0  1.666667    1      1   \n",
       "84           3   24      60        1   9.2    1  1.714286    1      1   \n",
       "80           1   24      43        1   9.0    1  1.666667    2      1   \n",
       "100          3   21      50        1   9.0    1  1.375000    1      1   \n",
       "49           3   25      45        1   9.3    1  1.375000    1      1   \n",
       "\n",
       "     classification  classification_correct  \n",
       "82              1.0                    True  \n",
       "67              1.0                    True  \n",
       "88              1.0                    True  \n",
       "75              1.0                    True  \n",
       "5               0.0                    True  \n",
       "73              1.0                    True  \n",
       "13              0.0                    True  \n",
       "25              0.0                    True  \n",
       "10              0.0                    True  \n",
       "38              1.0                    True  \n",
       "52              1.0                    True  \n",
       "7               0.0                    True  \n",
       "32              1.0                    True  \n",
       "22              0.0                    True  \n",
       "4               0.0                    True  \n",
       "39              1.0                    True  \n",
       "34              1.0                    True  \n",
       "48              1.0                    True  \n",
       "59              1.0                    True  \n",
       "65              1.0                    True  \n",
       "84              1.0                    True  \n",
       "80              1.0                    True  \n",
       "100             1.0                    True  \n",
       "49              1.0                    True  "
      ]
     },
     "execution_count": 227,
     "metadata": {},
     "output_type": "execute_result"
    }
   ],
   "source": [
    "test_df"
   ]
  },
  {
   "cell_type": "code",
   "execution_count": null,
   "metadata": {},
   "outputs": [],
   "source": []
  }
 ],
 "metadata": {
  "kernelspec": {
   "display_name": "Python 3",
   "language": "python",
   "name": "python3"
  },
  "language_info": {
   "codemirror_mode": {
    "name": "ipython",
    "version": 3
   },
   "file_extension": ".py",
   "mimetype": "text/x-python",
   "name": "python",
   "nbconvert_exporter": "python",
   "pygments_lexer": "ipython3",
   "version": "3.7.4"
  }
 },
 "nbformat": 4,
 "nbformat_minor": 4
}
